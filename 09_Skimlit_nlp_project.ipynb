{
  "nbformat": 4,
  "nbformat_minor": 0,
  "metadata": {
    "colab": {
      "name": "09_Skimlit_nlp_project.ipynb",
      "provenance": [],
      "collapsed_sections": []
    },
    "kernelspec": {
      "name": "python3",
      "display_name": "Python 3"
    },
    "language_info": {
      "name": "python"
    },
    "accelerator": "GPU",
    "gpuClass": "standard"
  },
  "cells": [
    {
      "cell_type": "markdown",
      "source": [
        "# Project: SkimLit📄🔥\n",
        "\n",
        "The purpose of this notebook is to build an NLP model to make reading medical abstract easier.\n",
        "\n",
        "The paper we're replicating (the source of the dataset we'll be using ) is available at:  https://arxiv.org/abs/1710.06071\n",
        "\n",
        "\n",
        "\n",
        "And reading through the paper above, we see that the model architecture that they use to achieve their best results is available here: https://arxiv.org/abs/1612.05251\n"
      ],
      "metadata": {
        "id": "To1Vh972kmS-"
      }
    },
    {
      "cell_type": "markdown",
      "source": [
        "## Confirm access to a GPU"
      ],
      "metadata": {
        "id": "eQmCnQs3l5zo"
      }
    },
    {
      "cell_type": "code",
      "source": [
        "!nvidia-smi -L"
      ],
      "metadata": {
        "colab": {
          "base_uri": "https://localhost:8080/"
        },
        "id": "i-r0X7TemB86",
        "outputId": "b3b398e1-81bd-4991-93d9-85eaa163fcee"
      },
      "execution_count": null,
      "outputs": [
        {
          "output_type": "stream",
          "name": "stdout",
          "text": [
            "GPU 0: Tesla T4 (UUID: GPU-82b0126d-e9ee-177d-b51e-3165a373b482)\n"
          ]
        }
      ]
    },
    {
      "cell_type": "markdown",
      "source": [
        "## Get the data\n",
        "\n",
        "Since we'll be replicating the paper above (PubMed 200k RCT), let's download the dataset they used.\n",
        "\n",
        "We can doso from the authors GitHub: https://github.com/Franck-Dernoncourt/pubmed-rct"
      ],
      "metadata": {
        "id": "UttCHHzxmFUA"
      }
    },
    {
      "cell_type": "code",
      "source": [
        "# !git clone https://github.com/Franck-Dernoncourt/pubmed-rct\n",
        "# !ls pubmed-rct"
      ],
      "metadata": {
        "id": "o3Wte__hmoHE"
      },
      "execution_count": null,
      "outputs": []
    },
    {
      "cell_type": "code",
      "source": [
        "# Check what files are in the PubMed_20k dataset\n",
        "# !ls /content/pubmed-rct/PubMed_20k_RCT_numbers_replaced_with_at_sign/"
      ],
      "metadata": {
        "id": "EMssoq_3mwDC"
      },
      "execution_count": null,
      "outputs": []
    },
    {
      "cell_type": "code",
      "source": [
        "# Start our experiments using 20k datasets with numbers replaced by \"@\" sign\n",
        "data_dir = \"/content/drive/MyDrive/pubmed-rct/PubMed_20k_RCT_numbers_replaced_with_at_sign/\""
      ],
      "metadata": {
        "id": "XZkQrTeanVtq"
      },
      "execution_count": null,
      "outputs": []
    },
    {
      "cell_type": "code",
      "source": [
        "# check all of the filenames in the directory \n",
        "import os\n",
        "filenames = [data_dir + filename for filename in os.listdir(data_dir)]\n",
        "filenames"
      ],
      "metadata": {
        "colab": {
          "base_uri": "https://localhost:8080/"
        },
        "id": "EO9V8ElsorJQ",
        "outputId": "9da35b9f-5029-4bc7-cdda-3aa03c3f6041"
      },
      "execution_count": null,
      "outputs": [
        {
          "output_type": "execute_result",
          "data": {
            "text/plain": [
              "['/content/drive/MyDrive/pubmed-rct/PubMed_20k_RCT_numbers_replaced_with_at_sign/train.txt',\n",
              " '/content/drive/MyDrive/pubmed-rct/PubMed_20k_RCT_numbers_replaced_with_at_sign/dev.txt',\n",
              " '/content/drive/MyDrive/pubmed-rct/PubMed_20k_RCT_numbers_replaced_with_at_sign/test.txt']"
            ]
          },
          "metadata": {},
          "execution_count": 3
        }
      ]
    },
    {
      "cell_type": "markdown",
      "source": [
        "## Preprocess data\n",
        "\n",
        "Now we've got some text data , it's time to becoe one with it.\n",
        "\n",
        "And one of the best ways to become one with the data is to visualize"
      ],
      "metadata": {
        "id": "E6lkyBAso9oD"
      }
    },
    {
      "cell_type": "code",
      "source": [
        "# Create function to read the lines of a document\n",
        "def get_lines(filename):\n",
        "  \"\"\"\n",
        "  Reads filename (a text filename) and returns the lines pof text as a list.\n",
        "\n",
        "  Args:\n",
        "    filename: a string containing the target filepath\n",
        "\n",
        "  Returns:\n",
        "    A list of strings with one string per line from the target filename.\n",
        "  \"\"\"\n",
        "  with open(filename ,\"r\") as f:\n",
        "    return f.readlines()"
      ],
      "metadata": {
        "id": "1P1jnoIxpggS"
      },
      "execution_count": null,
      "outputs": []
    },
    {
      "cell_type": "code",
      "source": [
        "# Let's read in the training lines\n",
        "train_lines = get_lines(data_dir + \"train.txt\")\n",
        "train_lines[:27]"
      ],
      "metadata": {
        "colab": {
          "base_uri": "https://localhost:8080/"
        },
        "id": "_uXi_hBnqONZ",
        "outputId": "0031753a-3532-45b5-a559-9600d0e9e397"
      },
      "execution_count": null,
      "outputs": [
        {
          "output_type": "execute_result",
          "data": {
            "text/plain": [
              "['###24293578\\n',\n",
              " 'OBJECTIVE\\tTo investigate the efficacy of @ weeks of daily low-dose oral prednisolone in improving pain , mobility , and systemic low-grade inflammation in the short term and whether the effect would be sustained at @ weeks in older adults with moderate to severe knee osteoarthritis ( OA ) .\\n',\n",
              " 'METHODS\\tA total of @ patients with primary knee OA were randomized @:@ ; @ received @ mg/day of prednisolone and @ received placebo for @ weeks .\\n',\n",
              " 'METHODS\\tOutcome measures included pain reduction and improvement in function scores and systemic inflammation markers .\\n',\n",
              " 'METHODS\\tPain was assessed using the visual analog pain scale ( @-@ mm ) .\\n',\n",
              " 'METHODS\\tSecondary outcome measures included the Western Ontario and McMaster Universities Osteoarthritis Index scores , patient global assessment ( PGA ) of the severity of knee OA , and @-min walk distance ( @MWD ) .\\n',\n",
              " 'METHODS\\tSerum levels of interleukin @ ( IL-@ ) , IL-@ , tumor necrosis factor ( TNF ) - , and high-sensitivity C-reactive protein ( hsCRP ) were measured .\\n',\n",
              " 'RESULTS\\tThere was a clinically relevant reduction in the intervention group compared to the placebo group for knee pain , physical function , PGA , and @MWD at @ weeks .\\n',\n",
              " 'RESULTS\\tThe mean difference between treatment arms ( @ % CI ) was @ ( @-@ @ ) , p < @ ; @ ( @-@ @ ) , p < @ ; @ ( @-@ @ ) , p < @ ; and @ ( @-@ @ ) , p < @ , respectively .\\n',\n",
              " 'RESULTS\\tFurther , there was a clinically relevant reduction in the serum levels of IL-@ , IL-@ , TNF - , and hsCRP at @ weeks in the intervention group when compared to the placebo group .\\n',\n",
              " 'RESULTS\\tThese differences remained significant at @ weeks .\\n',\n",
              " 'RESULTS\\tThe Outcome Measures in Rheumatology Clinical Trials-Osteoarthritis Research Society International responder rate was @ % in the intervention group and @ % in the placebo group ( p < @ ) .\\n',\n",
              " 'CONCLUSIONS\\tLow-dose oral prednisolone had both a short-term and a longer sustained effect resulting in less knee pain , better physical function , and attenuation of systemic inflammation in older patients with knee OA ( ClinicalTrials.gov identifier NCT@ ) .\\n',\n",
              " '\\n',\n",
              " '###24854809\\n',\n",
              " 'BACKGROUND\\tEmotional eating is associated with overeating and the development of obesity .\\n',\n",
              " 'BACKGROUND\\tYet , empirical evidence for individual ( trait ) differences in emotional eating and cognitive mechanisms that contribute to eating during sad mood remain equivocal .\\n',\n",
              " 'OBJECTIVE\\tThe aim of this study was to test if attention bias for food moderates the effect of self-reported emotional eating during sad mood ( vs neutral mood ) on actual food intake .\\n',\n",
              " 'OBJECTIVE\\tIt was expected that emotional eating is predictive of elevated attention for food and higher food intake after an experimentally induced sad mood and that attentional maintenance on food predicts food intake during a sad versus a neutral mood .\\n',\n",
              " 'METHODS\\tParticipants ( N = @ ) were randomly assigned to one of the two experimental mood induction conditions ( sad/neutral ) .\\n',\n",
              " 'METHODS\\tAttentional biases for high caloric foods were measured by eye tracking during a visual probe task with pictorial food and neutral stimuli .\\n',\n",
              " 'METHODS\\tSelf-reported emotional eating was assessed with the Dutch Eating Behavior Questionnaire ( DEBQ ) and ad libitum food intake was tested by a disguised food offer .\\n',\n",
              " 'RESULTS\\tHierarchical multivariate regression modeling showed that self-reported emotional eating did not account for changes in attention allocation for food or food intake in either condition .\\n',\n",
              " 'RESULTS\\tYet , attention maintenance on food cues was significantly related to increased intake specifically in the neutral condition , but not in the sad mood condition .\\n',\n",
              " 'CONCLUSIONS\\tThe current findings show that self-reported emotional eating ( based on the DEBQ ) might not validly predict who overeats when sad , at least not in a laboratory setting with healthy women .\\n',\n",
              " 'CONCLUSIONS\\tResults further suggest that attention maintenance on food relates to eating motivation when in a neutral affective state , and might therefore be a cognitive mechanism contributing to increased food intake in general , but maybe not during sad mood .\\n',\n",
              " '\\n']"
            ]
          },
          "metadata": {},
          "execution_count": 7
        }
      ]
    },
    {
      "cell_type": "code",
      "source": [
        "test_lines = get_lines(data_dir + \"test.txt\")\n",
        "test_lines[:20]"
      ],
      "metadata": {
        "colab": {
          "base_uri": "https://localhost:8080/"
        },
        "id": "VPLno-6QRpFX",
        "outputId": "866ca69a-fd6e-471d-f634-57edf680691c"
      },
      "execution_count": null,
      "outputs": [
        {
          "output_type": "execute_result",
          "data": {
            "text/plain": [
              "['###24845963\\n',\n",
              " 'BACKGROUND\\tThis study analyzed liver function abnormalities in heart failure patients admitted with severe acute decompensated heart failure ( ADHF ) .\\n',\n",
              " 'RESULTS\\tA post hoc analysis was conducted with the use of data from the Evaluation Study of Congestive Heart Failure and Pulmonary Artery Catheterization Effectiveness ( ESCAPE ) .\\n',\n",
              " 'RESULTS\\tLiver function tests ( LFTs ) were measured at @ time points from baseline , at discharge , and up to @ months follow-up .\\n',\n",
              " 'RESULTS\\tSurvival analyses were used to assess the association between admission Model of End-Stage Liver Disease Excluding International Normalized Ratio ( MELD-XI ) scores and patient outcome.There was a high prevalence of abnormal baseline ( admission ) LFTs ( albumin @ % , aspartate transaminase @ % , alanine transaminase @ % , and total bilirubin @ % ) .\\n',\n",
              " \"RESULTS\\tThe percentage of patients with abnormal LFTs decreased significantly from baseline to @-months ' follow-up .\\n\",\n",
              " 'RESULTS\\tWhen mean hemodynamic profiles were compared in patients with abnormal versus normal LFTs , elevated total bilirubin was associated with a significantly lower cardiac index ( @ vs @ ; P < @ ) and higher central venous pressure ( @ vs @ ; P = @ ) .\\n',\n",
              " 'RESULTS\\tMultivariable analyses revealed that patients with elevated MELD-XI scores ( @ ) had a @-fold ( hazard ratio@ @ , @ % confidence interval @-@ @ ) increased risk of death , rehospitalization , or transplantation after adjusting for baseline LFTs , age , sex , race , body mass index , diabetes , and systolic blood pressure .\\n',\n",
              " 'CONCLUSIONS\\tAbnormal LFTs are common in the ADHF population and are a dynamic marker of an impaired hemodynamic state .\\n',\n",
              " 'CONCLUSIONS\\tElevated MELD-XI scores are associated with poor outcomes among patients admitted with ADHF .\\n',\n",
              " '\\n',\n",
              " '###24469619\\n',\n",
              " 'BACKGROUND\\tMinimally invasive endovascular aneurysm repair ( EVAR ) could be a surgical technique that improves outcome of patients with ruptured abdominal aortic aneurysm ( rAAA ) .\\n',\n",
              " 'BACKGROUND\\tThe aim of this study was to analyse the cost-effectiveness and cost-utility of EVAR compared with standard open repair ( OR ) in the treatment of rAAA , with costs per @-day and @-month survivor as outcome parameters .\\n',\n",
              " 'METHODS\\tResource use was determined from the Amsterdam Acute Aneurysm ( AJAX ) trial , a multicentre randomized trial comparing EVAR with OR in patients with rAAA .\\n',\n",
              " 'METHODS\\tThe analysis was performed from a provider perspective .\\n',\n",
              " 'METHODS\\tAll costs were calculated as if all patients had been treated in the same hospital ( Onze Lieve Vrouwe Gasthuis , teaching hospital ) .\\n',\n",
              " 'RESULTS\\tA total of @ patients were randomized .\\n',\n",
              " 'RESULTS\\tThe @-day mortality rate was @ per cent after EVAR and @ per cent for OR : absolute risk reduction ( ARR ) @ ( @ per cent confidence interval ( c.i. ) -@ to @ ) per cent .\\n',\n",
              " 'RESULTS\\tAt @months , the total mortality rate for EVAR was @ per cent , compared with @ per cent among those assigned to OR : ARR @ ( -@ to @ ) per cent .\\n']"
            ]
          },
          "metadata": {},
          "execution_count": 8
        }
      ]
    },
    {
      "cell_type": "markdown",
      "source": [
        " Let's think about how we want our data to look.\n",
        "\n",
        " How I think our data would be best represented..\n",
        " \n",
        "    '''\n",
        "    [{'line_number': 0,\n",
        "    'target':'Background',\n",
        "    'text':'Emotional eating is associated with overeating and the development of obesity .\\n',\n",
        "    'total_lines':11}...]\n",
        "    '''\n"
      ],
      "metadata": {
        "id": "D0Y0VdJpqbwD"
      }
    },
    {
      "cell_type": "markdown",
      "source": [
        "Let's write a function which turns each of our datasets into the above format so that we can continue to prepare pur data for modelling"
      ],
      "metadata": {
        "id": "lM3F79LvrDcg"
      }
    },
    {
      "cell_type": "code",
      "source": [
        "def preprocess_text_with_line_numbers(filename):\n",
        "  \"\"\"\n",
        "  Returns a lsit of dictionaries of abstract line data.\n",
        "\n",
        "  Takes in filename , reads it contents and sorts through each line ,\n",
        "  extracting things like the target label , the text of the sentence,\n",
        "  how many sentence are in the  current abstract and what sentence number the target line is.\n",
        "  \"\"\"\n",
        "  input_lines = get_lines(filename) # get all the lines from filename\n",
        "  abstract_lines = \"\" # Create an empty abstract\n",
        "  abstract_samples = [] # Create an empty list of abstract\n",
        "\n",
        "  # Loop through each line in the target file\n",
        "  for line in input_lines:\n",
        "    if line.startswith(\"###\"): # Check to see if the line is an ID line\n",
        "       abstract_id = line\n",
        "       abstract_lines = \"\" # reset the abstract line if the line is an ID\n",
        "    elif line.isspace(): # check to see if line is a new line\n",
        "       abstract_line_split = abstract_lines.splitlines() # split abstract into separate lines\n",
        "\n",
        "\n",
        "       # Iterate through each line in a single abstract and count them at the same time\n",
        "       for abstract_line_number , abstract_line in enumerate(abstract_line_split):\n",
        "         line_data = {} # Create an empty dictionary for each line\n",
        "         target_text_split = abstract_line.split(\"\\t\") # Split the target label from the label\n",
        "         line_data[\"target\"] = target_text_split[0] # get the target label\n",
        "         line_data[\"text\"] = target_text_split[1].lower() # get target text and lower it\n",
        "         line_data[\"line_number\"] = abstract_line_number # What number line does the line appears in the text data\n",
        "         line_data[\"total_lines\"] = len(abstract_line_split) -1 # how many total lines are there \n",
        "         abstract_samples.append(line_data)\n",
        "    else: # if the above condition aren't fullfilled , the line contains a labelled sentence\n",
        "      abstract_lines +=line\n",
        "  return abstract_samples\n",
        "      "
      ],
      "metadata": {
        "id": "WjJVQv71PLqf"
      },
      "execution_count": null,
      "outputs": []
    },
    {
      "cell_type": "code",
      "source": [
        "# Get data from file and preprocess it\n",
        "%%time\n",
        "train_samples = preprocess_text_with_line_numbers(data_dir + \"train.txt\")\n",
        "val_samples = preprocess_text_with_line_numbers(data_dir + \"dev.txt\")\n",
        "test_samples = preprocess_text_with_line_numbers(data_dir + \"test.txt\")"
      ],
      "metadata": {
        "colab": {
          "base_uri": "https://localhost:8080/"
        },
        "id": "GZ-7ZQxATalR",
        "outputId": "a8a6e704-131d-4535-939b-92a64a254ea2"
      },
      "execution_count": null,
      "outputs": [
        {
          "output_type": "stream",
          "name": "stdout",
          "text": [
            "CPU times: user 429 ms, sys: 93 ms, total: 522 ms\n",
            "Wall time: 2.65 s\n"
          ]
        }
      ]
    },
    {
      "cell_type": "code",
      "source": [
        "train_samples[:10]"
      ],
      "metadata": {
        "colab": {
          "base_uri": "https://localhost:8080/"
        },
        "id": "CxDYvKevT1uk",
        "outputId": "f4cf1ead-ccee-4d90-ec7b-0c5d11e52fdd"
      },
      "execution_count": null,
      "outputs": [
        {
          "output_type": "execute_result",
          "data": {
            "text/plain": [
              "[{'line_number': 0,\n",
              "  'target': 'OBJECTIVE',\n",
              "  'text': 'to investigate the efficacy of @ weeks of daily low-dose oral prednisolone in improving pain , mobility , and systemic low-grade inflammation in the short term and whether the effect would be sustained at @ weeks in older adults with moderate to severe knee osteoarthritis ( oa ) .',\n",
              "  'total_lines': 11},\n",
              " {'line_number': 1,\n",
              "  'target': 'METHODS',\n",
              "  'text': 'a total of @ patients with primary knee oa were randomized @:@ ; @ received @ mg/day of prednisolone and @ received placebo for @ weeks .',\n",
              "  'total_lines': 11},\n",
              " {'line_number': 2,\n",
              "  'target': 'METHODS',\n",
              "  'text': 'outcome measures included pain reduction and improvement in function scores and systemic inflammation markers .',\n",
              "  'total_lines': 11},\n",
              " {'line_number': 3,\n",
              "  'target': 'METHODS',\n",
              "  'text': 'pain was assessed using the visual analog pain scale ( @-@ mm ) .',\n",
              "  'total_lines': 11},\n",
              " {'line_number': 4,\n",
              "  'target': 'METHODS',\n",
              "  'text': 'secondary outcome measures included the western ontario and mcmaster universities osteoarthritis index scores , patient global assessment ( pga ) of the severity of knee oa , and @-min walk distance ( @mwd ) .',\n",
              "  'total_lines': 11},\n",
              " {'line_number': 5,\n",
              "  'target': 'METHODS',\n",
              "  'text': 'serum levels of interleukin @ ( il-@ ) , il-@ , tumor necrosis factor ( tnf ) - , and high-sensitivity c-reactive protein ( hscrp ) were measured .',\n",
              "  'total_lines': 11},\n",
              " {'line_number': 6,\n",
              "  'target': 'RESULTS',\n",
              "  'text': 'there was a clinically relevant reduction in the intervention group compared to the placebo group for knee pain , physical function , pga , and @mwd at @ weeks .',\n",
              "  'total_lines': 11},\n",
              " {'line_number': 7,\n",
              "  'target': 'RESULTS',\n",
              "  'text': 'the mean difference between treatment arms ( @ % ci ) was @ ( @-@ @ ) , p < @ ; @ ( @-@ @ ) , p < @ ; @ ( @-@ @ ) , p < @ ; and @ ( @-@ @ ) , p < @ , respectively .',\n",
              "  'total_lines': 11},\n",
              " {'line_number': 8,\n",
              "  'target': 'RESULTS',\n",
              "  'text': 'further , there was a clinically relevant reduction in the serum levels of il-@ , il-@ , tnf - , and hscrp at @ weeks in the intervention group when compared to the placebo group .',\n",
              "  'total_lines': 11},\n",
              " {'line_number': 9,\n",
              "  'target': 'RESULTS',\n",
              "  'text': 'these differences remained significant at @ weeks .',\n",
              "  'total_lines': 11}]"
            ]
          },
          "metadata": {},
          "execution_count": 10
        }
      ]
    },
    {
      "cell_type": "code",
      "source": [
        "test_samples[:10]"
      ],
      "metadata": {
        "colab": {
          "base_uri": "https://localhost:8080/"
        },
        "id": "6kQgTJ_uRgiZ",
        "outputId": "39fa1e31-e329-4695-f5f5-2516fba2fbd2"
      },
      "execution_count": null,
      "outputs": [
        {
          "output_type": "execute_result",
          "data": {
            "text/plain": [
              "[{'line_number': 0,\n",
              "  'target': 'BACKGROUND',\n",
              "  'text': 'this study analyzed liver function abnormalities in heart failure patients admitted with severe acute decompensated heart failure ( adhf ) .',\n",
              "  'total_lines': 8},\n",
              " {'line_number': 1,\n",
              "  'target': 'RESULTS',\n",
              "  'text': 'a post hoc analysis was conducted with the use of data from the evaluation study of congestive heart failure and pulmonary artery catheterization effectiveness ( escape ) .',\n",
              "  'total_lines': 8},\n",
              " {'line_number': 2,\n",
              "  'target': 'RESULTS',\n",
              "  'text': 'liver function tests ( lfts ) were measured at @ time points from baseline , at discharge , and up to @ months follow-up .',\n",
              "  'total_lines': 8},\n",
              " {'line_number': 3,\n",
              "  'target': 'RESULTS',\n",
              "  'text': 'survival analyses were used to assess the association between admission model of end-stage liver disease excluding international normalized ratio ( meld-xi ) scores and patient outcome.there was a high prevalence of abnormal baseline ( admission ) lfts ( albumin @ % , aspartate transaminase @ % , alanine transaminase @ % , and total bilirubin @ % ) .',\n",
              "  'total_lines': 8},\n",
              " {'line_number': 4,\n",
              "  'target': 'RESULTS',\n",
              "  'text': \"the percentage of patients with abnormal lfts decreased significantly from baseline to @-months ' follow-up .\",\n",
              "  'total_lines': 8},\n",
              " {'line_number': 5,\n",
              "  'target': 'RESULTS',\n",
              "  'text': 'when mean hemodynamic profiles were compared in patients with abnormal versus normal lfts , elevated total bilirubin was associated with a significantly lower cardiac index ( @ vs @ ; p < @ ) and higher central venous pressure ( @ vs @ ; p = @ ) .',\n",
              "  'total_lines': 8},\n",
              " {'line_number': 6,\n",
              "  'target': 'RESULTS',\n",
              "  'text': 'multivariable analyses revealed that patients with elevated meld-xi scores ( @ ) had a @-fold ( hazard ratio@ @ , @ % confidence interval @-@ @ ) increased risk of death , rehospitalization , or transplantation after adjusting for baseline lfts , age , sex , race , body mass index , diabetes , and systolic blood pressure .',\n",
              "  'total_lines': 8},\n",
              " {'line_number': 7,\n",
              "  'target': 'CONCLUSIONS',\n",
              "  'text': 'abnormal lfts are common in the adhf population and are a dynamic marker of an impaired hemodynamic state .',\n",
              "  'total_lines': 8},\n",
              " {'line_number': 8,\n",
              "  'target': 'CONCLUSIONS',\n",
              "  'text': 'elevated meld-xi scores are associated with poor outcomes among patients admitted with adhf .',\n",
              "  'total_lines': 8},\n",
              " {'line_number': 0,\n",
              "  'target': 'BACKGROUND',\n",
              "  'text': 'minimally invasive endovascular aneurysm repair ( evar ) could be a surgical technique that improves outcome of patients with ruptured abdominal aortic aneurysm ( raaa ) .',\n",
              "  'total_lines': 12}]"
            ]
          },
          "metadata": {},
          "execution_count": 7
        }
      ]
    },
    {
      "cell_type": "code",
      "source": [
        "len(train_samples)"
      ],
      "metadata": {
        "colab": {
          "base_uri": "https://localhost:8080/"
        },
        "id": "SXV6wzFCT7qB",
        "outputId": "182bb441-a67f-42a9-a54c-6a711d010eb6"
      },
      "execution_count": null,
      "outputs": [
        {
          "output_type": "execute_result",
          "data": {
            "text/plain": [
              "180040"
            ]
          },
          "metadata": {},
          "execution_count": 11
        }
      ]
    },
    {
      "cell_type": "code",
      "source": [
        "import pandas as pd\n",
        "train_df = pd.DataFrame(train_samples)\n",
        "val_df = pd.DataFrame(val_samples)\n",
        "test_df = pd.DataFrame(test_samples)"
      ],
      "metadata": {
        "id": "PNma2m_dUF6M"
      },
      "execution_count": null,
      "outputs": []
    },
    {
      "cell_type": "code",
      "source": [
        "train_df.head(14)"
      ],
      "metadata": {
        "id": "6qYqKsoXUjGX",
        "colab": {
          "base_uri": "https://localhost:8080/",
          "height": 488
        },
        "outputId": "ef3ec9e4-9d22-40db-e2a3-62f164e36d07"
      },
      "execution_count": null,
      "outputs": [
        {
          "output_type": "execute_result",
          "data": {
            "text/plain": [
              "         target                                               text  \\\n",
              "0     OBJECTIVE  to investigate the efficacy of @ weeks of dail...   \n",
              "1       METHODS  a total of @ patients with primary knee oa wer...   \n",
              "2       METHODS  outcome measures included pain reduction and i...   \n",
              "3       METHODS  pain was assessed using the visual analog pain...   \n",
              "4       METHODS  secondary outcome measures included the wester...   \n",
              "5       METHODS  serum levels of interleukin @ ( il-@ ) , il-@ ...   \n",
              "6       RESULTS  there was a clinically relevant reduction in t...   \n",
              "7       RESULTS  the mean difference between treatment arms ( @...   \n",
              "8       RESULTS  further , there was a clinically relevant redu...   \n",
              "9       RESULTS  these differences remained significant at @ we...   \n",
              "10      RESULTS  the outcome measures in rheumatology clinical ...   \n",
              "11  CONCLUSIONS  low-dose oral prednisolone had both a short-te...   \n",
              "12   BACKGROUND  emotional eating is associated with overeating...   \n",
              "13   BACKGROUND  yet , empirical evidence for individual ( trai...   \n",
              "\n",
              "    line_number  total_lines  \n",
              "0             0           11  \n",
              "1             1           11  \n",
              "2             2           11  \n",
              "3             3           11  \n",
              "4             4           11  \n",
              "5             5           11  \n",
              "6             6           11  \n",
              "7             7           11  \n",
              "8             8           11  \n",
              "9             9           11  \n",
              "10           10           11  \n",
              "11           11           11  \n",
              "12            0           10  \n",
              "13            1           10  "
            ],
            "text/html": [
              "\n",
              "  <div id=\"df-1d97b5dd-89ad-4b13-aec2-5fab6a02d1ba\">\n",
              "    <div class=\"colab-df-container\">\n",
              "      <div>\n",
              "<style scoped>\n",
              "    .dataframe tbody tr th:only-of-type {\n",
              "        vertical-align: middle;\n",
              "    }\n",
              "\n",
              "    .dataframe tbody tr th {\n",
              "        vertical-align: top;\n",
              "    }\n",
              "\n",
              "    .dataframe thead th {\n",
              "        text-align: right;\n",
              "    }\n",
              "</style>\n",
              "<table border=\"1\" class=\"dataframe\">\n",
              "  <thead>\n",
              "    <tr style=\"text-align: right;\">\n",
              "      <th></th>\n",
              "      <th>target</th>\n",
              "      <th>text</th>\n",
              "      <th>line_number</th>\n",
              "      <th>total_lines</th>\n",
              "    </tr>\n",
              "  </thead>\n",
              "  <tbody>\n",
              "    <tr>\n",
              "      <th>0</th>\n",
              "      <td>OBJECTIVE</td>\n",
              "      <td>to investigate the efficacy of @ weeks of dail...</td>\n",
              "      <td>0</td>\n",
              "      <td>11</td>\n",
              "    </tr>\n",
              "    <tr>\n",
              "      <th>1</th>\n",
              "      <td>METHODS</td>\n",
              "      <td>a total of @ patients with primary knee oa wer...</td>\n",
              "      <td>1</td>\n",
              "      <td>11</td>\n",
              "    </tr>\n",
              "    <tr>\n",
              "      <th>2</th>\n",
              "      <td>METHODS</td>\n",
              "      <td>outcome measures included pain reduction and i...</td>\n",
              "      <td>2</td>\n",
              "      <td>11</td>\n",
              "    </tr>\n",
              "    <tr>\n",
              "      <th>3</th>\n",
              "      <td>METHODS</td>\n",
              "      <td>pain was assessed using the visual analog pain...</td>\n",
              "      <td>3</td>\n",
              "      <td>11</td>\n",
              "    </tr>\n",
              "    <tr>\n",
              "      <th>4</th>\n",
              "      <td>METHODS</td>\n",
              "      <td>secondary outcome measures included the wester...</td>\n",
              "      <td>4</td>\n",
              "      <td>11</td>\n",
              "    </tr>\n",
              "    <tr>\n",
              "      <th>5</th>\n",
              "      <td>METHODS</td>\n",
              "      <td>serum levels of interleukin @ ( il-@ ) , il-@ ...</td>\n",
              "      <td>5</td>\n",
              "      <td>11</td>\n",
              "    </tr>\n",
              "    <tr>\n",
              "      <th>6</th>\n",
              "      <td>RESULTS</td>\n",
              "      <td>there was a clinically relevant reduction in t...</td>\n",
              "      <td>6</td>\n",
              "      <td>11</td>\n",
              "    </tr>\n",
              "    <tr>\n",
              "      <th>7</th>\n",
              "      <td>RESULTS</td>\n",
              "      <td>the mean difference between treatment arms ( @...</td>\n",
              "      <td>7</td>\n",
              "      <td>11</td>\n",
              "    </tr>\n",
              "    <tr>\n",
              "      <th>8</th>\n",
              "      <td>RESULTS</td>\n",
              "      <td>further , there was a clinically relevant redu...</td>\n",
              "      <td>8</td>\n",
              "      <td>11</td>\n",
              "    </tr>\n",
              "    <tr>\n",
              "      <th>9</th>\n",
              "      <td>RESULTS</td>\n",
              "      <td>these differences remained significant at @ we...</td>\n",
              "      <td>9</td>\n",
              "      <td>11</td>\n",
              "    </tr>\n",
              "    <tr>\n",
              "      <th>10</th>\n",
              "      <td>RESULTS</td>\n",
              "      <td>the outcome measures in rheumatology clinical ...</td>\n",
              "      <td>10</td>\n",
              "      <td>11</td>\n",
              "    </tr>\n",
              "    <tr>\n",
              "      <th>11</th>\n",
              "      <td>CONCLUSIONS</td>\n",
              "      <td>low-dose oral prednisolone had both a short-te...</td>\n",
              "      <td>11</td>\n",
              "      <td>11</td>\n",
              "    </tr>\n",
              "    <tr>\n",
              "      <th>12</th>\n",
              "      <td>BACKGROUND</td>\n",
              "      <td>emotional eating is associated with overeating...</td>\n",
              "      <td>0</td>\n",
              "      <td>10</td>\n",
              "    </tr>\n",
              "    <tr>\n",
              "      <th>13</th>\n",
              "      <td>BACKGROUND</td>\n",
              "      <td>yet , empirical evidence for individual ( trai...</td>\n",
              "      <td>1</td>\n",
              "      <td>10</td>\n",
              "    </tr>\n",
              "  </tbody>\n",
              "</table>\n",
              "</div>\n",
              "      <button class=\"colab-df-convert\" onclick=\"convertToInteractive('df-1d97b5dd-89ad-4b13-aec2-5fab6a02d1ba')\"\n",
              "              title=\"Convert this dataframe to an interactive table.\"\n",
              "              style=\"display:none;\">\n",
              "        \n",
              "  <svg xmlns=\"http://www.w3.org/2000/svg\" height=\"24px\"viewBox=\"0 0 24 24\"\n",
              "       width=\"24px\">\n",
              "    <path d=\"M0 0h24v24H0V0z\" fill=\"none\"/>\n",
              "    <path d=\"M18.56 5.44l.94 2.06.94-2.06 2.06-.94-2.06-.94-.94-2.06-.94 2.06-2.06.94zm-11 1L8.5 8.5l.94-2.06 2.06-.94-2.06-.94L8.5 2.5l-.94 2.06-2.06.94zm10 10l.94 2.06.94-2.06 2.06-.94-2.06-.94-.94-2.06-.94 2.06-2.06.94z\"/><path d=\"M17.41 7.96l-1.37-1.37c-.4-.4-.92-.59-1.43-.59-.52 0-1.04.2-1.43.59L10.3 9.45l-7.72 7.72c-.78.78-.78 2.05 0 2.83L4 21.41c.39.39.9.59 1.41.59.51 0 1.02-.2 1.41-.59l7.78-7.78 2.81-2.81c.8-.78.8-2.07 0-2.86zM5.41 20L4 18.59l7.72-7.72 1.47 1.35L5.41 20z\"/>\n",
              "  </svg>\n",
              "      </button>\n",
              "      \n",
              "  <style>\n",
              "    .colab-df-container {\n",
              "      display:flex;\n",
              "      flex-wrap:wrap;\n",
              "      gap: 12px;\n",
              "    }\n",
              "\n",
              "    .colab-df-convert {\n",
              "      background-color: #E8F0FE;\n",
              "      border: none;\n",
              "      border-radius: 50%;\n",
              "      cursor: pointer;\n",
              "      display: none;\n",
              "      fill: #1967D2;\n",
              "      height: 32px;\n",
              "      padding: 0 0 0 0;\n",
              "      width: 32px;\n",
              "    }\n",
              "\n",
              "    .colab-df-convert:hover {\n",
              "      background-color: #E2EBFA;\n",
              "      box-shadow: 0px 1px 2px rgba(60, 64, 67, 0.3), 0px 1px 3px 1px rgba(60, 64, 67, 0.15);\n",
              "      fill: #174EA6;\n",
              "    }\n",
              "\n",
              "    [theme=dark] .colab-df-convert {\n",
              "      background-color: #3B4455;\n",
              "      fill: #D2E3FC;\n",
              "    }\n",
              "\n",
              "    [theme=dark] .colab-df-convert:hover {\n",
              "      background-color: #434B5C;\n",
              "      box-shadow: 0px 1px 3px 1px rgba(0, 0, 0, 0.15);\n",
              "      filter: drop-shadow(0px 1px 2px rgba(0, 0, 0, 0.3));\n",
              "      fill: #FFFFFF;\n",
              "    }\n",
              "  </style>\n",
              "\n",
              "      <script>\n",
              "        const buttonEl =\n",
              "          document.querySelector('#df-1d97b5dd-89ad-4b13-aec2-5fab6a02d1ba button.colab-df-convert');\n",
              "        buttonEl.style.display =\n",
              "          google.colab.kernel.accessAllowed ? 'block' : 'none';\n",
              "\n",
              "        async function convertToInteractive(key) {\n",
              "          const element = document.querySelector('#df-1d97b5dd-89ad-4b13-aec2-5fab6a02d1ba');\n",
              "          const dataTable =\n",
              "            await google.colab.kernel.invokeFunction('convertToInteractive',\n",
              "                                                     [key], {});\n",
              "          if (!dataTable) return;\n",
              "\n",
              "          const docLinkHtml = 'Like what you see? Visit the ' +\n",
              "            '<a target=\"_blank\" href=https://colab.research.google.com/notebooks/data_table.ipynb>data table notebook</a>'\n",
              "            + ' to learn more about interactive tables.';\n",
              "          element.innerHTML = '';\n",
              "          dataTable['output_type'] = 'display_data';\n",
              "          await google.colab.output.renderOutput(dataTable, element);\n",
              "          const docLink = document.createElement('div');\n",
              "          docLink.innerHTML = docLinkHtml;\n",
              "          element.appendChild(docLink);\n",
              "        }\n",
              "      </script>\n",
              "    </div>\n",
              "  </div>\n",
              "  "
            ]
          },
          "metadata": {},
          "execution_count": 13
        }
      ]
    },
    {
      "cell_type": "code",
      "source": [
        "# Distribution of labels\n",
        "train_df.target.value_counts()"
      ],
      "metadata": {
        "colab": {
          "base_uri": "https://localhost:8080/"
        },
        "id": "0_vyRFLrz1iH",
        "outputId": "59e218d3-f107-4ecb-a079-c0b68ffe40b7"
      },
      "execution_count": null,
      "outputs": [
        {
          "output_type": "execute_result",
          "data": {
            "text/plain": [
              "METHODS        59353\n",
              "RESULTS        57953\n",
              "CONCLUSIONS    27168\n",
              "BACKGROUND     21727\n",
              "OBJECTIVE      13839\n",
              "Name: target, dtype: int64"
            ]
          },
          "metadata": {},
          "execution_count": 14
        }
      ]
    },
    {
      "cell_type": "code",
      "source": [
        "# Let's check the lenght of different lines\n",
        "train_df.total_lines.plot.hist()"
      ],
      "metadata": {
        "colab": {
          "base_uri": "https://localhost:8080/",
          "height": 285
        },
        "id": "ov8U2xBbz_Fo",
        "outputId": "bb6e7c6b-2ccd-4dcb-f310-0eaa0530ec5c"
      },
      "execution_count": null,
      "outputs": [
        {
          "output_type": "execute_result",
          "data": {
            "text/plain": [
              "<matplotlib.axes._subplots.AxesSubplot at 0x7f67c619cb50>"
            ]
          },
          "metadata": {},
          "execution_count": 15
        },
        {
          "output_type": "display_data",
          "data": {
            "text/plain": [
              "<Figure size 432x288 with 1 Axes>"
            ],
            "image/png": "[encoded data removed]"
          },
          "metadata": {
            "needs_background": "light"
          }
        }
      ]
    },
    {
      "cell_type": "markdown",
      "source": [
        "### Get the lists of sentences\n"
      ],
      "metadata": {
        "id": "K3HMJFIX0S4j"
      }
    },
    {
      "cell_type": "code",
      "source": [
        "# COnvert abstract text lines into lists\n",
        "train_sentences = train_df[\"text\"].tolist()\n",
        "val_sentences=val_df[\"text\"].tolist()\n",
        "test_sentences = test_df[\"text\"].tolist()"
      ],
      "metadata": {
        "id": "qR9ZK7q-0XyZ"
      },
      "execution_count": null,
      "outputs": []
    },
    {
      "cell_type": "code",
      "source": [
        "len(train_sentences)"
      ],
      "metadata": {
        "colab": {
          "base_uri": "https://localhost:8080/"
        },
        "id": "4EV3aQGZ0pry",
        "outputId": "59c10266-2d39-43e1-f516-fcd847c295b8"
      },
      "execution_count": null,
      "outputs": [
        {
          "output_type": "execute_result",
          "data": {
            "text/plain": [
              "180040"
            ]
          },
          "metadata": {},
          "execution_count": 17
        }
      ]
    },
    {
      "cell_type": "markdown",
      "source": [
        "## Make numerice labels(ML models require labels)"
      ],
      "metadata": {
        "id": "Y8GEsBOz0tDY"
      }
    },
    {
      "cell_type": "code",
      "source": [
        "# One hot encode labels\n",
        "from sklearn.preprocessing import OneHotEncoder\n",
        "one_hot_encoder = OneHotEncoder(sparse = False) # we want non-sparse matrix\n",
        "train_labels_one_hot = one_hot_encoder.fit_transform(train_df[\"target\"].to_numpy().reshape (-1,1))\n",
        "val_labels_one_hot = one_hot_encoder.transform(val_df[\"target\"].to_numpy().reshape(-1,1))\n",
        "test_labels_one_hot = one_hot_encoder.transform(test_df[\"target\"].to_numpy().reshape(-1,1))\n",
        "\n",
        "# Check what one hot encoded labels look like\n",
        "train_labels_one_hot\n"
      ],
      "metadata": {
        "colab": {
          "base_uri": "https://localhost:8080/"
        },
        "id": "-OsVl7-U1N97",
        "outputId": "39bb7dbb-5b0c-4e10-cbf8-baa1eb3ea259"
      },
      "execution_count": null,
      "outputs": [
        {
          "output_type": "execute_result",
          "data": {
            "text/plain": [
              "array([[0., 0., 0., 1., 0.],\n",
              "       [0., 0., 1., 0., 0.],\n",
              "       [0., 0., 1., 0., 0.],\n",
              "       ...,\n",
              "       [0., 0., 0., 0., 1.],\n",
              "       [0., 1., 0., 0., 0.],\n",
              "       [0., 1., 0., 0., 0.]])"
            ]
          },
          "metadata": {},
          "execution_count": 11
        }
      ]
    },
    {
      "cell_type": "markdown",
      "source": [
        "## Label encode labels"
      ],
      "metadata": {
        "id": "Z1KLIJT32C8c"
      }
    },
    {
      "cell_type": "code",
      "source": [
        "# Extract labels (target columns) and encode these into integers\n",
        "from sklearn.preprocessing import LabelEncoder\n",
        "label_encoder = LabelEncoder()\n",
        "train_labels_encoded = label_encoder.fit_transform(train_df[\"target\"].to_numpy())\n",
        "val_labels_encoded = label_encoder.transform(val_df[\"target\"].to_numpy())\n",
        "test_labels_encoded = label_encoder.transform(test_df[\"target\"].to_numpy())\n",
        "\n",
        "# Check the training labels look like\n",
        "train_labels_encoded"
      ],
      "metadata": {
        "colab": {
          "base_uri": "https://localhost:8080/"
        },
        "id": "VDJSfg023ID_",
        "outputId": "152960e2-1a00-4e93-af9a-9b217da069d2"
      },
      "execution_count": null,
      "outputs": [
        {
          "output_type": "execute_result",
          "data": {
            "text/plain": [
              "array([3, 2, 2, ..., 4, 1, 1])"
            ]
          },
          "metadata": {},
          "execution_count": 12
        }
      ]
    },
    {
      "cell_type": "code",
      "source": [
        "# Get the class names and number of classes from LabelEncoder instance\n",
        "num_classes = len(label_encoder.classes_)\n",
        "class_names = label_encoder.classes_\n",
        "num_classes , class_names"
      ],
      "metadata": {
        "colab": {
          "base_uri": "https://localhost:8080/"
        },
        "id": "7-INNbRI33Qw",
        "outputId": "2e2797bd-9021-496d-b8ff-97fc395b7bde"
      },
      "execution_count": null,
      "outputs": [
        {
          "output_type": "execute_result",
          "data": {
            "text/plain": [
              "(5, array(['BACKGROUND', 'CONCLUSIONS', 'METHODS', 'OBJECTIVE', 'RESULTS'],\n",
              "       dtype=object))"
            ]
          },
          "metadata": {},
          "execution_count": 13
        }
      ]
    },
    {
      "cell_type": "markdown",
      "source": [
        "## Starting a series of  modelling experiment"
      ],
      "metadata": {
        "id": "8_loWhr14tjv"
      }
    },
    {
      "cell_type": "markdown",
      "source": [
        "## Model 0: Getting a basline"
      ],
      "metadata": {
        "id": "bAgkqqXw4NqO"
      }
    },
    {
      "cell_type": "code",
      "source": [
        "from sklearn.feature_extraction.text import TfidfVectorizer\n",
        "from sklearn.naive_bayes import MultinomialNB\n",
        "from sklearn.pipeline import Pipeline\n",
        "\n",
        "# Create a pipeline\n",
        "model_0 = Pipeline([\n",
        "                    (\"tf-idf\",TfidfVectorizer()),\n",
        "                    (\"clf\",MultinomialNB())\n",
        "])\n",
        "\n",
        "# Fit the pipeline to the training data\n",
        "model_0.fit(X = train_sentences,\n",
        "            y = train_labels_encoded)"
      ],
      "metadata": {
        "colab": {
          "base_uri": "https://localhost:8080/"
        },
        "id": "OFuxoEf340qe",
        "outputId": "20bf16ec-7f24-48c5-bfc8-6af85f15a8c1"
      },
      "execution_count": null,
      "outputs": [
        {
          "output_type": "execute_result",
          "data": {
            "text/plain": [
              "Pipeline(steps=[('tf-idf', TfidfVectorizer()), ('clf', MultinomialNB())])"
            ]
          },
          "metadata": {},
          "execution_count": 14
        }
      ]
    },
    {
      "cell_type": "code",
      "source": [
        "# Evaluate the baseline model on validation dataset\n",
        "model_0.score(X = val_sentences,y=val_labels_encoded)"
      ],
      "metadata": {
        "colab": {
          "base_uri": "https://localhost:8080/"
        },
        "id": "PIhOBt685n7y",
        "outputId": "eb2329b3-f9ed-49fc-9229-a63e2a4a9248"
      },
      "execution_count": null,
      "outputs": [
        {
          "output_type": "execute_result",
          "data": {
            "text/plain": [
              "0.7218323844829869"
            ]
          },
          "metadata": {},
          "execution_count": 22
        }
      ]
    },
    {
      "cell_type": "code",
      "source": [
        "# Make predictions using our baseline model\n",
        "baseline_preds = model_0.predict(val_sentences)\n",
        "baseline_preds"
      ],
      "metadata": {
        "colab": {
          "base_uri": "https://localhost:8080/"
        },
        "id": "9WsiORj86Dvq",
        "outputId": "e953d707-c60e-4cc0-be0f-73d4549a8b7d"
      },
      "execution_count": null,
      "outputs": [
        {
          "output_type": "execute_result",
          "data": {
            "text/plain": [
              "array([4, 1, 3, ..., 4, 4, 1])"
            ]
          },
          "metadata": {},
          "execution_count": 23
        }
      ]
    },
    {
      "cell_type": "code",
      "source": [
        "from helper_function import calculate_results"
      ],
      "metadata": {
        "id": "yiowEwDz6OxN"
      },
      "execution_count": null,
      "outputs": []
    },
    {
      "cell_type": "code",
      "source": [
        "baseline_results = calculate_results(val_labels_encoded , baseline_preds )\n",
        "baseline_results"
      ],
      "metadata": {
        "colab": {
          "base_uri": "https://localhost:8080/"
        },
        "id": "drvkKUVZ6dVj",
        "outputId": "32da2c49-6f60-40ba-e83d-c567ca1b619e"
      },
      "execution_count": null,
      "outputs": [
        {
          "output_type": "execute_result",
          "data": {
            "text/plain": [
              "{'accuracy': 72.1832384482987,\n",
              " 'f1': 0.6989250353450294,\n",
              " 'precision': 0.7186466952323352,\n",
              " 'recall': 0.7218323844829869}"
            ]
          },
          "metadata": {},
          "execution_count": 25
        }
      ]
    },
    {
      "cell_type": "markdown",
      "source": [
        "## Preparing our data (the text) for deep sequence models\n",
        "\n",
        "Before we start building deeper models , we've got to create vectorizerization and embedding layer"
      ],
      "metadata": {
        "id": "r9LH_M-o6tgT"
      }
    },
    {
      "cell_type": "code",
      "source": [
        "import numpy as np\n",
        "import tensorflow as tf\n",
        "from tensorflow.keras import layers"
      ],
      "metadata": {
        "id": "VJ-hZpxP7SdW"
      },
      "execution_count": null,
      "outputs": []
    },
    {
      "cell_type": "code",
      "source": [
        "train_sentences[:10]"
      ],
      "metadata": {
        "colab": {
          "base_uri": "https://localhost:8080/"
        },
        "id": "lzIARf5q7cYB",
        "outputId": "02df2014-0376-445f-dc5e-114d30e8766f"
      },
      "execution_count": null,
      "outputs": [
        {
          "output_type": "execute_result",
          "data": {
            "text/plain": [
              "['to investigate the efficacy of @ weeks of daily low-dose oral prednisolone in improving pain , mobility , and systemic low-grade inflammation in the short term and whether the effect would be sustained at @ weeks in older adults with moderate to severe knee osteoarthritis ( oa ) .',\n",
              " 'a total of @ patients with primary knee oa were randomized @:@ ; @ received @ mg/day of prednisolone and @ received placebo for @ weeks .',\n",
              " 'outcome measures included pain reduction and improvement in function scores and systemic inflammation markers .',\n",
              " 'pain was assessed using the visual analog pain scale ( @-@ mm ) .',\n",
              " 'secondary outcome measures included the western ontario and mcmaster universities osteoarthritis index scores , patient global assessment ( pga ) of the severity of knee oa , and @-min walk distance ( @mwd ) .',\n",
              " 'serum levels of interleukin @ ( il-@ ) , il-@ , tumor necrosis factor ( tnf ) - , and high-sensitivity c-reactive protein ( hscrp ) were measured .',\n",
              " 'there was a clinically relevant reduction in the intervention group compared to the placebo group for knee pain , physical function , pga , and @mwd at @ weeks .',\n",
              " 'the mean difference between treatment arms ( @ % ci ) was @ ( @-@ @ ) , p < @ ; @ ( @-@ @ ) , p < @ ; @ ( @-@ @ ) , p < @ ; and @ ( @-@ @ ) , p < @ , respectively .',\n",
              " 'further , there was a clinically relevant reduction in the serum levels of il-@ , il-@ , tnf - , and hscrp at @ weeks in the intervention group when compared to the placebo group .',\n",
              " 'these differences remained significant at @ weeks .']"
            ]
          },
          "metadata": {},
          "execution_count": 27
        }
      ]
    },
    {
      "cell_type": "code",
      "source": [
        "# How long is each sentences on average?\n",
        "sent_lens = [len(sentence.split()) for sentence in train_sentences]\n",
        "# sent_lens\n",
        "avg_sent_len = np.mean(sent_lens)\n",
        "avg_sent_len"
      ],
      "metadata": {
        "colab": {
          "base_uri": "https://localhost:8080/"
        },
        "id": "gFNBC-Tg7fP1",
        "outputId": "73223a0e-acaf-4bcc-b3ee-e663f6ef5120"
      },
      "execution_count": null,
      "outputs": [
        {
          "output_type": "execute_result",
          "data": {
            "text/plain": [
              "26.338269273494777"
            ]
          },
          "metadata": {},
          "execution_count": 28
        }
      ]
    },
    {
      "cell_type": "code",
      "source": [
        "# What's the distribution look like?\n",
        "import matplotlib.pyplot as plt\n",
        "plt.hist(sent_lens,bins =20);"
      ],
      "metadata": {
        "colab": {
          "base_uri": "https://localhost:8080/",
          "height": 265
        },
        "id": "5NlI-gie7uTA",
        "outputId": "bb164eb2-957b-41bd-8b60-167f1fa340b1"
      },
      "execution_count": null,
      "outputs": [
        {
          "output_type": "display_data",
          "data": {
            "text/plain": [
              "<Figure size 432x288 with 1 Axes>"
            ],
            "image/png": "[encoded data removed]"
          },
          "metadata": {
            "needs_background": "light"
          }
        }
      ]
    },
    {
      "cell_type": "code",
      "source": [
        "# How long of a sentence length covers 95% of examples?\n",
        "output_seq_len = int(np.percentile(sent_lens,95))\n",
        "output_seq_len\n"
      ],
      "metadata": {
        "colab": {
          "base_uri": "https://localhost:8080/"
        },
        "id": "mrvdtKk88LvW",
        "outputId": "cc25046b-9055-42bb-be82-33c9e83e0dac"
      },
      "execution_count": null,
      "outputs": [
        {
          "output_type": "execute_result",
          "data": {
            "text/plain": [
              "55"
            ]
          },
          "metadata": {},
          "execution_count": 30
        }
      ]
    },
    {
      "cell_type": "code",
      "source": [
        "# Maximum seqence length in the training senteces\n",
        "np.max(sent_lens)"
      ],
      "metadata": {
        "colab": {
          "base_uri": "https://localhost:8080/"
        },
        "id": "IDbFDzWT8yva",
        "outputId": "2557fe7d-b938-437d-ec0d-a43b5a39825f"
      },
      "execution_count": null,
      "outputs": [
        {
          "output_type": "execute_result",
          "data": {
            "text/plain": [
              "296"
            ]
          },
          "metadata": {},
          "execution_count": 31
        }
      ]
    },
    {
      "cell_type": "markdown",
      "source": [
        "### Create text vectorizer layer\n",
        "\n",
        "We want to make a layer which maps our texts from words to numbers."
      ],
      "metadata": {
        "id": "c2puf0r5pxTq"
      }
    },
    {
      "cell_type": "code",
      "source": [
        "# How many words are there in our vocab ?\n",
        "max_tokens = 68000"
      ],
      "metadata": {
        "id": "-wMtayqCp-Z8"
      },
      "execution_count": null,
      "outputs": []
    },
    {
      "cell_type": "code",
      "source": [
        "# Create text vectorizer\n",
        "from tensorflow.keras.layers.experimental.preprocessing import TextVectorization\n",
        "\n",
        "text_vectorizer = TextVectorization(max_tokens = max_tokens,\n",
        "                                    output_sequence_length = output_seq_len) # desired output length of vectorized sequence"
      ],
      "metadata": {
        "id": "I1yHb92xqsmX"
      },
      "execution_count": null,
      "outputs": []
    },
    {
      "cell_type": "code",
      "source": [
        "# Adapt text vectorizer to training sentences\n",
        "text_vectorizer.adapt(train_sentences)"
      ],
      "metadata": {
        "id": "xxyV-MyirMSt"
      },
      "execution_count": null,
      "outputs": []
    },
    {
      "cell_type": "code",
      "source": [
        "# Test out text vectorizer on random sentences\n",
        "import random\n",
        "target_sentence = random.choice(train_sentences)\n",
        "print(f\"Text:\\n{target_sentence}\")\n",
        "print(f\"\\nLength of text:{len(target_sentence)}\")\n",
        "print(f\"\\nVectorized text:{text_vectorizer([target_sentence])}\")"
      ],
      "metadata": {
        "colab": {
          "base_uri": "https://localhost:8080/"
        },
        "id": "we2_ZN_xrZed",
        "outputId": "79883231-cac7-4607-e52a-3d70f943b2d5"
      },
      "execution_count": null,
      "outputs": [
        {
          "output_type": "stream",
          "name": "stdout",
          "text": [
            "Text:\n",
            "both groups completed @ sessions .\n",
            "\n",
            "Length of text:34\n",
            "\n",
            "Vectorized text:[[ 54  24 253 416   0   0   0   0   0   0   0   0   0   0   0   0   0   0\n",
            "    0   0   0   0   0   0   0   0   0   0   0   0   0   0   0   0   0   0\n",
            "    0   0   0   0   0   0   0   0   0   0   0   0   0   0   0   0   0   0\n",
            "    0]]\n"
          ]
        }
      ]
    },
    {
      "cell_type": "code",
      "source": [
        "# How many words in our training vocabulary\n",
        "rct_20k_text_vocab = text_vectorizer.get_vocabulary()\n",
        "print(f\"Number of words in vocab:{len(rct_20k_text_vocab)}\")\n",
        "print(f\"Most common words in the vocab:{rct_20k_text_vocab[:5]}\")\n",
        "print(f\"Least common words in the vocab:{rct_20k_text_vocab[-5:]}\")"
      ],
      "metadata": {
        "colab": {
          "base_uri": "https://localhost:8080/"
        },
        "id": "AnIZCHg9sC9e",
        "outputId": "d85c5b58-42dc-4560-e8c1-456c8710e8c1"
      },
      "execution_count": null,
      "outputs": [
        {
          "output_type": "stream",
          "name": "stdout",
          "text": [
            "Number of words in vocab:64841\n",
            "Most common words in the vocab:['', '[UNK]', 'the', 'and', 'of']\n",
            "Least common words in the vocab:['aainduced', 'aaigroup', 'aachener', 'aachen', 'aaacp']\n"
          ]
        }
      ]
    },
    {
      "cell_type": "code",
      "source": [
        "# Get the config of our text vectorizer\n",
        "text_vectorizer.get_config()"
      ],
      "metadata": {
        "colab": {
          "base_uri": "https://localhost:8080/"
        },
        "id": "ErAUu8jcsIrf",
        "outputId": "ff127483-f003-420b-e490-442c7afc00fb"
      },
      "execution_count": null,
      "outputs": [
        {
          "output_type": "execute_result",
          "data": {
            "text/plain": [
              "{'batch_input_shape': (None,),\n",
              " 'dtype': 'string',\n",
              " 'idf_weights': None,\n",
              " 'max_tokens': 68000,\n",
              " 'name': 'text_vectorization',\n",
              " 'ngrams': None,\n",
              " 'output_mode': 'int',\n",
              " 'output_sequence_length': 55,\n",
              " 'pad_to_max_tokens': False,\n",
              " 'ragged': False,\n",
              " 'sparse': False,\n",
              " 'split': 'whitespace',\n",
              " 'standardize': 'lower_and_strip_punctuation',\n",
              " 'trainable': True,\n",
              " 'vocabulary': None}"
            ]
          },
          "metadata": {},
          "execution_count": 37
        }
      ]
    },
    {
      "cell_type": "markdown",
      "source": [
        "### Create custom text embedding"
      ],
      "metadata": {
        "id": "hBNHE1nmtNS4"
      }
    },
    {
      "cell_type": "code",
      "source": [
        "# Create token embedding layer\n",
        "token_embed = layers.Embedding(input_dim = len(rct_20k_text_vocab), # length of our vocabulary\n",
        "                               output_dim = 128 , # Note: different embedding sizes results in drastically different number of parameters to train\n",
        "                               mask_zero = True ,# use masking to handle variable sequence lenghts\n",
        "                               name = \"token_embedding\")"
      ],
      "metadata": {
        "id": "7BXsG02ateLW"
      },
      "execution_count": null,
      "outputs": []
    },
    {
      "cell_type": "code",
      "source": [
        "# Show example embedding\n",
        "print(f\"Sentence before vectorization :\\n {target_sentence}\\n\")\n",
        "vectorized_sentence = text_vectorizer([target_sentence])\n",
        "print(f\"Sentence after vectorization (before embedding):\\n {vectorized_sentence}\\n\")\n",
        "embedded_sentence = token_embed(vectorized_sentence)\n",
        "print(f\"Sentence after embedding:\\n{embedded_sentence}\\n\")\n",
        "print(f\"Embedded sentence shape:{embedded_sentence.shape}\")"
      ],
      "metadata": {
        "colab": {
          "base_uri": "https://localhost:8080/"
        },
        "id": "pwX2rHVnu0Cm",
        "outputId": "894484aa-8f01-476d-ba08-d1e0b5ffd99c"
      },
      "execution_count": null,
      "outputs": [
        {
          "output_type": "stream",
          "name": "stdout",
          "text": [
            "Sentence before vectorization :\n",
            " both groups completed @ sessions .\n",
            "\n",
            "Sentence after vectorization (before embedding):\n",
            " [[ 54  24 253 416   0   0   0   0   0   0   0   0   0   0   0   0   0   0\n",
            "    0   0   0   0   0   0   0   0   0   0   0   0   0   0   0   0   0   0\n",
            "    0   0   0   0   0   0   0   0   0   0   0   0   0   0   0   0   0   0\n",
            "    0]]\n",
            "\n",
            "Sentence after embedding:\n",
            "[[[ 0.03071738 -0.04481503  0.04337737 ...  0.03833764  0.04228416\n",
            "   -0.0392325 ]\n",
            "  [ 0.00907543 -0.03779256 -0.02799475 ... -0.00440376 -0.04991914\n",
            "   -0.02870883]\n",
            "  [ 0.01719966  0.01422707  0.02451538 ...  0.03662243  0.03923409\n",
            "    0.0276573 ]\n",
            "  ...\n",
            "  [ 0.02391987 -0.01673996 -0.00233533 ... -0.0144444  -0.01709449\n",
            "   -0.0166354 ]\n",
            "  [ 0.02391987 -0.01673996 -0.00233533 ... -0.0144444  -0.01709449\n",
            "   -0.0166354 ]\n",
            "  [ 0.02391987 -0.01673996 -0.00233533 ... -0.0144444  -0.01709449\n",
            "   -0.0166354 ]]]\n",
            "\n",
            "Embedded sentence shape:(1, 55, 128)\n"
          ]
        }
      ]
    },
    {
      "cell_type": "markdown",
      "source": [
        "## Creating datasets (making sure our data loads as fast as possible)\n",
        "\n",
        "We're going to setup our data as fast as possible with TensorFlow tf.data.API...."
      ],
      "metadata": {
        "id": "M4yGrivwvk0X"
      }
    },
    {
      "cell_type": "code",
      "source": [
        "# Turn our data into TensorFlow Datasets\n",
        "train_dataset = tf.data.Dataset.from_tensor_slices((train_sentences,train_labels_one_hot))\n",
        "valid_dataset = tf.data.Dataset.from_tensor_slices((val_sentences,val_labels_one_hot))\n",
        "test_dataset = tf.data.Dataset.from_tensor_slices((test_sentences,test_labels_one_hot))"
      ],
      "metadata": {
        "id": "SuHzsAspwkRQ"
      },
      "execution_count": null,
      "outputs": []
    },
    {
      "cell_type": "code",
      "source": [
        "train_labels_one_hot.shape"
      ],
      "metadata": {
        "colab": {
          "base_uri": "https://localhost:8080/"
        },
        "id": "20EbkXEYxJql",
        "outputId": "048e6b0f-9802-4214-dcdf-69f5e5df514e"
      },
      "execution_count": null,
      "outputs": [
        {
          "output_type": "execute_result",
          "data": {
            "text/plain": [
              "(180040, 5)"
            ]
          },
          "metadata": {},
          "execution_count": 41
        }
      ]
    },
    {
      "cell_type": "code",
      "source": [
        "train_dataset"
      ],
      "metadata": {
        "colab": {
          "base_uri": "https://localhost:8080/"
        },
        "id": "G_WnjGaAyHZN",
        "outputId": "fdb46427-898d-4e81-b3f1-7591c4db6f2a"
      },
      "execution_count": null,
      "outputs": [
        {
          "output_type": "execute_result",
          "data": {
            "text/plain": [
              "<TensorSliceDataset element_spec=(TensorSpec(shape=(), dtype=tf.string, name=None), TensorSpec(shape=(5,), dtype=tf.float64, name=None))>"
            ]
          },
          "metadata": {},
          "execution_count": 42
        }
      ]
    },
    {
      "cell_type": "code",
      "source": [
        "# Take tehe TensorSliceDataset's and turn them into prefethed datasets\n",
        "train_dataset = train_dataset.batch(32).prefetch(tf.data.AUTOTUNE)\n",
        "valid_dataset = valid_dataset.batch(32).prefetch(tf.data.AUTOTUNE)\n",
        "test_dataset = test_dataset.batch(32).prefetch(tf.data.AUTOTUNE)\n",
        "\n",
        "train_dataset"
      ],
      "metadata": {
        "colab": {
          "base_uri": "https://localhost:8080/"
        },
        "id": "9_V0p7HlyObL",
        "outputId": "12445b87-246f-45b2-f1a1-6c75860d7cc7"
      },
      "execution_count": null,
      "outputs": [
        {
          "output_type": "execute_result",
          "data": {
            "text/plain": [
              "<PrefetchDataset element_spec=(TensorSpec(shape=(None,), dtype=tf.string, name=None), TensorSpec(shape=(None, 5), dtype=tf.float64, name=None))>"
            ]
          },
          "metadata": {},
          "execution_count": 43
        }
      ]
    },
    {
      "cell_type": "markdown",
      "source": [
        "## Model 1: Conv1D with token embedding"
      ],
      "metadata": {
        "id": "ECoTT0ZKzPMB"
      }
    },
    {
      "cell_type": "code",
      "source": [
        "# Create 1D cov model to process sequences\n",
        "inputs = layers.Input(shape = (1,),dtype = tf.string)\n",
        "text_vectors = text_vectorizer(inputs) # vectorize text inputs\n",
        "token_embeddings = token_embed (text_vectors)\n",
        "x = layers.Conv1D(64,kernel_size = 5 , padding = \"same\",activation = \"relu\")(token_embeddings)\n",
        "x = layers.GlobalAveragePooling1D()(x) # Condense the ouput of our feature vector from conv layer\n",
        "outputs = layers.Dense(num_classes,activation = \"softmax\")(x)\n",
        "model_1 = tf.keras.Model(inputs , outputs)\n",
        "\n",
        "# COmpile the model\n",
        "model_1.compile(loss = \"categorical_crossentropy\",\n",
        "                optimizer = tf.keras.optimizers.Adam(),\n",
        "                metrics = [\"accuracy\"])\n",
        "\n",
        "# Get the summary\n",
        "model_1.summary()"
      ],
      "metadata": {
        "colab": {
          "base_uri": "https://localhost:8080/"
        },
        "id": "SyiaEooAzpi2",
        "outputId": "485845eb-cf43-49ed-9fc5-b0b4f1a1f465"
      },
      "execution_count": null,
      "outputs": [
        {
          "output_type": "stream",
          "name": "stdout",
          "text": [
            "Model: \"model\"\n",
            "_________________________________________________________________\n",
            " Layer (type)                Output Shape              Param #   \n",
            "=================================================================\n",
            " input_1 (InputLayer)        [(None, 1)]               0         \n",
            "                                                                 \n",
            " text_vectorization (TextVec  (None, 55)               0         \n",
            " torization)                                                     \n",
            "                                                                 \n",
            " token_embedding (Embedding)  (None, 55, 128)          8299648   \n",
            "                                                                 \n",
            " conv1d (Conv1D)             (None, 55, 64)            41024     \n",
            "                                                                 \n",
            " global_average_pooling1d (G  (None, 64)               0         \n",
            " lobalAveragePooling1D)                                          \n",
            "                                                                 \n",
            " dense (Dense)               (None, 5)                 325       \n",
            "                                                                 \n",
            "=================================================================\n",
            "Total params: 8,340,997\n",
            "Trainable params: 8,340,997\n",
            "Non-trainable params: 0\n",
            "_________________________________________________________________\n"
          ]
        }
      ]
    },
    {
      "cell_type": "code",
      "source": [
        "# Fit the model\n",
        "history_model_1 = model_1.fit(train_dataset,\n",
        "                              epochs = 3,\n",
        "                              steps_per_epoch = int(0.1*len(train_dataset)),\n",
        "                              validation_data = valid_dataset,\n",
        "                              validation_steps = int(0.1*len(valid_dataset)))"
      ],
      "metadata": {
        "colab": {
          "base_uri": "https://localhost:8080/"
        },
        "id": "5KiEIZI_0zK3",
        "outputId": "3fa91662-baeb-489e-8a3d-771dd91a38d4"
      },
      "execution_count": null,
      "outputs": [
        {
          "output_type": "stream",
          "name": "stdout",
          "text": [
            "Epoch 1/3\n",
            "562/562 [==============================] - 17s 9ms/step - loss: 0.9213 - accuracy: 0.6350 - val_loss: 0.6904 - val_accuracy: 0.7390\n",
            "Epoch 2/3\n",
            "562/562 [==============================] - 5s 8ms/step - loss: 0.6603 - accuracy: 0.7535 - val_loss: 0.6354 - val_accuracy: 0.7689\n",
            "Epoch 3/3\n",
            "562/562 [==============================] - 5s 8ms/step - loss: 0.6188 - accuracy: 0.7746 - val_loss: 0.5987 - val_accuracy: 0.7862\n"
          ]
        }
      ]
    },
    {
      "cell_type": "code",
      "source": [
        "# Evaluate on while valid dataset\n",
        "model_1.evaluate(valid_dataset)"
      ],
      "metadata": {
        "colab": {
          "base_uri": "https://localhost:8080/"
        },
        "id": "UkYafIWF1oYT",
        "outputId": "c5386655-ed4d-44c8-9b39-e77ed5e4ae4a"
      },
      "execution_count": null,
      "outputs": [
        {
          "output_type": "stream",
          "name": "stdout",
          "text": [
            "945/945 [==============================] - 3s 3ms/step - loss: 0.5999 - accuracy: 0.7855\n"
          ]
        },
        {
          "output_type": "execute_result",
          "data": {
            "text/plain": [
              "[0.5999154448509216, 0.7855488061904907]"
            ]
          },
          "metadata": {},
          "execution_count": 46
        }
      ]
    },
    {
      "cell_type": "code",
      "source": [
        "# Make predictions\n",
        "model_1_pred_probs = model_1.predict(valid_dataset)"
      ],
      "metadata": {
        "id": "_EfmC7Zg2Ifg"
      },
      "execution_count": null,
      "outputs": []
    },
    {
      "cell_type": "code",
      "source": [
        "model_1_pred_probs , model_1_pred_probs.shape"
      ],
      "metadata": {
        "colab": {
          "base_uri": "https://localhost:8080/"
        },
        "id": "f73tZRJa2R9o",
        "outputId": "881db5f0-ce3a-4c22-83ca-7c690cf84ddc"
      },
      "execution_count": null,
      "outputs": [
        {
          "output_type": "execute_result",
          "data": {
            "text/plain": [
              "(array([[4.1493368e-01, 1.6759637e-01, 7.3631600e-02, 3.2396078e-01,\n",
              "         1.9877626e-02],\n",
              "        [4.5053637e-01, 2.6313958e-01, 1.2962571e-02, 2.6498207e-01,\n",
              "         8.3793858e-03],\n",
              "        [1.3806105e-01, 8.2043232e-03, 1.4200668e-03, 8.5229129e-01,\n",
              "         2.3284441e-05],\n",
              "        ...,\n",
              "        [5.7182374e-06, 9.0454880e-04, 7.9602678e-04, 5.1596162e-06,\n",
              "         9.9828857e-01],\n",
              "        [5.9597213e-02, 4.6143964e-01, 9.8990761e-02, 7.3566750e-02,\n",
              "         3.0640566e-01],\n",
              "        [1.6837363e-01, 7.2140145e-01, 3.4960479e-02, 3.7620373e-02,\n",
              "         3.7644163e-02]], dtype=float32), (30212, 5))"
            ]
          },
          "metadata": {},
          "execution_count": 48
        }
      ]
    },
    {
      "cell_type": "code",
      "source": [
        "# Convert pred probs ro classes\n",
        "model_1_preds = tf.argmax(model_1_pred_probs ,axis = 1)"
      ],
      "metadata": {
        "id": "VJoCH5Du2YuQ"
      },
      "execution_count": null,
      "outputs": []
    },
    {
      "cell_type": "code",
      "source": [
        "model_1_preds"
      ],
      "metadata": {
        "colab": {
          "base_uri": "https://localhost:8080/"
        },
        "id": "JhfuIVEZ2iUW",
        "outputId": "6865343b-ec65-4679-cc47-2f8856f8779a"
      },
      "execution_count": null,
      "outputs": [
        {
          "output_type": "execute_result",
          "data": {
            "text/plain": [
              "<tf.Tensor: shape=(30212,), dtype=int64, numpy=array([0, 0, 3, ..., 4, 1, 1])>"
            ]
          },
          "metadata": {},
          "execution_count": 50
        }
      ]
    },
    {
      "cell_type": "code",
      "source": [
        "# Calculate model_1 results\n",
        "model_1_results = calculate_results(val_labels_encoded,\n",
        "                                    model_1_preds)"
      ],
      "metadata": {
        "id": "FqTVBcnf2jtV"
      },
      "execution_count": null,
      "outputs": []
    },
    {
      "cell_type": "code",
      "source": [
        "model_1_results"
      ],
      "metadata": {
        "colab": {
          "base_uri": "https://localhost:8080/"
        },
        "id": "bzRn7bPH2w63",
        "outputId": "5af7700c-3393-4ad8-c163-69b778dab62d"
      },
      "execution_count": null,
      "outputs": [
        {
          "output_type": "execute_result",
          "data": {
            "text/plain": [
              "{'accuracy': 78.55487885608368,\n",
              " 'f1': 0.7833393220689411,\n",
              " 'precision': 0.7825686057445608,\n",
              " 'recall': 0.7855487885608368}"
            ]
          },
          "metadata": {},
          "execution_count": 52
        }
      ]
    },
    {
      "cell_type": "markdown",
      "source": [
        "## Model 2: Feature extraction with pretrained token embedding\n",
        "\n",
        "Now let's use pretrained word embedding from TensorFlow Hub, more specifically the universal sentence encoder(USE):\n",
        "https://tfhub.dev/google/universal-sentence-encoder/4\n",
        "\n"
      ],
      "metadata": {
        "id": "BY9a56i121hZ"
      }
    },
    {
      "cell_type": "code",
      "source": [
        "# Download pretrained TensorFLow Hub USE\n",
        "import tensorflow_hub as hub\n",
        "tf_hub_embedding_layer = hub.KerasLayer(\"https://tfhub.dev/google/universal-sentence-encoder/4\",\n",
        "                                        trainable = False,\n",
        "                                        name = \"universal_sentence_encoder\")"
      ],
      "metadata": {
        "id": "or9SsOej4NW8"
      },
      "execution_count": null,
      "outputs": []
    },
    {
      "cell_type": "code",
      "source": [
        "# Test our pretrained embedding on a random sentence\n",
        "random_train_sentence = random.choice(train_sentences)\n",
        "print(f\"Random sentence:\\n{random_train_sentence}\")\n",
        "use_embedded_sentence = tf_hub_embedding_layer([random_train_sentence])\n",
        "print(f\"Sentence after embedding:\\n{use_embedded_sentence}\\n\")\n",
        "print(f\"Length of sentence embedding:{len(use_embedded_sentence[0])}\")"
      ],
      "metadata": {
        "id": "WeGQ5Etv7uJP",
        "colab": {
          "base_uri": "https://localhost:8080/"
        },
        "outputId": "6fcd504b-3be6-4531-9ece-7eacc170d7b6"
      },
      "execution_count": null,
      "outputs": [
        {
          "output_type": "stream",
          "name": "stdout",
          "text": [
            "Random sentence:\n",
            "there were more maternal adverse effects of sublingual misoprostol ( p = @ ) .\n",
            "Sentence after embedding:\n",
            "[[ 3.90564539e-02 -4.37968150e-02  4.33983505e-02 -6.71131834e-02\n",
            "  -3.36311609e-02 -3.11559550e-02  2.32949406e-02  1.28910141e-02\n",
            "   1.05438922e-02  5.16323373e-02  8.79232287e-02  2.86890119e-02\n",
            "   7.17808008e-02  6.80679679e-02 -3.80271138e-03 -3.56271677e-02\n",
            "  -9.73896459e-02 -7.06327632e-02 -3.36555168e-02 -2.00115424e-02\n",
            "   6.34635016e-02 -2.72110780e-03  2.72022909e-03 -2.42630597e-02\n",
            "   3.55663523e-02  4.35117120e-03  4.90006134e-02 -8.47771298e-03\n",
            "   1.11669973e-02  8.23688582e-02 -3.81249789e-04  9.57322791e-02\n",
            "  -3.05545963e-02 -3.01095266e-02  1.67242344e-02  2.47728955e-02\n",
            "   3.39937210e-02  3.74751426e-02  3.21462043e-02  1.31501835e-02\n",
            "   9.16333869e-02  7.31015652e-02 -1.01096267e-02  8.00804496e-02\n",
            "   4.07320708e-02  4.70499657e-02 -3.19355987e-02 -3.31771113e-02\n",
            "   3.32422704e-02  3.61383222e-02 -2.74717491e-02 -3.97139117e-02\n",
            "  -2.74730511e-02 -7.45926872e-02 -2.66646333e-02 -2.92372666e-02\n",
            "  -2.92297788e-02  1.47568164e-02 -8.49089306e-03 -1.09505868e-02\n",
            "  -7.40743056e-02 -9.35492441e-02  1.18734734e-03 -3.28226201e-03\n",
            "  -4.66951914e-02 -4.16356176e-02 -5.65397777e-02  2.99193896e-02\n",
            "   1.67426299e-02  7.62461424e-02  1.40798865e-02  4.62889522e-02\n",
            "  -9.42427572e-03  6.35605901e-02  2.19907751e-03  2.06735153e-02\n",
            "   4.04313585e-04  2.45997552e-02  3.53501402e-02  2.84233987e-02\n",
            "  -7.23462552e-02  1.31191704e-02  3.97572406e-02  2.50354391e-02\n",
            "  -3.77454273e-02  7.41224885e-02  7.04427063e-02  4.12568636e-02\n",
            "  -2.47184318e-02 -2.32644137e-02  6.42432794e-02  5.82706882e-03\n",
            "   2.33367668e-03 -2.19669193e-02 -5.86174875e-02  1.87267852e-03\n",
            "  -2.01427490e-02 -1.30900797e-02  5.33852056e-02 -2.90781166e-02\n",
            "  -2.93186102e-02  4.71312851e-02  2.71918550e-02 -1.07205464e-02\n",
            "  -5.74120246e-02 -5.22276461e-02 -1.48294922e-02 -1.36480399e-03\n",
            "  -6.80437535e-02 -4.83941808e-02  2.59517822e-02 -6.68832809e-02\n",
            "  -5.02449535e-02 -5.52676804e-02 -6.33211136e-02 -7.97496643e-03\n",
            "  -6.91727847e-02  7.61853391e-03  4.77403700e-02 -3.29766399e-03\n",
            "  -4.18410338e-02  3.88741381e-02 -5.23329936e-02  9.66095924e-03\n",
            "  -4.68723476e-02 -2.82016564e-02 -7.10730180e-02 -6.52447762e-03\n",
            "  -2.18690317e-02  5.80751747e-02 -2.35659871e-02  9.71289054e-02\n",
            "   8.00934620e-03 -4.37430404e-02 -8.19721818e-02  2.92437207e-02\n",
            "   6.83161914e-02  4.97924834e-02  2.45723892e-02  5.25573315e-03\n",
            "   2.49847360e-02 -4.95184831e-05 -1.90537795e-02 -4.96885143e-02\n",
            "  -4.18854915e-02  4.43058386e-02  5.48457028e-03 -3.81778553e-02\n",
            "   1.84325606e-03 -4.62315604e-02 -3.49600725e-02  1.44832330e-02\n",
            "  -5.83801940e-02 -3.27537470e-02  6.90991655e-02 -3.67985703e-02\n",
            "   3.00796516e-03 -1.16320206e-02 -2.86169797e-02 -2.93017626e-02\n",
            "  -1.57840457e-02 -6.45954311e-02  6.18390646e-03  5.69858868e-03\n",
            "  -7.20854057e-03 -2.43829470e-03 -5.67995422e-02 -3.03127075e-04\n",
            "   1.68494973e-03 -3.45627428e-03 -4.71199155e-02 -9.30740535e-02\n",
            "  -4.06515971e-03 -1.00347903e-02  3.20058987e-02 -6.57957345e-02\n",
            "  -4.19449918e-02 -5.85590722e-03  9.98182595e-03  3.19957621e-02\n",
            "   7.41907209e-02 -4.39125299e-02 -6.85974061e-02  4.99073155e-02\n",
            "   2.75702272e-02  6.90177083e-02  5.56004308e-02 -1.10706827e-02\n",
            "   6.01287298e-02  2.66508460e-02  1.49457008e-02 -1.32753821e-02\n",
            "   1.15319612e-02  3.27200480e-02  4.42525260e-02  7.50951245e-02\n",
            "   4.19713296e-02 -3.45396549e-02  8.33922252e-02 -7.88241625e-02\n",
            "  -2.20203698e-02  7.85976201e-02 -7.58002549e-02 -9.89047927e-04\n",
            "  -1.52722243e-02  2.63251550e-02 -6.02023350e-03  9.61827487e-02\n",
            "  -3.26136104e-03 -3.10450298e-04  4.06964719e-02 -4.89541478e-02\n",
            "   6.38872162e-02  5.07320371e-03  6.99953362e-03  4.23360504e-02\n",
            "   1.54743791e-02 -2.22825501e-02 -7.04365671e-02  3.22334282e-03\n",
            "   2.28818953e-02 -3.75988446e-02  3.09862606e-02  6.04284778e-02\n",
            "  -1.12058884e-02  7.05164447e-02 -2.29273345e-02 -5.55595085e-02\n",
            "  -6.17565662e-02  1.32050067e-02  5.14036566e-02  5.51539436e-02\n",
            "   2.20189299e-02 -3.72627266e-02  1.95127279e-02 -1.51566591e-03\n",
            "   4.98762839e-02 -6.22681566e-02  6.25602202e-03 -8.06552842e-02\n",
            "  -1.17680209e-03 -4.19703173e-03 -6.67266622e-02  4.07920368e-02\n",
            "  -5.17577752e-02 -6.81278706e-02 -8.67213532e-02 -9.36577469e-03\n",
            "   5.39728142e-02 -9.43647772e-02  3.97129059e-02  2.47759577e-02\n",
            "   1.39976339e-02 -2.53717620e-02  5.22937775e-02  4.33139782e-03\n",
            "  -8.44068266e-03 -2.59817187e-02 -2.12263465e-02  7.81979263e-02\n",
            "  -9.01712775e-02  1.94595400e-02 -5.97237237e-02 -1.37114581e-02\n",
            "   6.18126057e-02 -4.48637009e-02 -2.88699251e-02 -1.43634612e-02\n",
            "   1.39304064e-03  4.36888374e-02 -1.93954427e-02 -1.88125316e-02\n",
            "   1.73690300e-02 -5.75828999e-02  1.76026076e-02  1.09306984e-02\n",
            "  -2.04332788e-02  4.22150604e-02  6.44903183e-02 -7.26915151e-02\n",
            "   5.99332117e-02  2.70575508e-02 -7.88158104e-02  1.43343082e-03\n",
            "   4.57582995e-02  3.51990163e-02  7.64905429e-03  2.44492721e-02\n",
            "   1.82841793e-02  2.92807855e-02  9.44546834e-02  5.08933887e-03\n",
            "   7.46742263e-02 -6.26586601e-02 -6.74303100e-02 -3.46885212e-02\n",
            "   1.88081618e-02 -3.68521102e-02 -9.35829654e-02  5.64331189e-02\n",
            "  -1.17869666e-02 -7.84664452e-02 -3.40126157e-02 -2.22985521e-02\n",
            "   3.29077579e-02 -3.98154818e-02  4.03394131e-03  4.61817011e-02\n",
            "  -3.47757638e-02 -1.38329212e-02 -3.35607417e-02  2.48604594e-03\n",
            "  -7.51383379e-02  1.39420265e-02  8.32877774e-03  5.77817112e-03\n",
            "  -8.90638679e-02 -1.43834222e-02 -5.37149310e-02  5.47645874e-02\n",
            "  -2.52406187e-02 -5.01890145e-02  3.84876914e-02  6.23797737e-02\n",
            "  -6.91339895e-02  2.89022196e-02  1.29689667e-02  1.48427591e-03\n",
            "  -1.20088365e-02 -1.73522718e-02 -6.83364198e-02 -3.22039984e-02\n",
            "   4.92252968e-02 -2.53935922e-02 -5.41899703e-04 -1.45172479e-03\n",
            "  -5.02957664e-02 -2.62755505e-03 -5.13481833e-02  3.14197429e-02\n",
            "   5.19151427e-02 -2.55429894e-02  8.75236765e-02 -2.14249291e-03\n",
            "  -6.21336922e-02 -7.13079423e-02 -2.95572355e-02  1.11711295e-02\n",
            "   5.68542108e-02 -3.69187929e-02  2.03022826e-03 -9.67877626e-04\n",
            "   8.78272299e-03  2.81290170e-02  6.41967803e-02  7.42111579e-02\n",
            "  -8.36110711e-02 -1.65491141e-02  3.52544338e-03  3.33772972e-02\n",
            "   6.86927419e-03  3.17454189e-02 -4.87141088e-02  4.52591367e-02\n",
            "  -3.10293324e-02 -5.64417467e-02 -1.95553154e-02  6.90966398e-02\n",
            "  -2.92622466e-02 -1.11488719e-02  4.72838767e-02  1.28336772e-02\n",
            "   2.80578565e-02 -6.51918054e-02  1.64346618e-03 -1.26400851e-02\n",
            "   6.84121903e-03  1.98413860e-02  2.64659082e-03  1.68461651e-02\n",
            "  -6.84524328e-02 -8.29225183e-02  3.29112858e-02  1.53077133e-02\n",
            "  -9.50741873e-04  3.84209976e-02  6.61673620e-02 -1.45867430e-02\n",
            "   4.43078764e-02  2.38814559e-02  3.88094708e-02  5.48510700e-02\n",
            "  -4.73962203e-02 -4.81029116e-02 -4.45109420e-02  9.09691378e-02\n",
            "   3.93149629e-02  7.28720576e-02 -1.42154645e-03 -8.91950876e-02\n",
            "   1.61440279e-02 -8.73552449e-03 -8.06718543e-02 -1.82013102e-02\n",
            "   1.18473032e-02  4.84055188e-03 -6.14979155e-02  3.87534080e-03\n",
            "   6.27902150e-03  1.71962716e-02  1.80118307e-02 -1.32359089e-02\n",
            "  -4.23093587e-02  5.21478467e-02 -1.43817719e-02  9.55573693e-02\n",
            "  -2.26799939e-02  5.48942499e-02  2.46264003e-02 -7.55499229e-02\n",
            "   1.85123291e-02 -4.54027206e-02  4.00645472e-02  3.85718495e-02\n",
            "   2.05594189e-02 -3.55255306e-02 -1.63449831e-02  2.29731817e-02\n",
            "  -4.84801754e-02  2.07868516e-02 -8.12377408e-02 -2.96444334e-02\n",
            "   3.25343087e-02 -4.42172773e-02 -2.36567874e-02 -1.27450749e-02\n",
            "  -5.39917052e-02 -5.93806058e-02  2.99882330e-02 -3.08012124e-04\n",
            "   3.52150500e-02  5.87895215e-02 -6.84845150e-02  2.68137436e-02\n",
            "  -1.20459404e-02 -5.27316555e-02 -5.26743159e-02  5.21532865e-03\n",
            "   2.93144248e-02 -5.18237129e-02 -3.47281471e-02  6.43213615e-02\n",
            "  -2.38602534e-02  4.47250716e-02 -2.66547576e-02 -1.77649651e-02\n",
            "   2.71773096e-02  2.01873370e-02  1.07907319e-04 -4.02219817e-02\n",
            "  -8.23255703e-02  2.15380806e-02 -3.29579636e-02 -6.79123476e-02\n",
            "   9.40997079e-02 -5.48733212e-02 -6.77195042e-02  6.08045841e-03\n",
            "   1.40654230e-02 -2.28833798e-02  4.89034206e-02  4.17824909e-02\n",
            "  -2.47027576e-02  1.14861447e-02 -6.10736459e-02  2.84384005e-03\n",
            "   2.03976594e-02 -3.35795842e-02  2.44548973e-02  6.07062802e-02\n",
            "  -3.25711407e-02 -3.96931916e-02 -3.86940949e-02  3.17441230e-03\n",
            "   6.34883195e-02 -3.47920023e-02 -6.93645328e-02 -3.51147319e-04\n",
            "  -3.53989913e-03 -4.84362729e-02 -5.72189651e-02  5.78558259e-02\n",
            "  -4.12388779e-02 -6.44731075e-02 -9.68908891e-03  7.10576540e-03\n",
            "   3.94786038e-02 -1.32384012e-02 -3.58913653e-02 -8.85396227e-02\n",
            "  -2.68703587e-02 -2.72947494e-02 -1.46797150e-02  8.46822187e-02\n",
            "   1.40843168e-02 -9.73132476e-02  9.13860928e-03  4.09509614e-02\n",
            "   5.29695563e-02 -9.18073393e-03 -6.23295829e-02 -6.09037168e-02]]\n",
            "\n",
            "Length of sentence embedding:512\n"
          ]
        }
      ]
    },
    {
      "cell_type": "code",
      "source": [
        ""
      ],
      "metadata": {
        "id": "VKWQ-I-yZmq2"
      },
      "execution_count": null,
      "outputs": []
    },
    {
      "cell_type": "code",
      "source": [
        "tf.squeeze(use_embedded_sentence.shape)"
      ],
      "metadata": {
        "colab": {
          "base_uri": "https://localhost:8080/"
        },
        "id": "eDCbpqT_8VFB",
        "outputId": "f636a061-51c2-4076-9975-8b13479a41f2"
      },
      "execution_count": null,
      "outputs": [
        {
          "output_type": "execute_result",
          "data": {
            "text/plain": [
              "<tf.Tensor: shape=(2,), dtype=int32, numpy=array([  1, 512], dtype=int32)>"
            ]
          },
          "metadata": {},
          "execution_count": 55
        }
      ]
    },
    {
      "cell_type": "markdown",
      "source": [
        "### Building and fitting an NLP feature extraction model using pretrained embeddings TensorFlow Hub"
      ],
      "metadata": {
        "id": "ZvfLKIvZ8sFZ"
      }
    },
    {
      "cell_type": "code",
      "source": [
        "# Define feature extraction model using Hub layers\n",
        "inputs = layers.Input(shape = [],dtype = tf.string)\n",
        "pretrained_embedding = tf_hub_embedding_layer(inputs) # tokenize and create embedding of each sequence(512 long vector)\n",
        "x = layers.Dense(128,activation = \"relu\")(pretrained_embedding)\n",
        "# extra layer can be added \n",
        "outputs = layers.Dense(num_classes,activation = \"softmax\")(x) # Output layer\n",
        "model_2 = tf.keras.Model(inputs , outputs,name = \"model_2_USE_feature_extractor\")\n",
        "\n",
        "\n",
        "\n",
        "# COmpile the model\n",
        "model_2.compile(loss = \"categorical_crossentropy\",\n",
        "                optimizer = tf.keras.optimizers.Adam(),\n",
        "                metrics = [\"accuracy\"])"
      ],
      "metadata": {
        "id": "JMUweowiZ1Sx"
      },
      "execution_count": null,
      "outputs": []
    },
    {
      "cell_type": "code",
      "source": [
        "model_2.summary()"
      ],
      "metadata": {
        "colab": {
          "base_uri": "https://localhost:8080/"
        },
        "id": "yu-291icbMVC",
        "outputId": "1aaa007d-96dc-4441-b9c6-bb3ea292045a"
      },
      "execution_count": null,
      "outputs": [
        {
          "output_type": "stream",
          "name": "stdout",
          "text": [
            "Model: \"model_2_USE_feature_extractor\"\n",
            "_________________________________________________________________\n",
            " Layer (type)                Output Shape              Param #   \n",
            "=================================================================\n",
            " input_2 (InputLayer)        [(None,)]                 0         \n",
            "                                                                 \n",
            " universal_sentence_encoder   (None, 512)              256797824 \n",
            " (KerasLayer)                                                    \n",
            "                                                                 \n",
            " dense_1 (Dense)             (None, 128)               65664     \n",
            "                                                                 \n",
            " dense_2 (Dense)             (None, 5)                 645       \n",
            "                                                                 \n",
            "=================================================================\n",
            "Total params: 256,864,133\n",
            "Trainable params: 66,309\n",
            "Non-trainable params: 256,797,824\n",
            "_________________________________________________________________\n"
          ]
        }
      ]
    },
    {
      "cell_type": "code",
      "source": [
        "# Fit the model_2\n",
        "history_model_2 = model_2.fit(train_dataset,\n",
        "                              epochs = 3,\n",
        "                              steps_per_epoch = int(0.1*len(train_dataset)),\n",
        "                              validation_data = valid_dataset,\n",
        "                              validation_steps = int(0.1*len(valid_dataset)))"
      ],
      "metadata": {
        "colab": {
          "base_uri": "https://localhost:8080/"
        },
        "id": "BE39W5qybN1P",
        "outputId": "642db471-16d0-451e-96a6-2610145a0045"
      },
      "execution_count": null,
      "outputs": [
        {
          "output_type": "stream",
          "name": "stdout",
          "text": [
            "Epoch 1/3\n",
            "562/562 [==============================] - 9s 12ms/step - loss: 0.9186 - accuracy: 0.6483 - val_loss: 0.7966 - val_accuracy: 0.6908\n",
            "Epoch 2/3\n",
            "562/562 [==============================] - 7s 12ms/step - loss: 0.7679 - accuracy: 0.7026 - val_loss: 0.7551 - val_accuracy: 0.7051\n",
            "Epoch 3/3\n",
            "562/562 [==============================] - 7s 12ms/step - loss: 0.7503 - accuracy: 0.7132 - val_loss: 0.7369 - val_accuracy: 0.7138\n"
          ]
        }
      ]
    },
    {
      "cell_type": "code",
      "source": [
        "# Evaluate on the validation dataset\n",
        "model_2.evaluate(valid_dataset)"
      ],
      "metadata": {
        "colab": {
          "base_uri": "https://localhost:8080/"
        },
        "id": "wZK4U3kMbko8",
        "outputId": "29ce4992-ee22-4ab3-998b-dc827e7311bd"
      },
      "execution_count": null,
      "outputs": [
        {
          "output_type": "stream",
          "name": "stdout",
          "text": [
            "945/945 [==============================] - 10s 11ms/step - loss: 0.7392 - accuracy: 0.7145\n"
          ]
        },
        {
          "output_type": "execute_result",
          "data": {
            "text/plain": [
              "[0.7391574382781982, 0.7144511938095093]"
            ]
          },
          "metadata": {},
          "execution_count": 59
        }
      ]
    },
    {
      "cell_type": "code",
      "source": [
        "# Make predictions on the valid data\n",
        "model_2_pred_probs = model_2.predict(valid_dataset)"
      ],
      "metadata": {
        "id": "Pyteb5GMb4h6"
      },
      "execution_count": null,
      "outputs": []
    },
    {
      "cell_type": "code",
      "source": [
        "model_2_pred_probs"
      ],
      "metadata": {
        "colab": {
          "base_uri": "https://localhost:8080/"
        },
        "id": "fEVskZQTcAV8",
        "outputId": "7032b788-02ef-4684-e670-92840adf8580"
      },
      "execution_count": null,
      "outputs": [
        {
          "output_type": "execute_result",
          "data": {
            "text/plain": [
              "array([[4.0978852e-01, 3.8030589e-01, 2.2466544e-03, 2.0012049e-01,\n",
              "        7.5384327e-03],\n",
              "       [3.5427168e-01, 4.8429134e-01, 4.2486843e-03, 1.5459216e-01,\n",
              "        2.5960840e-03],\n",
              "       [2.5012857e-01, 1.6257608e-01, 1.9049319e-02, 5.2880728e-01,\n",
              "        3.9438773e-02],\n",
              "       ...,\n",
              "       [1.9871667e-03, 7.7190348e-03, 6.2017351e-02, 8.8566751e-04,\n",
              "        9.2739081e-01],\n",
              "       [4.2919978e-03, 4.4376533e-02, 2.0720914e-01, 1.6632576e-03,\n",
              "        7.4245900e-01],\n",
              "       [2.0225182e-01, 2.5906941e-01, 4.4908929e-01, 9.4952686e-03,\n",
              "        8.0094166e-02]], dtype=float32)"
            ]
          },
          "metadata": {},
          "execution_count": 61
        }
      ]
    },
    {
      "cell_type": "code",
      "source": [
        "# COnvert the predictions probabilites found with feature extraction model to label\n",
        "model_2_preds = tf.argmax(model_2_pred_probs,axis = 1)"
      ],
      "metadata": {
        "id": "hCIL_LEocDMF"
      },
      "execution_count": null,
      "outputs": []
    },
    {
      "cell_type": "code",
      "source": [
        "model_2_preds"
      ],
      "metadata": {
        "colab": {
          "base_uri": "https://localhost:8080/"
        },
        "id": "3A6kAZStcQfw",
        "outputId": "a39c41d0-faf9-4f18-ebe8-2455a8327f48"
      },
      "execution_count": null,
      "outputs": [
        {
          "output_type": "execute_result",
          "data": {
            "text/plain": [
              "<tf.Tensor: shape=(30212,), dtype=int64, numpy=array([0, 1, 3, ..., 4, 4, 2])>"
            ]
          },
          "metadata": {},
          "execution_count": 63
        }
      ]
    },
    {
      "cell_type": "code",
      "source": [
        "# Calculate results from TF Hub pretrained embedding results on the val set\n",
        "model_2_results = calculate_results(val_labels_encoded,model_2_preds)\n",
        "model_2_results"
      ],
      "metadata": {
        "colab": {
          "base_uri": "https://localhost:8080/"
        },
        "id": "Y_3zT4ZrcRab",
        "outputId": "1438fab6-587f-4842-cdd5-790cc8579843"
      },
      "execution_count": null,
      "outputs": [
        {
          "output_type": "execute_result",
          "data": {
            "text/plain": [
              "{'accuracy': 71.44512114391632,\n",
              " 'f1': 0.7115647846354455,\n",
              " 'precision': 0.7145510328187121,\n",
              " 'recall': 0.7144512114391632}"
            ]
          },
          "metadata": {},
          "execution_count": 64
        }
      ]
    },
    {
      "cell_type": "markdown",
      "source": [
        "## Model 3: Conv1D with character embedding\n",
        "\n",
        "The paper which we're replicating states that they used combination of token and character embeddings.\n",
        "\n",
        "Previously we've token-level embedding but we'll need to do similiar steps for characters if we want to use char-level embeddings"
      ],
      "metadata": {
        "id": "Osplm2FJcY06"
      }
    },
    {
      "cell_type": "markdown",
      "source": [
        "### Creating a charater level tokenizer"
      ],
      "metadata": {
        "id": "gcYJ-7NjdQ4P"
      }
    },
    {
      "cell_type": "code",
      "source": [
        "train_sentences[:5]"
      ],
      "metadata": {
        "colab": {
          "base_uri": "https://localhost:8080/"
        },
        "id": "cxK0vA5Edy29",
        "outputId": "4ec58bdd-fc66-40e6-8f78-18adbdb8e86a"
      },
      "execution_count": null,
      "outputs": [
        {
          "output_type": "execute_result",
          "data": {
            "text/plain": [
              "['to investigate the efficacy of @ weeks of daily low-dose oral prednisolone in improving pain , mobility , and systemic low-grade inflammation in the short term and whether the effect would be sustained at @ weeks in older adults with moderate to severe knee osteoarthritis ( oa ) .',\n",
              " 'a total of @ patients with primary knee oa were randomized @:@ ; @ received @ mg/day of prednisolone and @ received placebo for @ weeks .',\n",
              " 'outcome measures included pain reduction and improvement in function scores and systemic inflammation markers .',\n",
              " 'pain was assessed using the visual analog pain scale ( @-@ mm ) .',\n",
              " 'secondary outcome measures included the western ontario and mcmaster universities osteoarthritis index scores , patient global assessment ( pga ) of the severity of knee oa , and @-min walk distance ( @mwd ) .']"
            ]
          },
          "metadata": {},
          "execution_count": 65
        }
      ]
    },
    {
      "cell_type": "code",
      "source": [
        "# Make function to split sentences into characters\n",
        "def split_chars(text):\n",
        "  return \" \".join(list(text))\n",
        "\n",
        "# Text splitting non-character-level sequence into character\n",
        "# split_chars(random_train_sentence)"
      ],
      "metadata": {
        "id": "_TQBLLujd1Zf"
      },
      "execution_count": null,
      "outputs": []
    },
    {
      "cell_type": "code",
      "source": [
        "# Split sequence-level data splits into character-level data splits\n",
        "train_chars = [split_chars(sentence) for sentence in train_sentences]\n",
        "val_chars = [split_chars(sentence) for sentence in val_sentences]\n",
        "test_chars = [split_chars(sentence) for sentence in test_sentences]\n",
        "train_chars[:5]"
      ],
      "metadata": {
        "colab": {
          "base_uri": "https://localhost:8080/"
        },
        "id": "Gse39R5AeM07",
        "outputId": "74ca584e-e338-4fcd-914a-34a0d48e115a"
      },
      "execution_count": null,
      "outputs": [
        {
          "output_type": "execute_result",
          "data": {
            "text/plain": [
              "['t o   i n v e s t i g a t e   t h e   e f f i c a c y   o f   @   w e e k s   o f   d a i l y   l o w - d o s e   o r a l   p r e d n i s o l o n e   i n   i m p r o v i n g   p a i n   ,   m o b i l i t y   ,   a n d   s y s t e m i c   l o w - g r a d e   i n f l a m m a t i o n   i n   t h e   s h o r t   t e r m   a n d   w h e t h e r   t h e   e f f e c t   w o u l d   b e   s u s t a i n e d   a t   @   w e e k s   i n   o l d e r   a d u l t s   w i t h   m o d e r a t e   t o   s e v e r e   k n e e   o s t e o a r t h r i t i s   (   o a   )   .',\n",
              " 'a   t o t a l   o f   @   p a t i e n t s   w i t h   p r i m a r y   k n e e   o a   w e r e   r a n d o m i z e d   @ : @   ;   @   r e c e i v e d   @   m g / d a y   o f   p r e d n i s o l o n e   a n d   @   r e c e i v e d   p l a c e b o   f o r   @   w e e k s   .',\n",
              " 'o u t c o m e   m e a s u r e s   i n c l u d e d   p a i n   r e d u c t i o n   a n d   i m p r o v e m e n t   i n   f u n c t i o n   s c o r e s   a n d   s y s t e m i c   i n f l a m m a t i o n   m a r k e r s   .',\n",
              " 'p a i n   w a s   a s s e s s e d   u s i n g   t h e   v i s u a l   a n a l o g   p a i n   s c a l e   (   @ - @   m m   )   .',\n",
              " 's e c o n d a r y   o u t c o m e   m e a s u r e s   i n c l u d e d   t h e   w e s t e r n   o n t a r i o   a n d   m c m a s t e r   u n i v e r s i t i e s   o s t e o a r t h r i t i s   i n d e x   s c o r e s   ,   p a t i e n t   g l o b a l   a s s e s s m e n t   (   p g a   )   o f   t h e   s e v e r i t y   o f   k n e e   o a   ,   a n d   @ - m i n   w a l k   d i s t a n c e   (   @ m w d   )   .']"
            ]
          },
          "metadata": {},
          "execution_count": 22
        }
      ]
    },
    {
      "cell_type": "code",
      "source": [
        "# What's the average character length\n",
        "char_lens = [len(sentence) for sentence in train_sentences]\n",
        "mean_char_len = np.mean(char_lens)\n",
        "mean_char_len"
      ],
      "metadata": {
        "colab": {
          "base_uri": "https://localhost:8080/"
        },
        "id": "47BYmFAYfKI6",
        "outputId": "e4220d6f-17c7-4e68-a1e5-51c85837b1ee"
      },
      "execution_count": null,
      "outputs": [
        {
          "output_type": "execute_result",
          "data": {
            "text/plain": [
              "149.3662574983337"
            ]
          },
          "metadata": {},
          "execution_count": 68
        }
      ]
    },
    {
      "cell_type": "code",
      "source": [
        "# Check the distribution of our sequence at a character level\n",
        "import matplotlib.pyplot as plt\n",
        "plt.hist(char_lens,bins = 7);"
      ],
      "metadata": {
        "colab": {
          "base_uri": "https://localhost:8080/",
          "height": 265
        },
        "id": "xz_92fpMfeSs",
        "outputId": "bae3771d-3cdd-4550-82eb-adaf5e2bf8ed"
      },
      "execution_count": null,
      "outputs": [
        {
          "output_type": "display_data",
          "data": {
            "text/plain": [
              "<Figure size 432x288 with 1 Axes>"
            ],
            "image/png": "[encoded data removed]"
          },
          "metadata": {
            "needs_background": "light"
          }
        }
      ]
    },
    {
      "cell_type": "code",
      "source": [
        "# Find what charater length covers 95% of sequence\n",
        "output_seq_char_len = int(np.percentile(char_lens,95))\n",
        "output_seq_char_len"
      ],
      "metadata": {
        "colab": {
          "base_uri": "https://localhost:8080/"
        },
        "id": "B3MJ5zZygcpc",
        "outputId": "7d062da8-0fc0-4cfb-9272-1877114e3649"
      },
      "execution_count": null,
      "outputs": [
        {
          "output_type": "execute_result",
          "data": {
            "text/plain": [
              "290"
            ]
          },
          "metadata": {},
          "execution_count": 70
        }
      ]
    },
    {
      "cell_type": "code",
      "source": [
        "# Get all keyboard characters\n",
        "import string\n",
        "alphabet = string.ascii_lowercase + string.digits + string.punctuation\n",
        "alphabet"
      ],
      "metadata": {
        "colab": {
          "base_uri": "https://localhost:8080/",
          "height": 36
        },
        "id": "shSuaLEhhAli",
        "outputId": "17f7ee5e-2fcb-4340-8654-02114211aea9"
      },
      "execution_count": null,
      "outputs": [
        {
          "output_type": "execute_result",
          "data": {
            "text/plain": [
              "'abcdefghijklmnopqrstuvwxyz0123456789!\"#$%&\\'()*+,-./:;<=>?@[\\\\]^_`{|}~'"
            ],
            "application/vnd.google.colaboratory.intrinsic+json": {
              "type": "string"
            }
          },
          "metadata": {},
          "execution_count": 71
        }
      ]
    },
    {
      "cell_type": "code",
      "source": [
        "# Create char-level token vectorizer instance\n",
        "NUM_CHAR_TOKENS = len(alphabet)\n",
        "char_vectorizer = TextVectorization(max_tokens = NUM_CHAR_TOKENS,\n",
        "                                    output_sequence_length = output_seq_char_len,\n",
        "                                    # standardize = None, # set standardization to None if we want to leave punctuation in\n",
        "                                    name = \"char_vectorizer\")"
      ],
      "metadata": {
        "id": "yBNUIcOjhdqw"
      },
      "execution_count": null,
      "outputs": []
    },
    {
      "cell_type": "code",
      "source": [
        "# Adapt character vectorizer to training character\n",
        "char_vectorizer.adapt(train_chars)"
      ],
      "metadata": {
        "id": "wSEYtVQzh7hg"
      },
      "execution_count": null,
      "outputs": []
    },
    {
      "cell_type": "code",
      "source": [
        "# Check character vectorizer to train character\n",
        "char_vocab = char_vectorizer.get_vocabulary()\n",
        "print(f\"Number of different character in the character vocab:{len(char_vocab)}\")\n",
        "print(f\"5 most coomon character :{char_vocab[:5]}\")\n",
        "print(f\"5 least commom character: {char_vocab[-5:]} \")"
      ],
      "metadata": {
        "colab": {
          "base_uri": "https://localhost:8080/"
        },
        "id": "7FCQEW6RiFFH",
        "outputId": "81fcf602-22cb-4f2b-a209-248d4c8c622e"
      },
      "execution_count": null,
      "outputs": [
        {
          "output_type": "stream",
          "name": "stdout",
          "text": [
            "Number of different character in the character vocab:28\n",
            "5 most coomon character :['', '[UNK]', 'e', 't', 'i']\n",
            "5 least commom character: ['k', 'x', 'z', 'q', 'j'] \n"
          ]
        }
      ]
    },
    {
      "cell_type": "code",
      "source": [
        "# Test out the character vectorizer\n",
        "random_train_chars = random.choice(train_chars)\n",
        "print(f\" Charified text:\\n{random_train_chars}\")\n",
        "print(f\"Length of random_train_chars:{len(random_train_chars.split())}\\n\")\n",
        "vectorized_chars = char_vectorizer([random_train_chars])\n",
        "print(f\"Vectorized chars:\\n{vectorized_chars}\")\n",
        "print(f\"\\nLength of vectorized chars:\\n {len(vectorized_chars[0])}\")"
      ],
      "metadata": {
        "colab": {
          "base_uri": "https://localhost:8080/"
        },
        "id": "km4HS4igi7Rq",
        "outputId": "c615c32b-bd62-4cd1-d48c-ca2f97978e4e"
      },
      "execution_count": null,
      "outputs": [
        {
          "output_type": "stream",
          "name": "stdout",
          "text": [
            " Charified text:\n",
            "i n c i d e n c e   o f   a d v e r s e   e v e n t s   w a s   r e l a t e d   t o   u n d e r l y i n g   d i s e a s e   ;   m a l a r i a   b e i n g   r e p o r t e d   i n   b o t h   t r e a t m e n t   a r m s   .\n",
            "Length of random_train_chars:94\n",
            "\n",
            "Vectorized chars:\n",
            "[[ 4  6 11  4 10  2  6 11  2  7 17  5 10 21  2  8  9  2  2 21  2  6  3  9\n",
            "  20  5  9  8  2 12  5  3  2 10  3  7 16  6 10  2  8 12 19  4  6 18 10  4\n",
            "   9  2  5  9  2 15  5 12  5  8  4  5 22  2  4  6 18  8  2 14  7  8  3  2\n",
            "  10  4  6 22  7  3 13  3  8  2  5  3 15  2  6  3  5  8 15  9  0  0  0  0\n",
            "   0  0  0  0  0  0  0  0  0  0  0  0  0  0  0  0  0  0  0  0  0  0  0  0\n",
            "   0  0  0  0  0  0  0  0  0  0  0  0  0  0  0  0  0  0  0  0  0  0  0  0\n",
            "   0  0  0  0  0  0  0  0  0  0  0  0  0  0  0  0  0  0  0  0  0  0  0  0\n",
            "   0  0  0  0  0  0  0  0  0  0  0  0  0  0  0  0  0  0  0  0  0  0  0  0\n",
            "   0  0  0  0  0  0  0  0  0  0  0  0  0  0  0  0  0  0  0  0  0  0  0  0\n",
            "   0  0  0  0  0  0  0  0  0  0  0  0  0  0  0  0  0  0  0  0  0  0  0  0\n",
            "   0  0  0  0  0  0  0  0  0  0  0  0  0  0  0  0  0  0  0  0  0  0  0  0\n",
            "   0  0  0  0  0  0  0  0  0  0  0  0  0  0  0  0  0  0  0  0  0  0  0  0\n",
            "   0  0]]\n",
            "\n",
            "Length of vectorized chars:\n",
            " 290\n"
          ]
        }
      ]
    },
    {
      "cell_type": "markdown",
      "source": [
        "## Creating a character-level embedding"
      ],
      "metadata": {
        "id": "WVUHkoFGjZ6x"
      }
    },
    {
      "cell_type": "code",
      "source": [
        "# Create char embedding layer\n",
        "char_embed = layers.Embedding(input_dim = len(char_vocab),\n",
        "                              output_dim = 25,\n",
        "                              mask_zero = True,\n",
        "                              name = \"char_embed\")"
      ],
      "metadata": {
        "id": "Hiks2x34kumh"
      },
      "execution_count": null,
      "outputs": []
    },
    {
      "cell_type": "code",
      "source": [
        "# Test our characte embedding layer\n",
        "print(f\"Charified text: \\n{random_train_chars}\\n\")\n",
        "char_embed_example = char_embed(char_vectorizer([random_train_chars]))\n",
        "print(f\"Embedded chars.(after vectorization):\\n {char_embed_example}\\n\")\n",
        "print(f\"Character embedding shape: {char_embed_example.shape}\")"
      ],
      "metadata": {
        "colab": {
          "base_uri": "https://localhost:8080/"
        },
        "id": "eijBTiGylIGA",
        "outputId": "85c09753-450c-45d2-b0fe-fcf0483eaf6a"
      },
      "execution_count": null,
      "outputs": [
        {
          "output_type": "stream",
          "name": "stdout",
          "text": [
            "Charified text: \n",
            "i n c i d e n c e   o f   a d v e r s e   e v e n t s   w a s   r e l a t e d   t o   u n d e r l y i n g   d i s e a s e   ;   m a l a r i a   b e i n g   r e p o r t e d   i n   b o t h   t r e a t m e n t   a r m s   .\n",
            "\n",
            "Embedded chars.(after vectorization):\n",
            " [[[-0.01724212  0.01176887 -0.01401349 ...  0.04560247 -0.02077821\n",
            "   -0.0013475 ]\n",
            "  [ 0.01346746  0.04566422  0.02050293 ...  0.01323769 -0.00030116\n",
            "    0.01720801]\n",
            "  [-0.02280462 -0.0442839   0.04630257 ...  0.00584733 -0.01018995\n",
            "    0.01230564]\n",
            "  ...\n",
            "  [-0.04291065 -0.01485316 -0.02636116 ... -0.03281172 -0.01605765\n",
            "   -0.02003236]\n",
            "  [-0.04291065 -0.01485316 -0.02636116 ... -0.03281172 -0.01605765\n",
            "   -0.02003236]\n",
            "  [-0.04291065 -0.01485316 -0.02636116 ... -0.03281172 -0.01605765\n",
            "   -0.02003236]]]\n",
            "\n",
            "Character embedding shape: (1, 290, 25)\n"
          ]
        }
      ]
    },
    {
      "cell_type": "markdown",
      "source": [
        "### Building a Conv1D to fit the character embedding"
      ],
      "metadata": {
        "id": "a2nmHDIqlw39"
      }
    },
    {
      "cell_type": "code",
      "source": [
        "# Make Conv1D on chars only\n",
        "inputs = layers.Input(shape = (1,),dtype = \"string\")\n",
        "char_vectors = char_vectorizer(inputs)\n",
        "char_embeddings = char_embed(char_vectors)\n",
        "x= layers.Conv1D(64,kernel_size = 5 , padding= \"same\",activation = \"relu\")(char_embeddings)\n",
        "x= layers.GlobalMaxPool1D()(x)\n",
        "outputs = layers.Dense(num_classes,activation = \"softmax\")(x)\n",
        "model_3 = tf.keras.Model(inputs ,outputs,name = \"model_3_conv1d_char_embeddings\")\n",
        "\n",
        "# COmpile the model\n",
        "model_3.compile(loss = \"categorical_crossentropy\",\n",
        "                optimizer = tf.keras.optimizers.Adam(),\n",
        "                metrics = [\"accuracy\"])"
      ],
      "metadata": {
        "id": "iF22V7yS8-U0"
      },
      "execution_count": null,
      "outputs": []
    },
    {
      "cell_type": "code",
      "source": [
        "# Get the summary\n",
        "model_3.summary()"
      ],
      "metadata": {
        "colab": {
          "base_uri": "https://localhost:8080/"
        },
        "id": "U2Gh2ttz-AED",
        "outputId": "ebe16d33-4478-4634-b36e-03975dc38d8d"
      },
      "execution_count": null,
      "outputs": [
        {
          "output_type": "stream",
          "name": "stdout",
          "text": [
            "Model: \"model_3_conv1d_char_embeddings\"\n",
            "_________________________________________________________________\n",
            " Layer (type)                Output Shape              Param #   \n",
            "=================================================================\n",
            " input_3 (InputLayer)        [(None, 1)]               0         \n",
            "                                                                 \n",
            " char_vectorizer (TextVector  (None, 290)              0         \n",
            " ization)                                                        \n",
            "                                                                 \n",
            " char_embed (Embedding)      (None, 290, 25)           700       \n",
            "                                                                 \n",
            " conv1d_1 (Conv1D)           (None, 290, 64)           8064      \n",
            "                                                                 \n",
            " global_max_pooling1d (Globa  (None, 64)               0         \n",
            " lMaxPooling1D)                                                  \n",
            "                                                                 \n",
            " dense_3 (Dense)             (None, 5)                 325       \n",
            "                                                                 \n",
            "=================================================================\n",
            "Total params: 9,089\n",
            "Trainable params: 9,089\n",
            "Non-trainable params: 0\n",
            "_________________________________________________________________\n"
          ]
        }
      ]
    },
    {
      "cell_type": "code",
      "source": [
        "# Create char level datasets\n",
        "train_char_dataset = tf.data.Dataset.from_tensor_slices((train_chars,train_labels_one_hot)).batch(32).prefetch(tf.data.AUTOTUNE)\n",
        "\n",
        "val_char_dataset = tf.data.Dataset.from_tensor_slices((val_chars,val_labels_one_hot)).batch(32).prefetch(tf.data.AUTOTUNE)\n",
        "\n",
        "test_char_dataset = tf.data.Dataset.from_tensor_slices((test_chars,test_labels_one_hot)).batch(32).prefetch(tf.data.AUTOTUNE)"
      ],
      "metadata": {
        "id": "L537L6Kh-GOo"
      },
      "execution_count": null,
      "outputs": []
    },
    {
      "cell_type": "code",
      "source": [
        "train_char_dataset"
      ],
      "metadata": {
        "colab": {
          "base_uri": "https://localhost:8080/"
        },
        "id": "9ItcyVLl-i6b",
        "outputId": "d8d01e9a-29cf-4b8d-aa84-266bd21611a1"
      },
      "execution_count": null,
      "outputs": [
        {
          "output_type": "execute_result",
          "data": {
            "text/plain": [
              "<PrefetchDataset element_spec=(TensorSpec(shape=(None,), dtype=tf.string, name=None), TensorSpec(shape=(None, 5), dtype=tf.float64, name=None))>"
            ]
          },
          "metadata": {},
          "execution_count": 81
        }
      ]
    },
    {
      "cell_type": "code",
      "source": [
        "# Fit the model on chars only\n",
        "model_3_history = model_3.fit(train_char_dataset,\n",
        "                             epochs = 3,\n",
        "                              steps_per_epoch = int(0.1*len(train_char_dataset)),\n",
        "                              validation_data = val_char_dataset,\n",
        "                              validation_steps = int(0.1*len(val_char_dataset)))"
      ],
      "metadata": {
        "colab": {
          "base_uri": "https://localhost:8080/"
        },
        "id": "adNSXQAr-l0s",
        "outputId": "cecc2d93-c7f2-40f5-e6dc-98c76846e59d"
      },
      "execution_count": null,
      "outputs": [
        {
          "output_type": "stream",
          "name": "stdout",
          "text": [
            "Epoch 1/3\n",
            "562/562 [==============================] - 4s 6ms/step - loss: 1.2539 - accuracy: 0.4905 - val_loss: 1.0479 - val_accuracy: 0.5808\n",
            "Epoch 2/3\n",
            "562/562 [==============================] - 3s 5ms/step - loss: 1.0010 - accuracy: 0.5996 - val_loss: 0.9417 - val_accuracy: 0.6250\n",
            "Epoch 3/3\n",
            "562/562 [==============================] - 3s 6ms/step - loss: 0.9199 - accuracy: 0.6448 - val_loss: 0.8720 - val_accuracy: 0.6636\n"
          ]
        }
      ]
    },
    {
      "cell_type": "code",
      "source": [
        "# Make predictions with the character model only\n",
        "model_3_pred_probs = model_3.predict(val_char_dataset)\n",
        "model_3_pred_probs\n"
      ],
      "metadata": {
        "colab": {
          "base_uri": "https://localhost:8080/"
        },
        "id": "-3D2JmEs_Ajr",
        "outputId": "30f790fd-b65a-46f7-f42a-0d7e767784c9"
      },
      "execution_count": null,
      "outputs": [
        {
          "output_type": "execute_result",
          "data": {
            "text/plain": [
              "array([[0.18172131, 0.32230973, 0.1421404 , 0.3001852 , 0.05364335],\n",
              "       [0.29993305, 0.44654146, 0.00688627, 0.22552124, 0.02111799],\n",
              "       [0.1304034 , 0.24597624, 0.11321782, 0.4786813 , 0.03172121],\n",
              "       ...,\n",
              "       [0.01386974, 0.0388517 , 0.06661125, 0.02425321, 0.85641414],\n",
              "       [0.03571367, 0.21331228, 0.33248752, 0.07753335, 0.34095317],\n",
              "       [0.43286967, 0.44532555, 0.06091786, 0.04212606, 0.01876093]],\n",
              "      dtype=float32)"
            ]
          },
          "metadata": {},
          "execution_count": 83
        }
      ]
    },
    {
      "cell_type": "code",
      "source": [
        "# Convert prediction probabiblities to class labels\n",
        "model_3_preds = tf.argmax(model_3_pred_probs,axis = 1)\n",
        "model_3_preds"
      ],
      "metadata": {
        "colab": {
          "base_uri": "https://localhost:8080/"
        },
        "id": "cE1Vi17k_nod",
        "outputId": "5523449f-05f7-4cf8-8be4-5ed3d38fd9dc"
      },
      "execution_count": null,
      "outputs": [
        {
          "output_type": "execute_result",
          "data": {
            "text/plain": [
              "<tf.Tensor: shape=(30212,), dtype=int64, numpy=array([1, 1, 3, ..., 4, 4, 1])>"
            ]
          },
          "metadata": {},
          "execution_count": 84
        }
      ]
    },
    {
      "cell_type": "code",
      "source": [
        "# Calculate the reults\n",
        "model_3_results = calculate_results(val_labels_encoded,\n",
        "                                    model_3_preds)"
      ],
      "metadata": {
        "id": "HXrI-b6Q_zx7"
      },
      "execution_count": null,
      "outputs": []
    },
    {
      "cell_type": "code",
      "source": [
        "model_3_results"
      ],
      "metadata": {
        "colab": {
          "base_uri": "https://localhost:8080/"
        },
        "id": "7aYjg2uR_9BN",
        "outputId": "e6d832e8-72f7-4fb5-b19a-77784196ee2e"
      },
      "execution_count": null,
      "outputs": [
        {
          "output_type": "execute_result",
          "data": {
            "text/plain": [
              "{'accuracy': 66.23196081027406,\n",
              " 'f1': 0.6525660364289612,\n",
              " 'precision': 0.6550082658227016,\n",
              " 'recall': 0.6623196081027406}"
            ]
          },
          "metadata": {},
          "execution_count": 86
        }
      ]
    },
    {
      "cell_type": "markdown",
      "source": [
        "## Model 4: Combining pretrained token embedding + characters embedding (hybrid embedding layers)\n",
        "\n",
        "1. Create a token-level embedding (similar to model_1)\n",
        "2. Create a character-level model (similar to model_3 with a slight modification)\n",
        "3. Combine 1 & 2 with  a concatenate ('layers.Concatenate')\n",
        "4. Build a series of output layers on the top.\n",
        "5. Construct a model which takes token and character-level sequence as input and produces sequence label probabilities as output"
      ],
      "metadata": {
        "id": "3XpzdeSE_-Uq"
      }
    },
    {
      "cell_type": "code",
      "source": [
        "# 1. Setup token inputs/model\n",
        "token_inputs = layers.Input(shape = [],dtype = tf.string , name = \"token_input\")\n",
        "token_embeddings = tf_hub_embedding_layer(token_inputs)\n",
        "token_outputs = layers.Dense(128,activation = \"relu\")(token_embeddings)\n",
        "token_model = tf.keras.Model(inputs = token_inputs , \n",
        "                             outputs = token_outputs)\n",
        "\n",
        "\n",
        "# 2. Setup char inputs/model\n",
        "char_inputs = layers.Input(shape = (1,),dtype = tf.string,name = \"char_input\")\n",
        "char_vectors = char_vectorizer(char_inputs)\n",
        "char_embeddings = char_embed(char_vectors)\n",
        "char_bi_lstm = layers.Bidirectional(layers.LSTM(24))(char_embeddings) # bi-LSTM\n",
        "char_model = tf.keras.Model(inputs = char_inputs , \n",
        "                            outputs = char_bi_lstm)\n",
        "\n",
        "\n",
        "# 3. Concatenate token and char inputs (create hybrid token embedding)\n",
        "token_char_concat = layers.Concatenate(name = \"token_char_hybrid\")([token_model.output,\n",
        "                                                                    char_model.output])\n",
        "\n",
        "# 4. Create output layers - adding in Dropout\n",
        "combined_dropout = layers.Dropout(0.5)(token_char_concat)\n",
        "combined_dense = layers.Dense(128,activation = \"relu\")(combined_dropout)\n",
        "final_dropout = layers.Dropout(0.5)(combined_dense)\n",
        "output_layer = layers.Dense(num_classes,activation = \"softmax\")(final_dropout)\n",
        "\n",
        "# 5. Construct model with char and token inputs\n",
        "model_4 = tf.keras.Model(inputs=[token_model.input,char_model.input],\n",
        "                         outputs = output_layer,\n",
        "                         name = \"model_4\")"
      ],
      "metadata": {
        "id": "Ds5o25CVBr8K"
      },
      "execution_count": null,
      "outputs": []
    },
    {
      "cell_type": "code",
      "source": [
        "# Get the summary of the model\n",
        "model_4.summary()"
      ],
      "metadata": {
        "colab": {
          "base_uri": "https://localhost:8080/"
        },
        "id": "-K79a59oFl6b",
        "outputId": "f426d649-26a8-4103-de6a-766e0ca9c2b4"
      },
      "execution_count": null,
      "outputs": [
        {
          "output_type": "stream",
          "name": "stdout",
          "text": [
            "Model: \"model_4\"\n",
            "__________________________________________________________________________________________________\n",
            " Layer (type)                   Output Shape         Param #     Connected to                     \n",
            "==================================================================================================\n",
            " char_input (InputLayer)        [(None, 1)]          0           []                               \n",
            "                                                                                                  \n",
            " token_input (InputLayer)       [(None,)]            0           []                               \n",
            "                                                                                                  \n",
            " char_vectorizer (TextVectoriza  (None, 290)         0           ['char_input[0][0]']             \n",
            " tion)                                                                                            \n",
            "                                                                                                  \n",
            " universal_sentence_encoder (Ke  (None, 512)         256797824   ['token_input[0][0]']            \n",
            " rasLayer)                                                                                        \n",
            "                                                                                                  \n",
            " char_embed (Embedding)         (None, 290, 25)      700         ['char_vectorizer[1][0]']        \n",
            "                                                                                                  \n",
            " dense_4 (Dense)                (None, 128)          65664       ['universal_sentence_encoder[1][0\n",
            "                                                                 ]']                              \n",
            "                                                                                                  \n",
            " bidirectional (Bidirectional)  (None, 48)           9600        ['char_embed[1][0]']             \n",
            "                                                                                                  \n",
            " token_char_hybrid (Concatenate  (None, 176)         0           ['dense_4[0][0]',                \n",
            " )                                                                'bidirectional[0][0]']          \n",
            "                                                                                                  \n",
            " dropout (Dropout)              (None, 176)          0           ['token_char_hybrid[0][0]']      \n",
            "                                                                                                  \n",
            " dense_5 (Dense)                (None, 128)          22656       ['dropout[0][0]']                \n",
            "                                                                                                  \n",
            " dropout_1 (Dropout)            (None, 128)          0           ['dense_5[0][0]']                \n",
            "                                                                                                  \n",
            " dense_6 (Dense)                (None, 5)            645         ['dropout_1[0][0]']              \n",
            "                                                                                                  \n",
            "==================================================================================================\n",
            "Total params: 256,897,089\n",
            "Trainable params: 99,265\n",
            "Non-trainable params: 256,797,824\n",
            "__________________________________________________________________________________________________\n"
          ]
        }
      ]
    },
    {
      "cell_type": "code",
      "source": [
        "# Plot hybrid token and character model\n",
        "from tensorflow.keras.utils import plot_model\n",
        "plot_model(model_4 , show_shapes = True)"
      ],
      "metadata": {
        "id": "9LJxY2QrFqwK",
        "colab": {
          "base_uri": "https://localhost:8080/",
          "height": 879
        },
        "outputId": "b2ab354e-8968-4e60-8298-09dd58636f8c"
      },
      "execution_count": null,
      "outputs": [
        {
          "output_type": "execute_result",
          "data": {
            "text/plain": [
              "<IPython.core.display.Image object>"
            ],
            "image/png": "[encoded data removed]"
          },
          "metadata": {},
          "execution_count": 89
        }
      ]
    },
    {
      "cell_type": "code",
      "source": [
        "# Compile token char model\n",
        "model_4.compile(loss=\"categorical_crossentropy\",\n",
        "                optimizer=tf.keras.optimizers.Adam(), # section 4.2 of the paper says they use SGD, you might want to try this\n",
        "                metrics=[\"accuracy\"])"
      ],
      "metadata": {
        "id": "3bTkPPj0wl6m"
      },
      "execution_count": null,
      "outputs": []
    },
    {
      "cell_type": "markdown",
      "source": [
        "### Combining token and character data into tf.data Dataset"
      ],
      "metadata": {
        "id": "ka-4uyQoxoJZ"
      }
    },
    {
      "cell_type": "code",
      "source": [
        "# Combine chars and tokens into a dataset\n",
        "train_char_token_data = tf.data.Dataset.from_tensor_slices((train_sentences, train_chars)) # make data\n",
        "train_char_token_labels = tf.data.Dataset.from_tensor_slices(train_labels_one_hot) # make labels\n",
        "train_char_token_dataset = tf.data.Dataset.zip((train_char_token_data, train_char_token_labels)) # combine data and labels\n",
        "\n",
        "# Prefetch and batch train data\n",
        "train_char_token_dataset = train_char_token_dataset.batch(32).prefetch(tf.data.AUTOTUNE)"
      ],
      "metadata": {
        "id": "fDyPEhhoyBHM"
      },
      "execution_count": null,
      "outputs": []
    },
    {
      "cell_type": "code",
      "source": [
        "# Repeat the above steps for our validation data\n",
        "val_char_token_data = tf.data.Dataset.from_tensor_slices((val_sentences, val_chars)) # make data\n",
        "val_char_token_labels = tf.data.Dataset.from_tensor_slices(val_labels_one_hot) # make labels\n",
        "val_char_token_dataset = tf.data.Dataset.zip((val_char_token_data, val_char_token_labels)) # combine data and labels\n",
        "val_char_token_dataset = val_char_token_dataset.batch(32).prefetch(tf.data.AUTOTUNE)"
      ],
      "metadata": {
        "id": "AQGwg3ttzNqq"
      },
      "execution_count": null,
      "outputs": []
    },
    {
      "cell_type": "code",
      "source": [
        "test_char_token_data = tf.data.Dataset.from_tensor_slices((test_sentences,test_chars)) # make data\n",
        "test_char_token_labels = tf.data.Dataset.from_tensor_slices(test_labels_one_hot) # make labels\n",
        "test_char_token_dataset = tf.data.Dataset.zip((test_char_token_data,test_char_token_labels)) # COmbine data and labels\n",
        "\n",
        "# Prefetch and batch train data\n",
        "test_char_token_dataset = test_char_token_dataset.batch(32).prefetch(tf.data.AUTOTUNE)"
      ],
      "metadata": {
        "id": "4hMLNWIozdfi"
      },
      "execution_count": null,
      "outputs": []
    },
    {
      "cell_type": "code",
      "source": [
        "# Check out our training char and token embedding dataset\n",
        "train_char_token_dataset, val_char_token_dataset"
      ],
      "metadata": {
        "colab": {
          "base_uri": "https://localhost:8080/"
        },
        "id": "e_rgIR7PzoK_",
        "outputId": "0c94567f-9f3d-4d94-c52c-a06159598327"
      },
      "execution_count": null,
      "outputs": [
        {
          "output_type": "execute_result",
          "data": {
            "text/plain": [
              "(<PrefetchDataset element_spec=((TensorSpec(shape=(None,), dtype=tf.string, name=None), TensorSpec(shape=(None,), dtype=tf.string, name=None)), TensorSpec(shape=(None, 5), dtype=tf.float64, name=None))>,\n",
              " <PrefetchDataset element_spec=((TensorSpec(shape=(None,), dtype=tf.string, name=None), TensorSpec(shape=(None,), dtype=tf.string, name=None)), TensorSpec(shape=(None, 5), dtype=tf.float64, name=None))>)"
            ]
          },
          "metadata": {},
          "execution_count": 94
        }
      ]
    },
    {
      "cell_type": "markdown",
      "source": [
        "### Fitting a model on token and character-level sequences"
      ],
      "metadata": {
        "id": "fTDVidTq0BR7"
      }
    },
    {
      "cell_type": "code",
      "source": [
        "# Fit the model on tokens and chars\n",
        "history_model_4 = model_4.fit(train_char_token_dataset,\n",
        "                              epochs = 3,\n",
        "                              steps_per_epoch = int(0.1*len(train_char_token_dataset)),\n",
        "                              validation_data = val_char_token_dataset,\n",
        "                              validation_steps = int(0.1*len(val_char_token_dataset)))"
      ],
      "metadata": {
        "colab": {
          "base_uri": "https://localhost:8080/"
        },
        "id": "rgG5g1MI1MWU",
        "outputId": "4cf9e662-b0ec-4476-f0a9-920b72d1ae8f"
      },
      "execution_count": null,
      "outputs": [
        {
          "output_type": "stream",
          "name": "stdout",
          "text": [
            "Epoch 1/3\n",
            "562/562 [==============================] - 37s 50ms/step - loss: 0.9756 - accuracy: 0.6104 - val_loss: 0.7805 - val_accuracy: 0.7055\n",
            "Epoch 2/3\n",
            "562/562 [==============================] - 25s 45ms/step - loss: 0.7993 - accuracy: 0.6883 - val_loss: 0.7138 - val_accuracy: 0.7254\n",
            "Epoch 3/3\n",
            "562/562 [==============================] - 23s 41ms/step - loss: 0.7813 - accuracy: 0.7026 - val_loss: 0.6940 - val_accuracy: 0.7364\n"
          ]
        }
      ]
    },
    {
      "cell_type": "code",
      "source": [
        "# Evaluate on the whole validation dataset\n",
        "model_4.evaluate(val_char_token_dataset)"
      ],
      "metadata": {
        "colab": {
          "base_uri": "https://localhost:8080/"
        },
        "id": "3loSNNMF6wUe",
        "outputId": "488b0dd1-d756-4134-8e6c-06469eb24f66"
      },
      "execution_count": null,
      "outputs": [
        {
          "output_type": "stream",
          "name": "stdout",
          "text": [
            "945/945 [==============================] - 20s 22ms/step - loss: 0.6950 - accuracy: 0.7356\n"
          ]
        },
        {
          "output_type": "execute_result",
          "data": {
            "text/plain": [
              "[0.6949586272239685, 0.7356348633766174]"
            ]
          },
          "metadata": {},
          "execution_count": 96
        }
      ]
    },
    {
      "cell_type": "code",
      "source": [
        "# Make predictions using the token-character model hybrid\n",
        "model_4_pred_probs = model_4.predict(val_char_token_dataset)\n",
        "model_4_pred_probs"
      ],
      "metadata": {
        "colab": {
          "base_uri": "https://localhost:8080/"
        },
        "id": "95lX36kS8k1W",
        "outputId": "34f8aa64-c3da-4f1d-8afb-5c12a199d32c"
      },
      "execution_count": null,
      "outputs": [
        {
          "output_type": "execute_result",
          "data": {
            "text/plain": [
              "array([[3.7272736e-01, 4.0920705e-01, 4.6908148e-03, 2.0623997e-01,\n",
              "        7.1348427e-03],\n",
              "       [2.7876267e-01, 5.4888511e-01, 5.1393211e-03, 1.6443066e-01,\n",
              "        2.7823064e-03],\n",
              "       [2.7979210e-01, 1.8764378e-01, 5.3584423e-02, 4.2793670e-01,\n",
              "        5.1043019e-02],\n",
              "       ...,\n",
              "       [5.9064571e-04, 7.5244121e-03, 5.4374427e-02, 2.6830920e-04,\n",
              "        9.3724215e-01],\n",
              "       [7.3475651e-03, 6.2037684e-02, 2.3761719e-01, 2.9051274e-03,\n",
              "        6.9009244e-01],\n",
              "       [2.4554139e-01, 4.3925825e-01, 2.0994708e-01, 3.8615722e-02,\n",
              "        6.6637613e-02]], dtype=float32)"
            ]
          },
          "metadata": {},
          "execution_count": 97
        }
      ]
    },
    {
      "cell_type": "code",
      "source": [
        "# Convert to labels\n",
        "model_4_preds = tf.argmax(model_4_pred_probs,axis = 1)\n",
        "model_4_preds"
      ],
      "metadata": {
        "colab": {
          "base_uri": "https://localhost:8080/"
        },
        "id": "_3J-AbX580Xy",
        "outputId": "1ecd354b-6e28-4b33-b391-617802f509ef"
      },
      "execution_count": null,
      "outputs": [
        {
          "output_type": "execute_result",
          "data": {
            "text/plain": [
              "<tf.Tensor: shape=(30212,), dtype=int64, numpy=array([1, 1, 3, ..., 4, 4, 1])>"
            ]
          },
          "metadata": {},
          "execution_count": 98
        }
      ]
    },
    {
      "cell_type": "code",
      "source": [
        "model_4_char_token_embedding_results = calculate_results(val_labels_encoded,\n",
        "                                                         model_4_preds)"
      ],
      "metadata": {
        "id": "GLWsPTiu87xt"
      },
      "execution_count": null,
      "outputs": []
    },
    {
      "cell_type": "code",
      "source": [
        "model_4_char_token_embedding_results"
      ],
      "metadata": {
        "colab": {
          "base_uri": "https://localhost:8080/"
        },
        "id": "s9e5m7WB9H2o",
        "outputId": "eb9c51c3-626a-4274-f1dc-6fa151eabed9"
      },
      "execution_count": null,
      "outputs": [
        {
          "output_type": "execute_result",
          "data": {
            "text/plain": [
              "{'accuracy': 73.56348470806302,\n",
              " 'f1': 0.7323396901603724,\n",
              " 'precision': 0.7387754773009445,\n",
              " 'recall': 0.7356348470806302}"
            ]
          },
          "metadata": {},
          "execution_count": 100
        }
      ]
    },
    {
      "cell_type": "markdown",
      "source": [
        "## Model 5: Transfer learning with pretrained token embeddings + character embeddings + positional embeddings"
      ],
      "metadata": {
        "id": "BXCXX3VP9K1t"
      }
    },
    {
      "cell_type": "code",
      "source": [
        "train_df.head()"
      ],
      "metadata": {
        "colab": {
          "base_uri": "https://localhost:8080/",
          "height": 206
        },
        "id": "sD_GFXV8_nz-",
        "outputId": "c3aaa396-d40e-467b-9b68-bfc0fdbed534"
      },
      "execution_count": null,
      "outputs": [
        {
          "output_type": "execute_result",
          "data": {
            "text/plain": [
              "      target                                               text  line_number  \\\n",
              "0  OBJECTIVE  to investigate the efficacy of @ weeks of dail...            0   \n",
              "1    METHODS  a total of @ patients with primary knee oa wer...            1   \n",
              "2    METHODS  outcome measures included pain reduction and i...            2   \n",
              "3    METHODS  pain was assessed using the visual analog pain...            3   \n",
              "4    METHODS  secondary outcome measures included the wester...            4   \n",
              "\n",
              "   total_lines  \n",
              "0           11  \n",
              "1           11  \n",
              "2           11  \n",
              "3           11  \n",
              "4           11  "
            ],
            "text/html": [
              "\n",
              "  <div id=\"df-6bf9fd6b-4085-42d1-8590-c4957af46fb0\">\n",
              "    <div class=\"colab-df-container\">\n",
              "      <div>\n",
              "<style scoped>\n",
              "    .dataframe tbody tr th:only-of-type {\n",
              "        vertical-align: middle;\n",
              "    }\n",
              "\n",
              "    .dataframe tbody tr th {\n",
              "        vertical-align: top;\n",
              "    }\n",
              "\n",
              "    .dataframe thead th {\n",
              "        text-align: right;\n",
              "    }\n",
              "</style>\n",
              "<table border=\"1\" class=\"dataframe\">\n",
              "  <thead>\n",
              "    <tr style=\"text-align: right;\">\n",
              "      <th></th>\n",
              "      <th>target</th>\n",
              "      <th>text</th>\n",
              "      <th>line_number</th>\n",
              "      <th>total_lines</th>\n",
              "    </tr>\n",
              "  </thead>\n",
              "  <tbody>\n",
              "    <tr>\n",
              "      <th>0</th>\n",
              "      <td>OBJECTIVE</td>\n",
              "      <td>to investigate the efficacy of @ weeks of dail...</td>\n",
              "      <td>0</td>\n",
              "      <td>11</td>\n",
              "    </tr>\n",
              "    <tr>\n",
              "      <th>1</th>\n",
              "      <td>METHODS</td>\n",
              "      <td>a total of @ patients with primary knee oa wer...</td>\n",
              "      <td>1</td>\n",
              "      <td>11</td>\n",
              "    </tr>\n",
              "    <tr>\n",
              "      <th>2</th>\n",
              "      <td>METHODS</td>\n",
              "      <td>outcome measures included pain reduction and i...</td>\n",
              "      <td>2</td>\n",
              "      <td>11</td>\n",
              "    </tr>\n",
              "    <tr>\n",
              "      <th>3</th>\n",
              "      <td>METHODS</td>\n",
              "      <td>pain was assessed using the visual analog pain...</td>\n",
              "      <td>3</td>\n",
              "      <td>11</td>\n",
              "    </tr>\n",
              "    <tr>\n",
              "      <th>4</th>\n",
              "      <td>METHODS</td>\n",
              "      <td>secondary outcome measures included the wester...</td>\n",
              "      <td>4</td>\n",
              "      <td>11</td>\n",
              "    </tr>\n",
              "  </tbody>\n",
              "</table>\n",
              "</div>\n",
              "      <button class=\"colab-df-convert\" onclick=\"convertToInteractive('df-6bf9fd6b-4085-42d1-8590-c4957af46fb0')\"\n",
              "              title=\"Convert this dataframe to an interactive table.\"\n",
              "              style=\"display:none;\">\n",
              "        \n",
              "  <svg xmlns=\"http://www.w3.org/2000/svg\" height=\"24px\"viewBox=\"0 0 24 24\"\n",
              "       width=\"24px\">\n",
              "    <path d=\"M0 0h24v24H0V0z\" fill=\"none\"/>\n",
              "    <path d=\"M18.56 5.44l.94 2.06.94-2.06 2.06-.94-2.06-.94-.94-2.06-.94 2.06-2.06.94zm-11 1L8.5 8.5l.94-2.06 2.06-.94-2.06-.94L8.5 2.5l-.94 2.06-2.06.94zm10 10l.94 2.06.94-2.06 2.06-.94-2.06-.94-.94-2.06-.94 2.06-2.06.94z\"/><path d=\"M17.41 7.96l-1.37-1.37c-.4-.4-.92-.59-1.43-.59-.52 0-1.04.2-1.43.59L10.3 9.45l-7.72 7.72c-.78.78-.78 2.05 0 2.83L4 21.41c.39.39.9.59 1.41.59.51 0 1.02-.2 1.41-.59l7.78-7.78 2.81-2.81c.8-.78.8-2.07 0-2.86zM5.41 20L4 18.59l7.72-7.72 1.47 1.35L5.41 20z\"/>\n",
              "  </svg>\n",
              "      </button>\n",
              "      \n",
              "  <style>\n",
              "    .colab-df-container {\n",
              "      display:flex;\n",
              "      flex-wrap:wrap;\n",
              "      gap: 12px;\n",
              "    }\n",
              "\n",
              "    .colab-df-convert {\n",
              "      background-color: #E8F0FE;\n",
              "      border: none;\n",
              "      border-radius: 50%;\n",
              "      cursor: pointer;\n",
              "      display: none;\n",
              "      fill: #1967D2;\n",
              "      height: 32px;\n",
              "      padding: 0 0 0 0;\n",
              "      width: 32px;\n",
              "    }\n",
              "\n",
              "    .colab-df-convert:hover {\n",
              "      background-color: #E2EBFA;\n",
              "      box-shadow: 0px 1px 2px rgba(60, 64, 67, 0.3), 0px 1px 3px 1px rgba(60, 64, 67, 0.15);\n",
              "      fill: #174EA6;\n",
              "    }\n",
              "\n",
              "    [theme=dark] .colab-df-convert {\n",
              "      background-color: #3B4455;\n",
              "      fill: #D2E3FC;\n",
              "    }\n",
              "\n",
              "    [theme=dark] .colab-df-convert:hover {\n",
              "      background-color: #434B5C;\n",
              "      box-shadow: 0px 1px 3px 1px rgba(0, 0, 0, 0.15);\n",
              "      filter: drop-shadow(0px 1px 2px rgba(0, 0, 0, 0.3));\n",
              "      fill: #FFFFFF;\n",
              "    }\n",
              "  </style>\n",
              "\n",
              "      <script>\n",
              "        const buttonEl =\n",
              "          document.querySelector('#df-6bf9fd6b-4085-42d1-8590-c4957af46fb0 button.colab-df-convert');\n",
              "        buttonEl.style.display =\n",
              "          google.colab.kernel.accessAllowed ? 'block' : 'none';\n",
              "\n",
              "        async function convertToInteractive(key) {\n",
              "          const element = document.querySelector('#df-6bf9fd6b-4085-42d1-8590-c4957af46fb0');\n",
              "          const dataTable =\n",
              "            await google.colab.kernel.invokeFunction('convertToInteractive',\n",
              "                                                     [key], {});\n",
              "          if (!dataTable) return;\n",
              "\n",
              "          const docLinkHtml = 'Like what you see? Visit the ' +\n",
              "            '<a target=\"_blank\" href=https://colab.research.google.com/notebooks/data_table.ipynb>data table notebook</a>'\n",
              "            + ' to learn more about interactive tables.';\n",
              "          element.innerHTML = '';\n",
              "          dataTable['output_type'] = 'display_data';\n",
              "          await google.colab.output.renderOutput(dataTable, element);\n",
              "          const docLink = document.createElement('div');\n",
              "          docLink.innerHTML = docLinkHtml;\n",
              "          element.appendChild(docLink);\n",
              "        }\n",
              "      </script>\n",
              "    </div>\n",
              "  </div>\n",
              "  "
            ]
          },
          "metadata": {},
          "execution_count": 101
        }
      ]
    },
    {
      "cell_type": "markdown",
      "source": [
        "> **Note:** Any engineered features used to train a model need to be availabel at the testing time. In our case line numbers and total lines are availabel"
      ],
      "metadata": {
        "id": "_A-cEx2M_pho"
      }
    },
    {
      "cell_type": "markdown",
      "source": [
        "### Creating positional embedding"
      ],
      "metadata": {
        "id": "F1avU2AAM7em"
      }
    },
    {
      "cell_type": "code",
      "source": [
        "# How many different line numbers are there\n",
        "train_df[\"line_number\"].value_counts()"
      ],
      "metadata": {
        "colab": {
          "base_uri": "https://localhost:8080/"
        },
        "id": "4we5oRfdM-6m",
        "outputId": "192d049c-f129-4ebb-d5f2-c54637449a99"
      },
      "execution_count": null,
      "outputs": [
        {
          "output_type": "execute_result",
          "data": {
            "text/plain": [
              "0     15000\n",
              "1     15000\n",
              "2     15000\n",
              "3     15000\n",
              "4     14992\n",
              "5     14949\n",
              "6     14758\n",
              "7     14279\n",
              "8     13346\n",
              "9     11981\n",
              "10    10041\n",
              "11     7892\n",
              "12     5853\n",
              "13     4152\n",
              "14     2835\n",
              "15     1861\n",
              "16     1188\n",
              "17      751\n",
              "18      462\n",
              "19      286\n",
              "20      162\n",
              "21      101\n",
              "22       66\n",
              "23       33\n",
              "24       22\n",
              "25       14\n",
              "26        7\n",
              "27        4\n",
              "28        3\n",
              "29        1\n",
              "30        1\n",
              "Name: line_number, dtype: int64"
            ]
          },
          "metadata": {},
          "execution_count": 102
        }
      ]
    },
    {
      "cell_type": "code",
      "source": [
        "# Check the distribution of line numbers column\n",
        "train_df.line_number.plot.hist()"
      ],
      "metadata": {
        "colab": {
          "base_uri": "https://localhost:8080/",
          "height": 283
        },
        "id": "n_jTAqJ_NGlo",
        "outputId": "73cb73ad-578f-4316-c171-368c60335dcf"
      },
      "execution_count": null,
      "outputs": [
        {
          "output_type": "execute_result",
          "data": {
            "text/plain": [
              "<matplotlib.axes._subplots.AxesSubplot at 0x7f66c91837d0>"
            ]
          },
          "metadata": {},
          "execution_count": 103
        },
        {
          "output_type": "display_data",
          "data": {
            "text/plain": [
              "<Figure size 432x288 with 1 Axes>"
            ],
            "image/png": "[encoded data removed]"
          },
          "metadata": {
            "needs_background": "light"
          }
        }
      ]
    },
    {
      "cell_type": "code",
      "source": [
        "# Use tensorflow to create one-hot-encoded tensors of our \"line_number\" column\n",
        "train_line_numbers_one_hot = tf.one_hot(train_df[\"line_number\"].to_numpy(),depth = 15)\n",
        "train_line_numbers_one_hot[:14] , train_line_numbers_one_hot.shape"
      ],
      "metadata": {
        "colab": {
          "base_uri": "https://localhost:8080/"
        },
        "id": "DJEgGTB0NeHO",
        "outputId": "029f7cae-ee12-4b3d-de3c-6993ccd14f91"
      },
      "execution_count": null,
      "outputs": [
        {
          "output_type": "execute_result",
          "data": {
            "text/plain": [
              "(<tf.Tensor: shape=(14, 15), dtype=float32, numpy=\n",
              " array([[1., 0., 0., 0., 0., 0., 0., 0., 0., 0., 0., 0., 0., 0., 0.],\n",
              "        [0., 1., 0., 0., 0., 0., 0., 0., 0., 0., 0., 0., 0., 0., 0.],\n",
              "        [0., 0., 1., 0., 0., 0., 0., 0., 0., 0., 0., 0., 0., 0., 0.],\n",
              "        [0., 0., 0., 1., 0., 0., 0., 0., 0., 0., 0., 0., 0., 0., 0.],\n",
              "        [0., 0., 0., 0., 1., 0., 0., 0., 0., 0., 0., 0., 0., 0., 0.],\n",
              "        [0., 0., 0., 0., 0., 1., 0., 0., 0., 0., 0., 0., 0., 0., 0.],\n",
              "        [0., 0., 0., 0., 0., 0., 1., 0., 0., 0., 0., 0., 0., 0., 0.],\n",
              "        [0., 0., 0., 0., 0., 0., 0., 1., 0., 0., 0., 0., 0., 0., 0.],\n",
              "        [0., 0., 0., 0., 0., 0., 0., 0., 1., 0., 0., 0., 0., 0., 0.],\n",
              "        [0., 0., 0., 0., 0., 0., 0., 0., 0., 1., 0., 0., 0., 0., 0.],\n",
              "        [0., 0., 0., 0., 0., 0., 0., 0., 0., 0., 1., 0., 0., 0., 0.],\n",
              "        [0., 0., 0., 0., 0., 0., 0., 0., 0., 0., 0., 1., 0., 0., 0.],\n",
              "        [1., 0., 0., 0., 0., 0., 0., 0., 0., 0., 0., 0., 0., 0., 0.],\n",
              "        [0., 1., 0., 0., 0., 0., 0., 0., 0., 0., 0., 0., 0., 0., 0.]],\n",
              "       dtype=float32)>, TensorShape([180040, 15]))"
            ]
          },
          "metadata": {},
          "execution_count": 30
        }
      ]
    },
    {
      "cell_type": "code",
      "source": [
        "val_line_numbers_one_hot = tf.one_hot(val_df[\"line_number\"].to_numpy(),depth = 15)\n",
        "test_line_numbers_one_hot = tf.one_hot(test_df[\"line_number\"].to_numpy(),depth = 15)"
      ],
      "metadata": {
        "id": "kfVYIA1KN_vx"
      },
      "execution_count": null,
      "outputs": []
    },
    {
      "cell_type": "markdown",
      "source": [
        "\n",
        "Now we've encoded our line numbers feature , let's do the same for our total lines"
      ],
      "metadata": {
        "id": "Mvv31PrcOiXr"
      }
    },
    {
      "cell_type": "code",
      "source": [
        "# How many different number of lines are there?\n",
        "train_df[\"total_lines\"].value_counts()"
      ],
      "metadata": {
        "colab": {
          "base_uri": "https://localhost:8080/"
        },
        "id": "yh_YRwyzOwiq",
        "outputId": "998c1255-affd-489a-ae15-5b611dae9afc"
      },
      "execution_count": null,
      "outputs": [
        {
          "output_type": "execute_result",
          "data": {
            "text/plain": [
              "11    24468\n",
              "10    23639\n",
              "12    22113\n",
              "9     19400\n",
              "13    18438\n",
              "14    14610\n",
              "8     12285\n",
              "15    10768\n",
              "7      7464\n",
              "16     7429\n",
              "17     5202\n",
              "6      3353\n",
              "18     3344\n",
              "19     2480\n",
              "20     1281\n",
              "5      1146\n",
              "21      770\n",
              "22      759\n",
              "23      264\n",
              "4       215\n",
              "24      200\n",
              "25      182\n",
              "26       81\n",
              "28       58\n",
              "3        32\n",
              "30       31\n",
              "27       28\n",
              "Name: total_lines, dtype: int64"
            ]
          },
          "metadata": {},
          "execution_count": 106
        }
      ]
    },
    {
      "cell_type": "code",
      "source": [
        "# Plot the distributions\n",
        "train_df.total_lines.plot.hist();"
      ],
      "metadata": {
        "colab": {
          "base_uri": "https://localhost:8080/",
          "height": 267
        },
        "id": "6Rpx0wLAO4h7",
        "outputId": "849f6b8d-675d-46e9-a840-9fee90045c09"
      },
      "execution_count": null,
      "outputs": [
        {
          "output_type": "display_data",
          "data": {
            "text/plain": [
              "<Figure size 432x288 with 1 Axes>"
            ],
            "image/png": "[encoded data removed]"
          },
          "metadata": {
            "needs_background": "light"
          }
        }
      ]
    },
    {
      "cell_type": "code",
      "source": [
        "# Check the coverage of a \"total_lines\"\n",
        "np.percentile(train_df.total_lines,98.5)"
      ],
      "metadata": {
        "colab": {
          "base_uri": "https://localhost:8080/"
        },
        "id": "JA3hW-pXPFru",
        "outputId": "b5974e9d-52b0-459c-d6f5-22746680d0fe"
      },
      "execution_count": null,
      "outputs": [
        {
          "output_type": "execute_result",
          "data": {
            "text/plain": [
              "20.0"
            ]
          },
          "metadata": {},
          "execution_count": 108
        }
      ]
    },
    {
      "cell_type": "code",
      "source": [
        "# Use TensorFlow to create one-hot-encoded tensors of \"total_line\"\n",
        "train_total_lines_one_hot = tf.one_hot(train_df.total_lines.to_numpy(),depth = 20)\n",
        "val_total_lines_one_hot = tf.one_hot(val_df.total_lines.to_numpy(),depth = 20)\n",
        "test_total_lines_one_hot = tf.one_hot(test_df.total_lines.to_numpy(),depth = 20)\n",
        "train_total_lines_one_hot[:14] , train_total_lines_one_hot.shape"
      ],
      "metadata": {
        "colab": {
          "base_uri": "https://localhost:8080/"
        },
        "id": "Bg8eyFMrPUgs",
        "outputId": "88cb09cb-4710-466c-a9cf-5ddee4b73b57"
      },
      "execution_count": null,
      "outputs": [
        {
          "output_type": "execute_result",
          "data": {
            "text/plain": [
              "(<tf.Tensor: shape=(14, 20), dtype=float32, numpy=\n",
              " array([[0., 0., 0., 0., 0., 0., 0., 0., 0., 0., 0., 1., 0., 0., 0., 0.,\n",
              "         0., 0., 0., 0.],\n",
              "        [0., 0., 0., 0., 0., 0., 0., 0., 0., 0., 0., 1., 0., 0., 0., 0.,\n",
              "         0., 0., 0., 0.],\n",
              "        [0., 0., 0., 0., 0., 0., 0., 0., 0., 0., 0., 1., 0., 0., 0., 0.,\n",
              "         0., 0., 0., 0.],\n",
              "        [0., 0., 0., 0., 0., 0., 0., 0., 0., 0., 0., 1., 0., 0., 0., 0.,\n",
              "         0., 0., 0., 0.],\n",
              "        [0., 0., 0., 0., 0., 0., 0., 0., 0., 0., 0., 1., 0., 0., 0., 0.,\n",
              "         0., 0., 0., 0.],\n",
              "        [0., 0., 0., 0., 0., 0., 0., 0., 0., 0., 0., 1., 0., 0., 0., 0.,\n",
              "         0., 0., 0., 0.],\n",
              "        [0., 0., 0., 0., 0., 0., 0., 0., 0., 0., 0., 1., 0., 0., 0., 0.,\n",
              "         0., 0., 0., 0.],\n",
              "        [0., 0., 0., 0., 0., 0., 0., 0., 0., 0., 0., 1., 0., 0., 0., 0.,\n",
              "         0., 0., 0., 0.],\n",
              "        [0., 0., 0., 0., 0., 0., 0., 0., 0., 0., 0., 1., 0., 0., 0., 0.,\n",
              "         0., 0., 0., 0.],\n",
              "        [0., 0., 0., 0., 0., 0., 0., 0., 0., 0., 0., 1., 0., 0., 0., 0.,\n",
              "         0., 0., 0., 0.],\n",
              "        [0., 0., 0., 0., 0., 0., 0., 0., 0., 0., 0., 1., 0., 0., 0., 0.,\n",
              "         0., 0., 0., 0.],\n",
              "        [0., 0., 0., 0., 0., 0., 0., 0., 0., 0., 0., 1., 0., 0., 0., 0.,\n",
              "         0., 0., 0., 0.],\n",
              "        [0., 0., 0., 0., 0., 0., 0., 0., 0., 0., 1., 0., 0., 0., 0., 0.,\n",
              "         0., 0., 0., 0.],\n",
              "        [0., 0., 0., 0., 0., 0., 0., 0., 0., 0., 1., 0., 0., 0., 0., 0.,\n",
              "         0., 0., 0., 0.]], dtype=float32)>, TensorShape([180040, 20]))"
            ]
          },
          "metadata": {},
          "execution_count": 27
        }
      ]
    },
    {
      "cell_type": "markdown",
      "source": [
        "### Building a tribrid embedding model\n",
        "\n",
        "1. Create a token-level Model\n",
        "2. Create a character-level Model\n",
        "3. Create a model for the \"line_number\" feature\n",
        "4. Creae a model for the \"total_lines\" feature\n",
        "5. Combine the outputs of 1 & 2 using tf.keras.layers.Concatenate\n",
        "6. Combine the outputs of 3,4,5 using tf.keras.layers.Concatenate\n",
        "7. Create an output layer to accept the tribrid embedding and output label probabilties\n",
        "8. Combine the inputus of 1 ,2 ,3,4 and outputs of into a tf.keras.Model"
      ],
      "metadata": {
        "id": "wuDlfbUuPvDR"
      }
    },
    {
      "cell_type": "code",
      "source": [
        "# 1. Token inputs\n",
        "token_inputs = layers.Input(shape = [],dtype = \"string\",name= \"token_inputs\")\n",
        "token_embeddings = tf_hub_embedding_layer(token_inputs)\n",
        "token_outputs = layers.Dense(128 , activation = \"relu\")(token_embeddings)\n",
        "token_model = tf.keras.Model(token_inputs ,\n",
        "                             token_outputs)\n",
        "\n",
        "# 2. Char inputs\n",
        "char_inputs = layers.Input(shape = (1,),dtype = \"string\",name = \"char_inputs\")\n",
        "char_vectors = char_vectorizer(char_inputs)\n",
        "char_embeddings = char_embed(char_vectors)\n",
        "char_bi_lstm = layers.Bidirectional(layers.LSTM(24))(char_embeddings)\n",
        "char_model = tf.keras.Model(char_inputs , \n",
        "                            char_bi_lstm)\n",
        "\n",
        "# 3. Line number model\n",
        "line_number_inputs = layers.Input(shape = (15 , ),dtype = tf.float32 , name = \"line_number_input\")\n",
        "x = layers.Dense(32 , activation = \"relu\")(line_number_inputs)\n",
        "line_number_model = tf.keras.Model(line_number_inputs,\n",
        "                                   x)\n",
        "\n",
        "# 4. Total lines model\n",
        "total_lines_inputs = layers.Input(shape=(20,) ,dtype = tf.float32 , name = \"total_lines_input\")\n",
        "y = layers.Dense(32,activation = \"relu\")(total_lines_inputs)\n",
        "total_line_model = tf.keras.Model(total_lines_inputs,\n",
        "                                  y)\n",
        "\n",
        "# 5. Combine token and char embeddings into a hybrid embedding\n",
        "combined_embeddings = layers.Concatenate(name = \"char_token_hyrid_embeddings\")([token_model.output,\n",
        "                                                                                char_model.output])\n",
        "z = layers.Dense(256 , activation = \"relu\")(combined_embeddings)\n",
        "z = layers.Dropout(0.5)(z)\n",
        "\n",
        "# 6. Combine positional embeddings with combined token and char embeddings\n",
        "tribrid_embeddings = layers.Concatenate(name = \"char_token_postional_embedding\")([line_number_model.output,\n",
        "                                                                                  total_line_model.output,\n",
        "                                                                                  z])\n",
        "\n",
        "# 7. Create output layer\n",
        "output_layer = layers.Dense(num_classes,activation = \"softmax\",name = \"output_layer\")(tribrid_embeddings)\n",
        "\n",
        "# 8. Put together model\n",
        "model_5 = tf.keras.Model(inputs = [line_number_model.input,\n",
        "                                   total_line_model.input,\n",
        "                                   token_model.input,\n",
        "                                   char_model.input],\n",
        "                         outputs = output_layer,\n",
        "                         name = \"model_5\")"
      ],
      "metadata": {
        "id": "mcF6at35RJKN"
      },
      "execution_count": null,
      "outputs": []
    },
    {
      "cell_type": "code",
      "source": [
        "model_5.summary()"
      ],
      "metadata": {
        "colab": {
          "base_uri": "https://localhost:8080/"
        },
        "id": "CZNEJIKBU8By",
        "outputId": "d31a1d22-1c0f-4cb2-fdd9-25ad137c9296"
      },
      "execution_count": null,
      "outputs": [
        {
          "output_type": "stream",
          "name": "stdout",
          "text": [
            "Model: \"model_5\"\n",
            "__________________________________________________________________________________________________\n",
            " Layer (type)                   Output Shape         Param #     Connected to                     \n",
            "==================================================================================================\n",
            " char_inputs (InputLayer)       [(None, 1)]          0           []                               \n",
            "                                                                                                  \n",
            " token_inputs (InputLayer)      [(None,)]            0           []                               \n",
            "                                                                                                  \n",
            " char_vectorizer (TextVectoriza  (None, 290)         0           ['char_inputs[0][0]']            \n",
            " tion)                                                                                            \n",
            "                                                                                                  \n",
            " universal_sentence_encoder (Ke  (None, 512)         256797824   ['token_inputs[0][0]']           \n",
            " rasLayer)                                                                                        \n",
            "                                                                                                  \n",
            " char_embed (Embedding)         (None, 290, 25)      700         ['char_vectorizer[2][0]']        \n",
            "                                                                                                  \n",
            " dense_7 (Dense)                (None, 128)          65664       ['universal_sentence_encoder[2][0\n",
            "                                                                 ]']                              \n",
            "                                                                                                  \n",
            " bidirectional_1 (Bidirectional  (None, 48)          9600        ['char_embed[2][0]']             \n",
            " )                                                                                                \n",
            "                                                                                                  \n",
            " char_token_hyrid_embeddings (C  (None, 176)         0           ['dense_7[0][0]',                \n",
            " oncatenate)                                                      'bidirectional_1[0][0]']        \n",
            "                                                                                                  \n",
            " line_number_input (InputLayer)  [(None, 15)]        0           []                               \n",
            "                                                                                                  \n",
            " total_lines_input (InputLayer)  [(None, 20)]        0           []                               \n",
            "                                                                                                  \n",
            " dense_10 (Dense)               (None, 256)          45312       ['char_token_hyrid_embeddings[0][\n",
            "                                                                 0]']                             \n",
            "                                                                                                  \n",
            " dense_8 (Dense)                (None, 32)           512         ['line_number_input[0][0]']      \n",
            "                                                                                                  \n",
            " dense_9 (Dense)                (None, 32)           672         ['total_lines_input[0][0]']      \n",
            "                                                                                                  \n",
            " dropout_2 (Dropout)            (None, 256)          0           ['dense_10[0][0]']               \n",
            "                                                                                                  \n",
            " char_token_postional_embedding  (None, 320)         0           ['dense_8[0][0]',                \n",
            "  (Concatenate)                                                   'dense_9[0][0]',                \n",
            "                                                                  'dropout_2[0][0]']              \n",
            "                                                                                                  \n",
            " output_layer (Dense)           (None, 5)            1605        ['char_token_postional_embedding[\n",
            "                                                                 0][0]']                          \n",
            "                                                                                                  \n",
            "==================================================================================================\n",
            "Total params: 256,921,889\n",
            "Trainable params: 124,065\n",
            "Non-trainable params: 256,797,824\n",
            "__________________________________________________________________________________________________\n"
          ]
        }
      ]
    },
    {
      "cell_type": "code",
      "source": [
        "# Plot model_5 to explore it visually...\n",
        "from tensorflow.keras.utils import plot_model\n",
        "plot_model(model_5)"
      ],
      "metadata": {
        "colab": {
          "base_uri": "https://localhost:8080/",
          "height": 763
        },
        "id": "SvAplj7hVLF2",
        "outputId": "a5293b54-4965-4182-83ee-21adacae4c6d"
      },
      "execution_count": null,
      "outputs": [
        {
          "output_type": "execute_result",
          "data": {
            "text/plain": [
              "<IPython.core.display.Image object>"
            ],
            "image/png": "[encoded data removed]"
          },
          "metadata": {},
          "execution_count": 112
        }
      ]
    },
    {
      "cell_type": "code",
      "source": [
        "# Compile the model\n",
        "model_5.compile(loss = tf.keras.losses.CategoricalCrossentropy(label_smoothing = 0.2), # to reduce overfitting\n",
        "                optimizer = tf.keras.optimizers.Adam(),\n",
        "                metrics = [\"accuracy\"])"
      ],
      "metadata": {
        "id": "1dVqzUmjVMzy"
      },
      "execution_count": null,
      "outputs": []
    },
    {
      "cell_type": "markdown",
      "source": [
        "### Create tribrid embedding dataset using tf.data\n"
      ],
      "metadata": {
        "id": "ApUrRaHrAygF"
      }
    },
    {
      "cell_type": "code",
      "source": [
        "# Create training and validation datasets (with all four kinds of input data)\n",
        "train_char_token_pos_data = tf.data.Dataset.from_tensor_slices((train_line_numbers_one_hot,\n",
        "                                                                train_total_lines_one_hot,\n",
        "                                                                train_sentences,\n",
        "                                                                train_chars))\n",
        "train_char_token_pos_labels = tf.data.Dataset.from_tensor_slices(train_labels_one_hot)\n",
        "train_char_token_pos_dataset = tf.data.Dataset.zip((train_char_token_pos_data,train_char_token_pos_labels))\n",
        "train_char_token_pos_dataset = train_char_token_pos_dataset.batch(32).prefetch(tf.data.AUTOTUNE)\n",
        "\n",
        "# For validation set\n",
        "val_char_token_pos_data = tf.data.Dataset.from_tensor_slices((val_line_numbers_one_hot,\n",
        "                                                                val_total_lines_one_hot,\n",
        "                                                                val_sentences,\n",
        "                                                                val_chars))\n",
        "val_char_token_pos_labels = tf.data.Dataset.from_tensor_slices(val_labels_one_hot)\n",
        "val_char_token_pos_dataset = tf.data.Dataset.zip((val_char_token_pos_data,val_char_token_pos_labels))\n",
        "val_char_token_pos_dataset = val_char_token_pos_dataset.batch(32).prefetch(tf.data.AUTOTUNE)\n",
        "\n",
        "\n",
        "# For test\n",
        "test_char_token_pos_data = tf.data.Dataset.from_tensor_slices((test_line_numbers_one_hot,\n",
        "                                                                test_total_lines_one_hot,\n",
        "                                                                test_sentences,\n",
        "                                                                test_chars))\n",
        "test_char_token_pos_labels = tf.data.Dataset.from_tensor_slices(test_labels_one_hot)\n",
        "test_char_token_pos_dataset = tf.data.Dataset.zip((test_char_token_pos_data,test_char_token_pos_labels))\n",
        "test_char_token_pos_dataset = test_char_token_pos_dataset.batch(32).prefetch(tf.data.AUTOTUNE)"
      ],
      "metadata": {
        "id": "dN1x6SgJBSjK"
      },
      "execution_count": null,
      "outputs": []
    },
    {
      "cell_type": "code",
      "source": [
        "# Check input shapes\n",
        "train_char_token_pos_dataset , val_char_token_pos_dataset"
      ],
      "metadata": {
        "colab": {
          "base_uri": "https://localhost:8080/"
        },
        "id": "tywOIXZHDApy",
        "outputId": "e684d206-26dd-4b33-8338-bd57eb4dc219"
      },
      "execution_count": null,
      "outputs": [
        {
          "output_type": "execute_result",
          "data": {
            "text/plain": [
              "(<PrefetchDataset element_spec=((TensorSpec(shape=(None, 15), dtype=tf.float32, name=None), TensorSpec(shape=(None, 20), dtype=tf.float32, name=None), TensorSpec(shape=(None,), dtype=tf.string, name=None), TensorSpec(shape=(None,), dtype=tf.string, name=None)), TensorSpec(shape=(None, 5), dtype=tf.float64, name=None))>,\n",
              " <PrefetchDataset element_spec=((TensorSpec(shape=(None, 15), dtype=tf.float32, name=None), TensorSpec(shape=(None, 20), dtype=tf.float32, name=None), TensorSpec(shape=(None,), dtype=tf.string, name=None), TensorSpec(shape=(None,), dtype=tf.string, name=None)), TensorSpec(shape=(None, 5), dtype=tf.float64, name=None))>)"
            ]
          },
          "metadata": {},
          "execution_count": 115
        }
      ]
    },
    {
      "cell_type": "markdown",
      "source": [
        "### Fitting,evaluating and making predictions with our tribrid model"
      ],
      "metadata": {
        "id": "QKK4_ov4DImY"
      }
    },
    {
      "cell_type": "code",
      "source": [
        "history_model_5 = model_5.fit(train_char_token_pos_dataset,\n",
        "                              epochs = 5,\n",
        "                              steps_per_epoch = len(train_char_token_pos_dataset),\n",
        "                              validation_data = val_char_token_pos_dataset,\n",
        "                              validation_steps = int(0.1*len(val_char_token_pos_dataset)))"
      ],
      "metadata": {
        "colab": {
          "base_uri": "https://localhost:8080/"
        },
        "id": "E_QAAg2_DhT_",
        "outputId": "0dc08d34-0dbd-4bb0-bf34-6184cf4fe1a0"
      },
      "execution_count": null,
      "outputs": [
        {
          "output_type": "stream",
          "name": "stdout",
          "text": [
            "Epoch 1/5\n",
            "5627/5627 [==============================] - 250s 44ms/step - loss: 0.9236 - accuracy: 0.8438 - val_loss: 0.9072 - val_accuracy: 0.8527\n",
            "Epoch 2/5\n",
            "5627/5627 [==============================] - 251s 45ms/step - loss: 0.9034 - accuracy: 0.8577 - val_loss: 0.9033 - val_accuracy: 0.8514\n",
            "Epoch 3/5\n",
            "5627/5627 [==============================] - 250s 44ms/step - loss: 0.8927 - accuracy: 0.8662 - val_loss: 0.9002 - val_accuracy: 0.8531\n",
            "Epoch 4/5\n",
            "5627/5627 [==============================] - 249s 44ms/step - loss: 0.8848 - accuracy: 0.8711 - val_loss: 0.8995 - val_accuracy: 0.8501\n",
            "Epoch 5/5\n",
            "5627/5627 [==============================] - 242s 43ms/step - loss: 0.8784 - accuracy: 0.8765 - val_loss: 0.9029 - val_accuracy: 0.8494\n"
          ]
        }
      ]
    },
    {
      "cell_type": "code",
      "source": [
        "# Make prediction\n",
        "model_5_pred_probs = model_5.predict(val_char_token_pos_dataset , verbose = 1)"
      ],
      "metadata": {
        "colab": {
          "base_uri": "https://localhost:8080/"
        },
        "id": "ctMvGSP3ELrl",
        "outputId": "243b7e28-1842-4737-d6de-69754b7fde98"
      },
      "execution_count": null,
      "outputs": [
        {
          "output_type": "stream",
          "name": "stdout",
          "text": [
            "945/945 [==============================] - 20s 21ms/step\n"
          ]
        }
      ]
    },
    {
      "cell_type": "code",
      "source": [
        "# COnvert pred probs to pred labels\n",
        "model_5_preds= tf.argmax(model_5_pred_probs ,axis = 1)"
      ],
      "metadata": {
        "id": "TsnPo7i1Ecda"
      },
      "execution_count": null,
      "outputs": []
    },
    {
      "cell_type": "code",
      "source": [
        "# Calculate the results\n",
        "model_5_results = calculate_results(val_labels_encoded,\n",
        "                                    model_5_preds)"
      ],
      "metadata": {
        "id": "RSvrW16CEjo6"
      },
      "execution_count": null,
      "outputs": []
    },
    {
      "cell_type": "code",
      "source": [
        "model_5_results"
      ],
      "metadata": {
        "colab": {
          "base_uri": "https://localhost:8080/"
        },
        "id": "x3vDeFX9E99r",
        "outputId": "e9b3228a-beb0-4dd0-b6f5-288af99af030"
      },
      "execution_count": null,
      "outputs": [
        {
          "output_type": "execute_result",
          "data": {
            "text/plain": [
              "{'accuracy': 85.52230901628492,\n",
              " 'f1': 0.8528136993646744,\n",
              " 'precision': 0.8565758653538714,\n",
              " 'recall': 0.8552230901628493}"
            ]
          },
          "metadata": {},
          "execution_count": 142
        }
      ]
    },
    {
      "cell_type": "code",
      "source": [
        "model_4_char_token_embedding_results "
      ],
      "metadata": {
        "colab": {
          "base_uri": "https://localhost:8080/"
        },
        "id": "CxYHstMqFBx3",
        "outputId": "1832c1e9-f5dc-4c9a-aeb9-6e2d50cf9963"
      },
      "execution_count": null,
      "outputs": [
        {
          "output_type": "execute_result",
          "data": {
            "text/plain": [
              "{'accuracy': 73.56348470806302,\n",
              " 'f1': 0.7323396901603724,\n",
              " 'precision': 0.7387754773009445,\n",
              " 'recall': 0.7356348470806302}"
            ]
          },
          "metadata": {},
          "execution_count": 143
        }
      ]
    },
    {
      "cell_type": "markdown",
      "source": [
        "## Compare model results"
      ],
      "metadata": {
        "id": "K9w2DmfmFDIP"
      }
    },
    {
      "cell_type": "code",
      "source": [
        "# Combine the model results into a dataframe\n",
        "all_model_results = pd.DataFrame({\"model_0_baseline\":baseline_results,\n",
        "                                  \"model_1_custom_token_embedding\":model_1_results,\n",
        "                                  \"model_2_pretrained_token_embedding\":model_2_results,\n",
        "                                  \"model_3_custom_char_embedding\":model_3_results,\n",
        "                                  \"model_4_hybrid_char_token_embedding\":model_4_char_token_embedding_results,\n",
        "                                  \"model_5_pos_char_token_embedding\":model_5_results})"
      ],
      "metadata": {
        "id": "W4pMLNXbFy7l"
      },
      "execution_count": null,
      "outputs": []
    },
    {
      "cell_type": "code",
      "source": [
        "all_model_results = all_model_results.transpose()"
      ],
      "metadata": {
        "id": "Gk3TUfORGWDf"
      },
      "execution_count": null,
      "outputs": []
    },
    {
      "cell_type": "code",
      "source": [
        "# Reduce the accuarcy to same scale\n",
        "all_model_results[\"accuracy\"] = all_model_results[\"accuracy\"]/100"
      ],
      "metadata": {
        "id": "xm3kLJauGXkY"
      },
      "execution_count": null,
      "outputs": []
    },
    {
      "cell_type": "code",
      "source": [
        "all_model_results"
      ],
      "metadata": {
        "colab": {
          "base_uri": "https://localhost:8080/",
          "height": 237
        },
        "id": "Q9qWa45FG5xD",
        "outputId": "4db7cdef-4d7c-4857-c997-18323792daf1"
      },
      "execution_count": null,
      "outputs": [
        {
          "output_type": "execute_result",
          "data": {
            "text/plain": [
              "                                     accuracy  precision    recall        f1\n",
              "model_0_baseline                     0.721832   0.718647  0.721832  0.698925\n",
              "model_1_custom_token_embedding       0.785549   0.782569  0.785549  0.783339\n",
              "model_2_pretrained_token_embedding   0.714451   0.714551  0.714451  0.711565\n",
              "model_3_custom_char_embedding        0.662320   0.655008  0.662320  0.652566\n",
              "model_4_hybrid_char_token_embedding  0.735635   0.738775  0.735635  0.732340\n",
              "model_5_pos_char_token_embedding     0.855223   0.856576  0.855223  0.852814"
            ],
            "text/html": [
              "\n",
              "  <div id=\"df-956a2cc5-9285-4573-afd9-230063ddf709\">\n",
              "    <div class=\"colab-df-container\">\n",
              "      <div>\n",
              "<style scoped>\n",
              "    .dataframe tbody tr th:only-of-type {\n",
              "        vertical-align: middle;\n",
              "    }\n",
              "\n",
              "    .dataframe tbody tr th {\n",
              "        vertical-align: top;\n",
              "    }\n",
              "\n",
              "    .dataframe thead th {\n",
              "        text-align: right;\n",
              "    }\n",
              "</style>\n",
              "<table border=\"1\" class=\"dataframe\">\n",
              "  <thead>\n",
              "    <tr style=\"text-align: right;\">\n",
              "      <th></th>\n",
              "      <th>accuracy</th>\n",
              "      <th>precision</th>\n",
              "      <th>recall</th>\n",
              "      <th>f1</th>\n",
              "    </tr>\n",
              "  </thead>\n",
              "  <tbody>\n",
              "    <tr>\n",
              "      <th>model_0_baseline</th>\n",
              "      <td>0.721832</td>\n",
              "      <td>0.718647</td>\n",
              "      <td>0.721832</td>\n",
              "      <td>0.698925</td>\n",
              "    </tr>\n",
              "    <tr>\n",
              "      <th>model_1_custom_token_embedding</th>\n",
              "      <td>0.785549</td>\n",
              "      <td>0.782569</td>\n",
              "      <td>0.785549</td>\n",
              "      <td>0.783339</td>\n",
              "    </tr>\n",
              "    <tr>\n",
              "      <th>model_2_pretrained_token_embedding</th>\n",
              "      <td>0.714451</td>\n",
              "      <td>0.714551</td>\n",
              "      <td>0.714451</td>\n",
              "      <td>0.711565</td>\n",
              "    </tr>\n",
              "    <tr>\n",
              "      <th>model_3_custom_char_embedding</th>\n",
              "      <td>0.662320</td>\n",
              "      <td>0.655008</td>\n",
              "      <td>0.662320</td>\n",
              "      <td>0.652566</td>\n",
              "    </tr>\n",
              "    <tr>\n",
              "      <th>model_4_hybrid_char_token_embedding</th>\n",
              "      <td>0.735635</td>\n",
              "      <td>0.738775</td>\n",
              "      <td>0.735635</td>\n",
              "      <td>0.732340</td>\n",
              "    </tr>\n",
              "    <tr>\n",
              "      <th>model_5_pos_char_token_embedding</th>\n",
              "      <td>0.855223</td>\n",
              "      <td>0.856576</td>\n",
              "      <td>0.855223</td>\n",
              "      <td>0.852814</td>\n",
              "    </tr>\n",
              "  </tbody>\n",
              "</table>\n",
              "</div>\n",
              "      <button class=\"colab-df-convert\" onclick=\"convertToInteractive('df-956a2cc5-9285-4573-afd9-230063ddf709')\"\n",
              "              title=\"Convert this dataframe to an interactive table.\"\n",
              "              style=\"display:none;\">\n",
              "        \n",
              "  <svg xmlns=\"http://www.w3.org/2000/svg\" height=\"24px\"viewBox=\"0 0 24 24\"\n",
              "       width=\"24px\">\n",
              "    <path d=\"M0 0h24v24H0V0z\" fill=\"none\"/>\n",
              "    <path d=\"M18.56 5.44l.94 2.06.94-2.06 2.06-.94-2.06-.94-.94-2.06-.94 2.06-2.06.94zm-11 1L8.5 8.5l.94-2.06 2.06-.94-2.06-.94L8.5 2.5l-.94 2.06-2.06.94zm10 10l.94 2.06.94-2.06 2.06-.94-2.06-.94-.94-2.06-.94 2.06-2.06.94z\"/><path d=\"M17.41 7.96l-1.37-1.37c-.4-.4-.92-.59-1.43-.59-.52 0-1.04.2-1.43.59L10.3 9.45l-7.72 7.72c-.78.78-.78 2.05 0 2.83L4 21.41c.39.39.9.59 1.41.59.51 0 1.02-.2 1.41-.59l7.78-7.78 2.81-2.81c.8-.78.8-2.07 0-2.86zM5.41 20L4 18.59l7.72-7.72 1.47 1.35L5.41 20z\"/>\n",
              "  </svg>\n",
              "      </button>\n",
              "      \n",
              "  <style>\n",
              "    .colab-df-container {\n",
              "      display:flex;\n",
              "      flex-wrap:wrap;\n",
              "      gap: 12px;\n",
              "    }\n",
              "\n",
              "    .colab-df-convert {\n",
              "      background-color: #E8F0FE;\n",
              "      border: none;\n",
              "      border-radius: 50%;\n",
              "      cursor: pointer;\n",
              "      display: none;\n",
              "      fill: #1967D2;\n",
              "      height: 32px;\n",
              "      padding: 0 0 0 0;\n",
              "      width: 32px;\n",
              "    }\n",
              "\n",
              "    .colab-df-convert:hover {\n",
              "      background-color: #E2EBFA;\n",
              "      box-shadow: 0px 1px 2px rgba(60, 64, 67, 0.3), 0px 1px 3px 1px rgba(60, 64, 67, 0.15);\n",
              "      fill: #174EA6;\n",
              "    }\n",
              "\n",
              "    [theme=dark] .colab-df-convert {\n",
              "      background-color: #3B4455;\n",
              "      fill: #D2E3FC;\n",
              "    }\n",
              "\n",
              "    [theme=dark] .colab-df-convert:hover {\n",
              "      background-color: #434B5C;\n",
              "      box-shadow: 0px 1px 3px 1px rgba(0, 0, 0, 0.15);\n",
              "      filter: drop-shadow(0px 1px 2px rgba(0, 0, 0, 0.3));\n",
              "      fill: #FFFFFF;\n",
              "    }\n",
              "  </style>\n",
              "\n",
              "      <script>\n",
              "        const buttonEl =\n",
              "          document.querySelector('#df-956a2cc5-9285-4573-afd9-230063ddf709 button.colab-df-convert');\n",
              "        buttonEl.style.display =\n",
              "          google.colab.kernel.accessAllowed ? 'block' : 'none';\n",
              "\n",
              "        async function convertToInteractive(key) {\n",
              "          const element = document.querySelector('#df-956a2cc5-9285-4573-afd9-230063ddf709');\n",
              "          const dataTable =\n",
              "            await google.colab.kernel.invokeFunction('convertToInteractive',\n",
              "                                                     [key], {});\n",
              "          if (!dataTable) return;\n",
              "\n",
              "          const docLinkHtml = 'Like what you see? Visit the ' +\n",
              "            '<a target=\"_blank\" href=https://colab.research.google.com/notebooks/data_table.ipynb>data table notebook</a>'\n",
              "            + ' to learn more about interactive tables.';\n",
              "          element.innerHTML = '';\n",
              "          dataTable['output_type'] = 'display_data';\n",
              "          await google.colab.output.renderOutput(dataTable, element);\n",
              "          const docLink = document.createElement('div');\n",
              "          docLink.innerHTML = docLinkHtml;\n",
              "          element.appendChild(docLink);\n",
              "        }\n",
              "      </script>\n",
              "    </div>\n",
              "  </div>\n",
              "  "
            ]
          },
          "metadata": {},
          "execution_count": 147
        }
      ]
    },
    {
      "cell_type": "code",
      "source": [
        "# Plot and comapre all model results\n",
        "all_model_results.plot(kind = \"bar\" , figsize = (10,7)).legend(bbox_to_anchor = (1.0,1.0));"
      ],
      "metadata": {
        "colab": {
          "base_uri": "https://localhost:8080/",
          "height": 619
        },
        "id": "h9GyqZ0RHa41",
        "outputId": "293b0293-0dbe-4aeb-9bfe-e31320144cf6"
      },
      "execution_count": null,
      "outputs": [
        {
          "output_type": "display_data",
          "data": {
            "text/plain": [
              "<Figure size 720x504 with 1 Axes>"
            ],
            "image/png": "[encoded data removed]"
          },
          "metadata": {
            "needs_background": "light"
          }
        }
      ]
    },
    {
      "cell_type": "code",
      "source": [
        "# Sort the model by f1-score\n",
        "all_model_results.sort_values(\"f1\",ascending = True)[\"f1\"].plot(kind = \"bar\" , figsize = (10,7));"
      ],
      "metadata": {
        "colab": {
          "base_uri": "https://localhost:8080/",
          "height": 619
        },
        "id": "est3FNm_HrOx",
        "outputId": "3075092d-819b-4118-ca60-8087c51762aa"
      },
      "execution_count": null,
      "outputs": [
        {
          "output_type": "display_data",
          "data": {
            "text/plain": [
              "<Figure size 720x504 with 1 Axes>"
            ],
            "image/png": "[encoded data removed]"
          },
          "metadata": {
            "needs_background": "light"
          }
        }
      ]
    },
    {
      "cell_type": "markdown",
      "source": [
        "## Save and load the model"
      ],
      "metadata": {
        "id": "goxBahMKIFdn"
      }
    },
    {
      "cell_type": "code",
      "source": [
        "# Save the best performing model to SavedModel format(default)\n",
        "# model_5.save(\"/content/drive/MyDrive/skimlit_tribrid_model\")"
      ],
      "metadata": {
        "id": "33CXZoK2ITDe",
        "colab": {
          "base_uri": "https://localhost:8080/"
        },
        "outputId": "b70583ba-e459-49b6-ecc5-700682cff5e7"
      },
      "execution_count": null,
      "outputs": [
        {
          "output_type": "stream",
          "name": "stderr",
          "text": [
            "WARNING:absl:Found untraced functions such as lstm_cell_4_layer_call_fn, lstm_cell_4_layer_call_and_return_conditional_losses, lstm_cell_5_layer_call_fn, lstm_cell_5_layer_call_and_return_conditional_losses while saving (showing 4 of 4). These functions will not be directly callable after loading.\n"
          ]
        },
        {
          "output_type": "stream",
          "name": "stdout",
          "text": [
            "INFO:tensorflow:Assets written to: /content/drive/MyDrive/skimlit_tribrid_model/assets\n"
          ]
        },
        {
          "output_type": "stream",
          "name": "stderr",
          "text": [
            "INFO:tensorflow:Assets written to: /content/drive/MyDrive/skimlit_tribrid_model/assets\n",
            "WARNING:absl:<keras.layers.recurrent.LSTMCell object at 0x7f66c901fb90> has the same name 'LSTMCell' as a built-in Keras object. Consider renaming <class 'keras.layers.recurrent.LSTMCell'> to avoid naming conflicts when loading with `tf.keras.models.load_model`. If renaming is not possible, pass the object in the `custom_objects` parameter of the load function.\n",
            "WARNING:absl:<keras.layers.recurrent.LSTMCell object at 0x7f66c9027790> has the same name 'LSTMCell' as a built-in Keras object. Consider renaming <class 'keras.layers.recurrent.LSTMCell'> to avoid naming conflicts when loading with `tf.keras.models.load_model`. If renaming is not possible, pass the object in the `custom_objects` parameter of the load function.\n"
          ]
        }
      ]
    },
    {
      "cell_type": "code",
      "source": [
        "# Load the saved model\n",
        "loaded_model = tf.keras.models.load_model(\"/content/drive/MyDrive/skimlit_tribrid_model\")"
      ],
      "metadata": {
        "id": "keldRAG4vSR2"
      },
      "execution_count": null,
      "outputs": []
    },
    {
      "cell_type": "code",
      "source": [
        "# Make prediction with the loaded model\n",
        "loaded_model_pred_probs = loaded_model.predict(val_char_token_pos_dataset)\n",
        "loaded_model_preds = tf.argmax(loaded_model_pred_probs,axis = 1)\n",
        "loaded_model_preds[:10]"
      ],
      "metadata": {
        "colab": {
          "base_uri": "https://localhost:8080/"
        },
        "id": "IihmNV-yvg9a",
        "outputId": "0b96d814-7f2f-45d6-ffc7-9b15fd6baa7c"
      },
      "execution_count": null,
      "outputs": [
        {
          "output_type": "execute_result",
          "data": {
            "text/plain": [
              "<tf.Tensor: shape=(10,), dtype=int64, numpy=array([0, 0, 3, 2, 2, 4, 4, 4, 4, 1])>"
            ]
          },
          "metadata": {},
          "execution_count": 152
        }
      ]
    },
    {
      "cell_type": "code",
      "source": [
        "# Calculate the results\n",
        "loaded_model_results = calculate_results(val_labels_encoded,\n",
        "                                         loaded_model_preds)\n",
        "loaded_model_results"
      ],
      "metadata": {
        "colab": {
          "base_uri": "https://localhost:8080/"
        },
        "id": "-U1TZnWmvyqr",
        "outputId": "a80e818e-35dc-45af-8117-ea86b2221095"
      },
      "execution_count": null,
      "outputs": [
        {
          "output_type": "execute_result",
          "data": {
            "text/plain": [
              "{'accuracy': 85.52230901628492,\n",
              " 'f1': 0.8528136993646744,\n",
              " 'precision': 0.8565758653538714,\n",
              " 'recall': 0.8552230901628493}"
            ]
          },
          "metadata": {},
          "execution_count": 153
        }
      ]
    },
    {
      "cell_type": "code",
      "source": [
        "assert model_5_results == loaded_model_results"
      ],
      "metadata": {
        "id": "0pnOMKamv9PM"
      },
      "execution_count": null,
      "outputs": []
    },
    {
      "cell_type": "markdown",
      "source": [
        "## Evaluate the model on Test data"
      ],
      "metadata": {
        "id": "SE9oZlDfwE3d"
      }
    },
    {
      "cell_type": "code",
      "source": [
        "model = tf.keras.models.load_model(\"/content/drive/MyDrive/skimlit_tribrid_model\")"
      ],
      "metadata": {
        "id": "NKWRCyb-TBSu"
      },
      "execution_count": null,
      "outputs": []
    },
    {
      "cell_type": "code",
      "source": [
        "# Create test dataset and prefetch\n",
        "test_char_token_pos_data = tf.data.Dataset.from_tensor_slices((test_line_numbers_one_hot,\n",
        "                                                               test_total_lines_one_hot,\n",
        "                                                               test_sentences,\n",
        "                                                               test_chars))\n",
        "test_char_token_pos_labels = tf.data.Dataset.from_tensor_slices(test_labels_one_hot)\n",
        "test_char_token_pos_dataset = tf.data.Dataset.zip((test_char_token_pos_data , test_char_token_pos_labels))\n",
        "test_char_token_pos_dataset = test_char_token_pos_dataset.batch(32).prefetch(tf.data.AUTOTUNE)"
      ],
      "metadata": {
        "id": "nXKoe_VbTHLU"
      },
      "execution_count": null,
      "outputs": []
    },
    {
      "cell_type": "code",
      "source": [
        "test_char_token_pos_dataset"
      ],
      "metadata": {
        "colab": {
          "base_uri": "https://localhost:8080/"
        },
        "id": "_9hPN2vhU_4t",
        "outputId": "21a848f6-2fb7-4843-cd9d-b408b0d4ec3c"
      },
      "execution_count": null,
      "outputs": [
        {
          "output_type": "execute_result",
          "data": {
            "text/plain": [
              "<PrefetchDataset element_spec=((TensorSpec(shape=(None, 15), dtype=tf.float32, name=None), TensorSpec(shape=(None, 20), dtype=tf.float32, name=None), TensorSpec(shape=(None,), dtype=tf.string, name=None), TensorSpec(shape=(None,), dtype=tf.string, name=None)), TensorSpec(shape=(None, 5), dtype=tf.float64, name=None))>"
            ]
          },
          "metadata": {},
          "execution_count": 36
        }
      ]
    },
    {
      "cell_type": "code",
      "source": [
        "test_pred_probs = model.predict(test_char_token_pos_dataset, verbose = 1)\n",
        "test_preds = tf.argmax(test_pred_probs ,axis = 1)\n"
      ],
      "metadata": {
        "colab": {
          "base_uri": "https://localhost:8080/"
        },
        "id": "W19JrVpoVCHs",
        "outputId": "7fff70aa-22e3-4cb5-eec6-0dc25449927c"
      },
      "execution_count": null,
      "outputs": [
        {
          "output_type": "stream",
          "name": "stdout",
          "text": [
            "942/942 [==============================] - 30s 24ms/step\n"
          ]
        }
      ]
    },
    {
      "cell_type": "code",
      "source": [
        "from helper_function import calculate_results\n",
        "test_results = calculate_results(test_labels_encoded,\n",
        "                                 test_preds)"
      ],
      "metadata": {
        "id": "eZeIaBuBVTo0"
      },
      "execution_count": null,
      "outputs": []
    },
    {
      "cell_type": "code",
      "source": [
        "test_results"
      ],
      "metadata": {
        "colab": {
          "base_uri": "https://localhost:8080/"
        },
        "id": "VCxvUKEQVi0b",
        "outputId": "2d847ca2-6859-4bcf-f047-3d78a5526c7a"
      },
      "execution_count": null,
      "outputs": [
        {
          "output_type": "execute_result",
          "data": {
            "text/plain": [
              "{'accuracy': 85.14683922349427,\n",
              " 'f1': 0.8489160550865285,\n",
              " 'precision': 0.85173066840693,\n",
              " 'recall': 0.8514683922349428}"
            ]
          },
          "metadata": {},
          "execution_count": 40
        }
      ]
    },
    {
      "cell_type": "markdown",
      "source": [
        "## Finding most wrong predictions"
      ],
      "metadata": {
        "id": "t-3BGrs8VoG3"
      }
    },
    {
      "cell_type": "code",
      "source": [
        "%%time\n",
        "# Get the list of class names of the test predictions\n",
        "test_pred_classes = [label_encoder.classes_[pred] for pred in test_preds]"
      ],
      "metadata": {
        "colab": {
          "base_uri": "https://localhost:8080/"
        },
        "id": "sonTLaKHVtGK",
        "outputId": "f7363ece-343e-48f4-dc3e-b46592a09ef6"
      },
      "execution_count": null,
      "outputs": [
        {
          "output_type": "stream",
          "name": "stdout",
          "text": [
            "CPU times: user 11.6 s, sys: 1.17 s, total: 12.8 s\n",
            "Wall time: 10.9 s\n"
          ]
        }
      ]
    },
    {
      "cell_type": "code",
      "source": [
        "test_pred_classes"
      ],
      "metadata": {
        "id": "8FrUl02lV-aa"
      },
      "execution_count": null,
      "outputs": []
    },
    {
      "cell_type": "code",
      "source": [
        "# Create prediction encriched dataframe\n",
        "test_df[\"prediction\"] = test_pred_classes # Create column with test prediction class name\n",
        "test_df[\"pred_prob\"] = tf.reduce_max(test_pred_probs , axis = 1).numpy() # get the maximum prediction probabilities\n",
        "test_df[\"correct\"] = test_df[\"prediction\"] == test_df[\"target\"]"
      ],
      "metadata": {
        "id": "zsku-Bt2WCai"
      },
      "execution_count": null,
      "outputs": []
    },
    {
      "cell_type": "code",
      "source": [
        "test_df.head(14)"
      ],
      "metadata": {
        "colab": {
          "base_uri": "https://localhost:8080/",
          "height": 488
        },
        "id": "F0KgdVhIWnY6",
        "outputId": "7713e1a6-89f4-4b9c-91b8-76cab1b0f1a9"
      },
      "execution_count": null,
      "outputs": [
        {
          "output_type": "execute_result",
          "data": {
            "text/plain": [
              "         target                                               text  \\\n",
              "0    BACKGROUND  this study analyzed liver function abnormaliti...   \n",
              "1       RESULTS  a post hoc analysis was conducted with the use...   \n",
              "2       RESULTS  liver function tests ( lfts ) were measured at...   \n",
              "3       RESULTS  survival analyses were used to assess the asso...   \n",
              "4       RESULTS  the percentage of patients with abnormal lfts ...   \n",
              "5       RESULTS  when mean hemodynamic profiles were compared i...   \n",
              "6       RESULTS  multivariable analyses revealed that patients ...   \n",
              "7   CONCLUSIONS  abnormal lfts are common in the adhf populatio...   \n",
              "8   CONCLUSIONS  elevated meld-xi scores are associated with po...   \n",
              "9    BACKGROUND  minimally invasive endovascular aneurysm repai...   \n",
              "10   BACKGROUND  the aim of this study was to analyse the cost-...   \n",
              "11      METHODS  resource use was determined from the amsterdam...   \n",
              "12      METHODS  the analysis was performed from a provider per...   \n",
              "13      METHODS  all costs were calculated as if all patients h...   \n",
              "\n",
              "    line_number  total_lines   prediction  pred_prob  correct  \n",
              "0             0            8    OBJECTIVE   0.384145    False  \n",
              "1             1            8      METHODS   0.371765    False  \n",
              "2             2            8      METHODS   0.794142    False  \n",
              "3             3            8      METHODS   0.844021    False  \n",
              "4             4            8      RESULTS   0.721244     True  \n",
              "5             5            8      RESULTS   0.851039     True  \n",
              "6             6            8      RESULTS   0.773991     True  \n",
              "7             7            8  CONCLUSIONS   0.679488     True  \n",
              "8             8            8  CONCLUSIONS   0.610131     True  \n",
              "9             0           12   BACKGROUND   0.667362     True  \n",
              "10            1           12    OBJECTIVE   0.505404    False  \n",
              "11            2           12      METHODS   0.819566     True  \n",
              "12            3           12      METHODS   0.852515     True  \n",
              "13            4           12      RESULTS   0.506775    False  "
            ],
            "text/html": [
              "\n",
              "  <div id=\"df-accad0a6-1aa9-4ea1-ad57-0a2c061e980b\">\n",
              "    <div class=\"colab-df-container\">\n",
              "      <div>\n",
              "<style scoped>\n",
              "    .dataframe tbody tr th:only-of-type {\n",
              "        vertical-align: middle;\n",
              "    }\n",
              "\n",
              "    .dataframe tbody tr th {\n",
              "        vertical-align: top;\n",
              "    }\n",
              "\n",
              "    .dataframe thead th {\n",
              "        text-align: right;\n",
              "    }\n",
              "</style>\n",
              "<table border=\"1\" class=\"dataframe\">\n",
              "  <thead>\n",
              "    <tr style=\"text-align: right;\">\n",
              "      <th></th>\n",
              "      <th>target</th>\n",
              "      <th>text</th>\n",
              "      <th>line_number</th>\n",
              "      <th>total_lines</th>\n",
              "      <th>prediction</th>\n",
              "      <th>pred_prob</th>\n",
              "      <th>correct</th>\n",
              "    </tr>\n",
              "  </thead>\n",
              "  <tbody>\n",
              "    <tr>\n",
              "      <th>0</th>\n",
              "      <td>BACKGROUND</td>\n",
              "      <td>this study analyzed liver function abnormaliti...</td>\n",
              "      <td>0</td>\n",
              "      <td>8</td>\n",
              "      <td>OBJECTIVE</td>\n",
              "      <td>0.384145</td>\n",
              "      <td>False</td>\n",
              "    </tr>\n",
              "    <tr>\n",
              "      <th>1</th>\n",
              "      <td>RESULTS</td>\n",
              "      <td>a post hoc analysis was conducted with the use...</td>\n",
              "      <td>1</td>\n",
              "      <td>8</td>\n",
              "      <td>METHODS</td>\n",
              "      <td>0.371765</td>\n",
              "      <td>False</td>\n",
              "    </tr>\n",
              "    <tr>\n",
              "      <th>2</th>\n",
              "      <td>RESULTS</td>\n",
              "      <td>liver function tests ( lfts ) were measured at...</td>\n",
              "      <td>2</td>\n",
              "      <td>8</td>\n",
              "      <td>METHODS</td>\n",
              "      <td>0.794142</td>\n",
              "      <td>False</td>\n",
              "    </tr>\n",
              "    <tr>\n",
              "      <th>3</th>\n",
              "      <td>RESULTS</td>\n",
              "      <td>survival analyses were used to assess the asso...</td>\n",
              "      <td>3</td>\n",
              "      <td>8</td>\n",
              "      <td>METHODS</td>\n",
              "      <td>0.844021</td>\n",
              "      <td>False</td>\n",
              "    </tr>\n",
              "    <tr>\n",
              "      <th>4</th>\n",
              "      <td>RESULTS</td>\n",
              "      <td>the percentage of patients with abnormal lfts ...</td>\n",
              "      <td>4</td>\n",
              "      <td>8</td>\n",
              "      <td>RESULTS</td>\n",
              "      <td>0.721244</td>\n",
              "      <td>True</td>\n",
              "    </tr>\n",
              "    <tr>\n",
              "      <th>5</th>\n",
              "      <td>RESULTS</td>\n",
              "      <td>when mean hemodynamic profiles were compared i...</td>\n",
              "      <td>5</td>\n",
              "      <td>8</td>\n",
              "      <td>RESULTS</td>\n",
              "      <td>0.851039</td>\n",
              "      <td>True</td>\n",
              "    </tr>\n",
              "    <tr>\n",
              "      <th>6</th>\n",
              "      <td>RESULTS</td>\n",
              "      <td>multivariable analyses revealed that patients ...</td>\n",
              "      <td>6</td>\n",
              "      <td>8</td>\n",
              "      <td>RESULTS</td>\n",
              "      <td>0.773991</td>\n",
              "      <td>True</td>\n",
              "    </tr>\n",
              "    <tr>\n",
              "      <th>7</th>\n",
              "      <td>CONCLUSIONS</td>\n",
              "      <td>abnormal lfts are common in the adhf populatio...</td>\n",
              "      <td>7</td>\n",
              "      <td>8</td>\n",
              "      <td>CONCLUSIONS</td>\n",
              "      <td>0.679488</td>\n",
              "      <td>True</td>\n",
              "    </tr>\n",
              "    <tr>\n",
              "      <th>8</th>\n",
              "      <td>CONCLUSIONS</td>\n",
              "      <td>elevated meld-xi scores are associated with po...</td>\n",
              "      <td>8</td>\n",
              "      <td>8</td>\n",
              "      <td>CONCLUSIONS</td>\n",
              "      <td>0.610131</td>\n",
              "      <td>True</td>\n",
              "    </tr>\n",
              "    <tr>\n",
              "      <th>9</th>\n",
              "      <td>BACKGROUND</td>\n",
              "      <td>minimally invasive endovascular aneurysm repai...</td>\n",
              "      <td>0</td>\n",
              "      <td>12</td>\n",
              "      <td>BACKGROUND</td>\n",
              "      <td>0.667362</td>\n",
              "      <td>True</td>\n",
              "    </tr>\n",
              "    <tr>\n",
              "      <th>10</th>\n",
              "      <td>BACKGROUND</td>\n",
              "      <td>the aim of this study was to analyse the cost-...</td>\n",
              "      <td>1</td>\n",
              "      <td>12</td>\n",
              "      <td>OBJECTIVE</td>\n",
              "      <td>0.505404</td>\n",
              "      <td>False</td>\n",
              "    </tr>\n",
              "    <tr>\n",
              "      <th>11</th>\n",
              "      <td>METHODS</td>\n",
              "      <td>resource use was determined from the amsterdam...</td>\n",
              "      <td>2</td>\n",
              "      <td>12</td>\n",
              "      <td>METHODS</td>\n",
              "      <td>0.819566</td>\n",
              "      <td>True</td>\n",
              "    </tr>\n",
              "    <tr>\n",
              "      <th>12</th>\n",
              "      <td>METHODS</td>\n",
              "      <td>the analysis was performed from a provider per...</td>\n",
              "      <td>3</td>\n",
              "      <td>12</td>\n",
              "      <td>METHODS</td>\n",
              "      <td>0.852515</td>\n",
              "      <td>True</td>\n",
              "    </tr>\n",
              "    <tr>\n",
              "      <th>13</th>\n",
              "      <td>METHODS</td>\n",
              "      <td>all costs were calculated as if all patients h...</td>\n",
              "      <td>4</td>\n",
              "      <td>12</td>\n",
              "      <td>RESULTS</td>\n",
              "      <td>0.506775</td>\n",
              "      <td>False</td>\n",
              "    </tr>\n",
              "  </tbody>\n",
              "</table>\n",
              "</div>\n",
              "      <button class=\"colab-df-convert\" onclick=\"convertToInteractive('df-accad0a6-1aa9-4ea1-ad57-0a2c061e980b')\"\n",
              "              title=\"Convert this dataframe to an interactive table.\"\n",
              "              style=\"display:none;\">\n",
              "        \n",
              "  <svg xmlns=\"http://www.w3.org/2000/svg\" height=\"24px\"viewBox=\"0 0 24 24\"\n",
              "       width=\"24px\">\n",
              "    <path d=\"M0 0h24v24H0V0z\" fill=\"none\"/>\n",
              "    <path d=\"M18.56 5.44l.94 2.06.94-2.06 2.06-.94-2.06-.94-.94-2.06-.94 2.06-2.06.94zm-11 1L8.5 8.5l.94-2.06 2.06-.94-2.06-.94L8.5 2.5l-.94 2.06-2.06.94zm10 10l.94 2.06.94-2.06 2.06-.94-2.06-.94-.94-2.06-.94 2.06-2.06.94z\"/><path d=\"M17.41 7.96l-1.37-1.37c-.4-.4-.92-.59-1.43-.59-.52 0-1.04.2-1.43.59L10.3 9.45l-7.72 7.72c-.78.78-.78 2.05 0 2.83L4 21.41c.39.39.9.59 1.41.59.51 0 1.02-.2 1.41-.59l7.78-7.78 2.81-2.81c.8-.78.8-2.07 0-2.86zM5.41 20L4 18.59l7.72-7.72 1.47 1.35L5.41 20z\"/>\n",
              "  </svg>\n",
              "      </button>\n",
              "      \n",
              "  <style>\n",
              "    .colab-df-container {\n",
              "      display:flex;\n",
              "      flex-wrap:wrap;\n",
              "      gap: 12px;\n",
              "    }\n",
              "\n",
              "    .colab-df-convert {\n",
              "      background-color: #E8F0FE;\n",
              "      border: none;\n",
              "      border-radius: 50%;\n",
              "      cursor: pointer;\n",
              "      display: none;\n",
              "      fill: #1967D2;\n",
              "      height: 32px;\n",
              "      padding: 0 0 0 0;\n",
              "      width: 32px;\n",
              "    }\n",
              "\n",
              "    .colab-df-convert:hover {\n",
              "      background-color: #E2EBFA;\n",
              "      box-shadow: 0px 1px 2px rgba(60, 64, 67, 0.3), 0px 1px 3px 1px rgba(60, 64, 67, 0.15);\n",
              "      fill: #174EA6;\n",
              "    }\n",
              "\n",
              "    [theme=dark] .colab-df-convert {\n",
              "      background-color: #3B4455;\n",
              "      fill: #D2E3FC;\n",
              "    }\n",
              "\n",
              "    [theme=dark] .colab-df-convert:hover {\n",
              "      background-color: #434B5C;\n",
              "      box-shadow: 0px 1px 3px 1px rgba(0, 0, 0, 0.15);\n",
              "      filter: drop-shadow(0px 1px 2px rgba(0, 0, 0, 0.3));\n",
              "      fill: #FFFFFF;\n",
              "    }\n",
              "  </style>\n",
              "\n",
              "      <script>\n",
              "        const buttonEl =\n",
              "          document.querySelector('#df-accad0a6-1aa9-4ea1-ad57-0a2c061e980b button.colab-df-convert');\n",
              "        buttonEl.style.display =\n",
              "          google.colab.kernel.accessAllowed ? 'block' : 'none';\n",
              "\n",
              "        async function convertToInteractive(key) {\n",
              "          const element = document.querySelector('#df-accad0a6-1aa9-4ea1-ad57-0a2c061e980b');\n",
              "          const dataTable =\n",
              "            await google.colab.kernel.invokeFunction('convertToInteractive',\n",
              "                                                     [key], {});\n",
              "          if (!dataTable) return;\n",
              "\n",
              "          const docLinkHtml = 'Like what you see? Visit the ' +\n",
              "            '<a target=\"_blank\" href=https://colab.research.google.com/notebooks/data_table.ipynb>data table notebook</a>'\n",
              "            + ' to learn more about interactive tables.';\n",
              "          element.innerHTML = '';\n",
              "          dataTable['output_type'] = 'display_data';\n",
              "          await google.colab.output.renderOutput(dataTable, element);\n",
              "          const docLink = document.createElement('div');\n",
              "          docLink.innerHTML = docLinkHtml;\n",
              "          element.appendChild(docLink);\n",
              "        }\n",
              "      </script>\n",
              "    </div>\n",
              "  </div>\n",
              "  "
            ]
          },
          "metadata": {},
          "execution_count": 44
        }
      ]
    },
    {
      "cell_type": "code",
      "source": [
        "# Find the top 100 wrong predictions\n",
        "top_100_wrong = test_df[test_df[\"correct\"]==False].sort_values(\"pred_prob\",ascending = False)[:100]"
      ],
      "metadata": {
        "id": "YtSX5qvkWpQI"
      },
      "execution_count": null,
      "outputs": []
    },
    {
      "cell_type": "code",
      "source": [
        "top_100_wrong"
      ],
      "metadata": {
        "colab": {
          "base_uri": "https://localhost:8080/",
          "height": 424
        },
        "id": "bVAF2CQZW_Za",
        "outputId": "820183d6-1241-42ef-8a4c-60ba28955bfc"
      },
      "execution_count": null,
      "outputs": [
        {
          "output_type": "execute_result",
          "data": {
            "text/plain": [
              "            target                                               text  \\\n",
              "22736    OBJECTIVE  the national institute of oncology , budapest ...   \n",
              "8545       METHODS                                 pretest-posttest .   \n",
              "1827   CONCLUSIONS                      nct@ ( clinicaltrials.gov ) .   \n",
              "6856     OBJECTIVE  there are currently no therapies to prevent or...   \n",
              "19223      METHODS  of the @ dogs receiving placebo , @ ( @ % ) vo...   \n",
              "...            ...                                                ...   \n",
              "12158      METHODS  in the saffron group , there was no decline in...   \n",
              "13693      METHODS               sixty patients completed the study .   \n",
              "4350   CONCLUSIONS  also , heart failure hospitalization was more ...   \n",
              "21180    OBJECTIVE  in patients undergoing bilateral tibial length...   \n",
              "29170  CONCLUSIONS  the mean number of intravitreal injections was...   \n",
              "\n",
              "       line_number  total_lines  prediction  pred_prob  correct  \n",
              "22736            4           20     METHODS   0.946957    False  \n",
              "8545             1           11  BACKGROUND   0.939218    False  \n",
              "1827            18           18  BACKGROUND   0.936717    False  \n",
              "6856             2           16  BACKGROUND   0.933010    False  \n",
              "19223            7           10     RESULTS   0.930150    False  \n",
              "...            ...          ...         ...        ...      ...  \n",
              "12158            9           12     RESULTS   0.856893    False  \n",
              "13693            8           13     RESULTS   0.856860    False  \n",
              "4350            11           11     RESULTS   0.856713    False  \n",
              "21180            2           17     METHODS   0.856538    False  \n",
              "29170            9            9     RESULTS   0.856419    False  \n",
              "\n",
              "[100 rows x 7 columns]"
            ],
            "text/html": [
              "\n",
              "  <div id=\"df-19034208-5239-4e6c-9672-8a62c994eb83\">\n",
              "    <div class=\"colab-df-container\">\n",
              "      <div>\n",
              "<style scoped>\n",
              "    .dataframe tbody tr th:only-of-type {\n",
              "        vertical-align: middle;\n",
              "    }\n",
              "\n",
              "    .dataframe tbody tr th {\n",
              "        vertical-align: top;\n",
              "    }\n",
              "\n",
              "    .dataframe thead th {\n",
              "        text-align: right;\n",
              "    }\n",
              "</style>\n",
              "<table border=\"1\" class=\"dataframe\">\n",
              "  <thead>\n",
              "    <tr style=\"text-align: right;\">\n",
              "      <th></th>\n",
              "      <th>target</th>\n",
              "      <th>text</th>\n",
              "      <th>line_number</th>\n",
              "      <th>total_lines</th>\n",
              "      <th>prediction</th>\n",
              "      <th>pred_prob</th>\n",
              "      <th>correct</th>\n",
              "    </tr>\n",
              "  </thead>\n",
              "  <tbody>\n",
              "    <tr>\n",
              "      <th>22736</th>\n",
              "      <td>OBJECTIVE</td>\n",
              "      <td>the national institute of oncology , budapest ...</td>\n",
              "      <td>4</td>\n",
              "      <td>20</td>\n",
              "      <td>METHODS</td>\n",
              "      <td>0.946957</td>\n",
              "      <td>False</td>\n",
              "    </tr>\n",
              "    <tr>\n",
              "      <th>8545</th>\n",
              "      <td>METHODS</td>\n",
              "      <td>pretest-posttest .</td>\n",
              "      <td>1</td>\n",
              "      <td>11</td>\n",
              "      <td>BACKGROUND</td>\n",
              "      <td>0.939218</td>\n",
              "      <td>False</td>\n",
              "    </tr>\n",
              "    <tr>\n",
              "      <th>1827</th>\n",
              "      <td>CONCLUSIONS</td>\n",
              "      <td>nct@ ( clinicaltrials.gov ) .</td>\n",
              "      <td>18</td>\n",
              "      <td>18</td>\n",
              "      <td>BACKGROUND</td>\n",
              "      <td>0.936717</td>\n",
              "      <td>False</td>\n",
              "    </tr>\n",
              "    <tr>\n",
              "      <th>6856</th>\n",
              "      <td>OBJECTIVE</td>\n",
              "      <td>there are currently no therapies to prevent or...</td>\n",
              "      <td>2</td>\n",
              "      <td>16</td>\n",
              "      <td>BACKGROUND</td>\n",
              "      <td>0.933010</td>\n",
              "      <td>False</td>\n",
              "    </tr>\n",
              "    <tr>\n",
              "      <th>19223</th>\n",
              "      <td>METHODS</td>\n",
              "      <td>of the @ dogs receiving placebo , @ ( @ % ) vo...</td>\n",
              "      <td>7</td>\n",
              "      <td>10</td>\n",
              "      <td>RESULTS</td>\n",
              "      <td>0.930150</td>\n",
              "      <td>False</td>\n",
              "    </tr>\n",
              "    <tr>\n",
              "      <th>...</th>\n",
              "      <td>...</td>\n",
              "      <td>...</td>\n",
              "      <td>...</td>\n",
              "      <td>...</td>\n",
              "      <td>...</td>\n",
              "      <td>...</td>\n",
              "      <td>...</td>\n",
              "    </tr>\n",
              "    <tr>\n",
              "      <th>12158</th>\n",
              "      <td>METHODS</td>\n",
              "      <td>in the saffron group , there was no decline in...</td>\n",
              "      <td>9</td>\n",
              "      <td>12</td>\n",
              "      <td>RESULTS</td>\n",
              "      <td>0.856893</td>\n",
              "      <td>False</td>\n",
              "    </tr>\n",
              "    <tr>\n",
              "      <th>13693</th>\n",
              "      <td>METHODS</td>\n",
              "      <td>sixty patients completed the study .</td>\n",
              "      <td>8</td>\n",
              "      <td>13</td>\n",
              "      <td>RESULTS</td>\n",
              "      <td>0.856860</td>\n",
              "      <td>False</td>\n",
              "    </tr>\n",
              "    <tr>\n",
              "      <th>4350</th>\n",
              "      <td>CONCLUSIONS</td>\n",
              "      <td>also , heart failure hospitalization was more ...</td>\n",
              "      <td>11</td>\n",
              "      <td>11</td>\n",
              "      <td>RESULTS</td>\n",
              "      <td>0.856713</td>\n",
              "      <td>False</td>\n",
              "    </tr>\n",
              "    <tr>\n",
              "      <th>21180</th>\n",
              "      <td>OBJECTIVE</td>\n",
              "      <td>in patients undergoing bilateral tibial length...</td>\n",
              "      <td>2</td>\n",
              "      <td>17</td>\n",
              "      <td>METHODS</td>\n",
              "      <td>0.856538</td>\n",
              "      <td>False</td>\n",
              "    </tr>\n",
              "    <tr>\n",
              "      <th>29170</th>\n",
              "      <td>CONCLUSIONS</td>\n",
              "      <td>the mean number of intravitreal injections was...</td>\n",
              "      <td>9</td>\n",
              "      <td>9</td>\n",
              "      <td>RESULTS</td>\n",
              "      <td>0.856419</td>\n",
              "      <td>False</td>\n",
              "    </tr>\n",
              "  </tbody>\n",
              "</table>\n",
              "<p>100 rows × 7 columns</p>\n",
              "</div>\n",
              "      <button class=\"colab-df-convert\" onclick=\"convertToInteractive('df-19034208-5239-4e6c-9672-8a62c994eb83')\"\n",
              "              title=\"Convert this dataframe to an interactive table.\"\n",
              "              style=\"display:none;\">\n",
              "        \n",
              "  <svg xmlns=\"http://www.w3.org/2000/svg\" height=\"24px\"viewBox=\"0 0 24 24\"\n",
              "       width=\"24px\">\n",
              "    <path d=\"M0 0h24v24H0V0z\" fill=\"none\"/>\n",
              "    <path d=\"M18.56 5.44l.94 2.06.94-2.06 2.06-.94-2.06-.94-.94-2.06-.94 2.06-2.06.94zm-11 1L8.5 8.5l.94-2.06 2.06-.94-2.06-.94L8.5 2.5l-.94 2.06-2.06.94zm10 10l.94 2.06.94-2.06 2.06-.94-2.06-.94-.94-2.06-.94 2.06-2.06.94z\"/><path d=\"M17.41 7.96l-1.37-1.37c-.4-.4-.92-.59-1.43-.59-.52 0-1.04.2-1.43.59L10.3 9.45l-7.72 7.72c-.78.78-.78 2.05 0 2.83L4 21.41c.39.39.9.59 1.41.59.51 0 1.02-.2 1.41-.59l7.78-7.78 2.81-2.81c.8-.78.8-2.07 0-2.86zM5.41 20L4 18.59l7.72-7.72 1.47 1.35L5.41 20z\"/>\n",
              "  </svg>\n",
              "      </button>\n",
              "      \n",
              "  <style>\n",
              "    .colab-df-container {\n",
              "      display:flex;\n",
              "      flex-wrap:wrap;\n",
              "      gap: 12px;\n",
              "    }\n",
              "\n",
              "    .colab-df-convert {\n",
              "      background-color: #E8F0FE;\n",
              "      border: none;\n",
              "      border-radius: 50%;\n",
              "      cursor: pointer;\n",
              "      display: none;\n",
              "      fill: #1967D2;\n",
              "      height: 32px;\n",
              "      padding: 0 0 0 0;\n",
              "      width: 32px;\n",
              "    }\n",
              "\n",
              "    .colab-df-convert:hover {\n",
              "      background-color: #E2EBFA;\n",
              "      box-shadow: 0px 1px 2px rgba(60, 64, 67, 0.3), 0px 1px 3px 1px rgba(60, 64, 67, 0.15);\n",
              "      fill: #174EA6;\n",
              "    }\n",
              "\n",
              "    [theme=dark] .colab-df-convert {\n",
              "      background-color: #3B4455;\n",
              "      fill: #D2E3FC;\n",
              "    }\n",
              "\n",
              "    [theme=dark] .colab-df-convert:hover {\n",
              "      background-color: #434B5C;\n",
              "      box-shadow: 0px 1px 3px 1px rgba(0, 0, 0, 0.15);\n",
              "      filter: drop-shadow(0px 1px 2px rgba(0, 0, 0, 0.3));\n",
              "      fill: #FFFFFF;\n",
              "    }\n",
              "  </style>\n",
              "\n",
              "      <script>\n",
              "        const buttonEl =\n",
              "          document.querySelector('#df-19034208-5239-4e6c-9672-8a62c994eb83 button.colab-df-convert');\n",
              "        buttonEl.style.display =\n",
              "          google.colab.kernel.accessAllowed ? 'block' : 'none';\n",
              "\n",
              "        async function convertToInteractive(key) {\n",
              "          const element = document.querySelector('#df-19034208-5239-4e6c-9672-8a62c994eb83');\n",
              "          const dataTable =\n",
              "            await google.colab.kernel.invokeFunction('convertToInteractive',\n",
              "                                                     [key], {});\n",
              "          if (!dataTable) return;\n",
              "\n",
              "          const docLinkHtml = 'Like what you see? Visit the ' +\n",
              "            '<a target=\"_blank\" href=https://colab.research.google.com/notebooks/data_table.ipynb>data table notebook</a>'\n",
              "            + ' to learn more about interactive tables.';\n",
              "          element.innerHTML = '';\n",
              "          dataTable['output_type'] = 'display_data';\n",
              "          await google.colab.output.renderOutput(dataTable, element);\n",
              "          const docLink = document.createElement('div');\n",
              "          docLink.innerHTML = docLinkHtml;\n",
              "          element.appendChild(docLink);\n",
              "        }\n",
              "      </script>\n",
              "    </div>\n",
              "  </div>\n",
              "  "
            ]
          },
          "metadata": {},
          "execution_count": 47
        }
      ]
    },
    {
      "cell_type": "code",
      "source": [
        "# Investigate the wrong predictions\n",
        "for row in top_100_wrong.itertuples():\n",
        "  _,target ,text , line_number , total_lines , prediction , pred_prob , _ = row\n",
        "  print(f\"Target:{target} , Pred:{prediction} , Prob:{pred_prob} , line_number:{line_number} , Total_lines:{total_lines}\")\n",
        "  print(f\"Text:\\n{text}\\n\")\n",
        "  print(\"-----------------------------------------------------------------------------\\n\")"
      ],
      "metadata": {
        "colab": {
          "base_uri": "https://localhost:8080/"
        },
        "id": "8HICRGwrXEwn",
        "outputId": "d6f26d52-2715-45d6-b67e-4fbbddfc7e9f"
      },
      "execution_count": null,
      "outputs": [
        {
          "output_type": "stream",
          "name": "stdout",
          "text": [
            "Target:OBJECTIVE , Pred:METHODS , Prob:0.9469574093818665 , line_number:4 , Total_lines:20\n",
            "Text:\n",
            "the national institute of oncology , budapest conducted a single centre randomized clinical study .\n",
            "\n",
            "-----------------------------------------------------------------------------\n",
            "\n",
            "Target:METHODS , Pred:BACKGROUND , Prob:0.9392178058624268 , line_number:1 , Total_lines:11\n",
            "Text:\n",
            "pretest-posttest .\n",
            "\n",
            "-----------------------------------------------------------------------------\n",
            "\n",
            "Target:CONCLUSIONS , Pred:BACKGROUND , Prob:0.9367167949676514 , line_number:18 , Total_lines:18\n",
            "Text:\n",
            "nct@ ( clinicaltrials.gov ) .\n",
            "\n",
            "-----------------------------------------------------------------------------\n",
            "\n",
            "Target:OBJECTIVE , Pred:BACKGROUND , Prob:0.9330095648765564 , line_number:2 , Total_lines:16\n",
            "Text:\n",
            "there are currently no therapies to prevent or treat bk virus infection .\n",
            "\n",
            "-----------------------------------------------------------------------------\n",
            "\n",
            "Target:METHODS , Pred:RESULTS , Prob:0.9301499724388123 , line_number:7 , Total_lines:10\n",
            "Text:\n",
            "of the @ dogs receiving placebo , @ ( @ % ) vomited and @ ( @ % ) developed signs of nausea ; overall , @ of @ ( @ % ) dogs in the placebo treatment group vomited or developed signs of nausea .\n",
            "\n",
            "-----------------------------------------------------------------------------\n",
            "\n",
            "Target:CONCLUSIONS , Pred:METHODS , Prob:0.9268858432769775 , line_number:4 , Total_lines:6\n",
            "Text:\n",
            "symptom outcomes will be assessed and estimates of cost-effectiveness made .\n",
            "\n",
            "-----------------------------------------------------------------------------\n",
            "\n",
            "Target:METHODS , Pred:RESULTS , Prob:0.9235073328018188 , line_number:6 , Total_lines:12\n",
            "Text:\n",
            "at one month there was significant improvement of the scores for all the examined cases .\n",
            "\n",
            "-----------------------------------------------------------------------------\n",
            "\n",
            "Target:BACKGROUND , Pred:OBJECTIVE , Prob:0.9217265248298645 , line_number:0 , Total_lines:11\n",
            "Text:\n",
            "to compare the safety and efficacy of dexmedetomidine/propofol ( dp ) - total i.v. anaesthesia ( tiva ) vs remifentanil/propofol ( rp ) - tiva , both with spontaneous breathing , during airway foreign body ( fb ) removal in children .\n",
            "\n",
            "-----------------------------------------------------------------------------\n",
            "\n",
            "Target:RESULTS , Pred:METHODS , Prob:0.9196580052375793 , line_number:4 , Total_lines:13\n",
            "Text:\n",
            "baseline measures included sociodemographics , standardized anthropometrics , asthma control test ( act ) , gerd symptom assessment scale , pittsburgh sleep quality index , and berlin questionnaire for sleep apnea .\n",
            "\n",
            "-----------------------------------------------------------------------------\n",
            "\n",
            "Target:CONCLUSIONS , Pred:RESULTS , Prob:0.917784571647644 , line_number:6 , Total_lines:8\n",
            "Text:\n",
            "overall , the intervention enhanced health at an individual level and favored social network diversity at a group level .\n",
            "\n",
            "-----------------------------------------------------------------------------\n",
            "\n",
            "Target:BACKGROUND , Pred:OBJECTIVE , Prob:0.917069673538208 , line_number:0 , Total_lines:12\n",
            "Text:\n",
            "to evaluate the effects of the lactic acid bacterium lactobacillus salivarius on caries risk factors .\n",
            "\n",
            "-----------------------------------------------------------------------------\n",
            "\n",
            "Target:METHODS , Pred:RESULTS , Prob:0.9151582717895508 , line_number:7 , Total_lines:9\n",
            "Text:\n",
            "both drugs were well tolerated and no severe side effects were reported .\n",
            "\n",
            "-----------------------------------------------------------------------------\n",
            "\n",
            "Target:CONCLUSIONS , Pred:RESULTS , Prob:0.9139206409454346 , line_number:7 , Total_lines:8\n",
            "Text:\n",
            "adverse events up to the third postoperative day occurred similarly in both groups .\n",
            "\n",
            "-----------------------------------------------------------------------------\n",
            "\n",
            "Target:RESULTS , Pred:METHODS , Prob:0.9117745161056519 , line_number:3 , Total_lines:16\n",
            "Text:\n",
            "a cluster randomised trial was implemented with @,@ children in @ government primary schools on the south coast of kenya in @-@ .\n",
            "\n",
            "-----------------------------------------------------------------------------\n",
            "\n",
            "Target:OBJECTIVE , Pred:RESULTS , Prob:0.9114239811897278 , line_number:11 , Total_lines:14\n",
            "Text:\n",
            "a total of @ people ( @ % ) were diagnosed to have diabetic retinopathy in the ophthalmologist-based model , and @ people ( @ % ) in the ophthalmologist-led model p < @ ) .\n",
            "\n",
            "-----------------------------------------------------------------------------\n",
            "\n",
            "Target:METHODS , Pred:RESULTS , Prob:0.910463273525238 , line_number:8 , Total_lines:15\n",
            "Text:\n",
            "response rates were @ % to @ % .\n",
            "\n",
            "-----------------------------------------------------------------------------\n",
            "\n",
            "Target:OBJECTIVE , Pred:BACKGROUND , Prob:0.9093295931816101 , line_number:1 , Total_lines:18\n",
            "Text:\n",
            "the national institute of neurological disorders and stroke exploratory trials in parkinson disease program was established to promote discovery of potential therapies .\n",
            "\n",
            "-----------------------------------------------------------------------------\n",
            "\n",
            "Target:RESULTS , Pred:METHODS , Prob:0.9084905385971069 , line_number:4 , Total_lines:14\n",
            "Text:\n",
            "this two-group online individually randomised controlled trial recruited employees from a uk-based private sector organisation ( approx .\n",
            "\n",
            "-----------------------------------------------------------------------------\n",
            "\n",
            "Target:METHODS , Pred:RESULTS , Prob:0.9082774519920349 , line_number:5 , Total_lines:11\n",
            "Text:\n",
            "four subjects dropped out .\n",
            "\n",
            "-----------------------------------------------------------------------------\n",
            "\n",
            "Target:CONCLUSIONS , Pred:BACKGROUND , Prob:0.9072219729423523 , line_number:11 , Total_lines:12\n",
            "Text:\n",
            "chictr.org .\n",
            "\n",
            "-----------------------------------------------------------------------------\n",
            "\n",
            "Target:RESULTS , Pred:METHODS , Prob:0.9022622108459473 , line_number:2 , Total_lines:17\n",
            "Text:\n",
            "a @-arm randomized trial was conducted over @ weeks among primary care clinicians at @ hospitals .\n",
            "\n",
            "-----------------------------------------------------------------------------\n",
            "\n",
            "Target:OBJECTIVE , Pred:RESULTS , Prob:0.8998677134513855 , line_number:7 , Total_lines:11\n",
            "Text:\n",
            "one treatment took forty minutes , resulting in the total shock waves per session of @,@ , @,@ , @,@ and @,@ for group a , b , c and d , respectively .\n",
            "\n",
            "-----------------------------------------------------------------------------\n",
            "\n",
            "Target:RESULTS , Pred:METHODS , Prob:0.8998136520385742 , line_number:5 , Total_lines:7\n",
            "Text:\n",
            "the primary outcome is weight loss .\n",
            "\n",
            "-----------------------------------------------------------------------------\n",
            "\n",
            "Target:METHODS , Pred:RESULTS , Prob:0.8993613719940186 , line_number:6 , Total_lines:13\n",
            "Text:\n",
            "a total of @ volunteer subjects were randomized , and @ and @ subjects completed the first and second years of follow-up , respectively .\n",
            "\n",
            "-----------------------------------------------------------------------------\n",
            "\n",
            "Target:METHODS , Pred:RESULTS , Prob:0.8988029360771179 , line_number:6 , Total_lines:10\n",
            "Text:\n",
            "results-of the @ dogs receiving maropitant , none vomited but @ ( @ % ) developed signs of nausea .\n",
            "\n",
            "-----------------------------------------------------------------------------\n",
            "\n",
            "Target:CONCLUSIONS , Pred:RESULTS , Prob:0.897560715675354 , line_number:8 , Total_lines:8\n",
            "Text:\n",
            "in a follow-up of patients carried out at @ months , @ months , and @ year after the surgery , there were no wound dehiscence , no bleeding , and no other potential major complications .\n",
            "\n",
            "-----------------------------------------------------------------------------\n",
            "\n",
            "Target:METHODS , Pred:RESULTS , Prob:0.8957727551460266 , line_number:7 , Total_lines:11\n",
            "Text:\n",
            "of the total @ patients , @ will be in ihome acute ( enrolled within three-months of stroke onset ) and @ patients in ihome chronic ( enrolled more than six-months from onset ) .\n",
            "\n",
            "-----------------------------------------------------------------------------\n",
            "\n",
            "Target:RESULTS , Pred:METHODS , Prob:0.8948568105697632 , line_number:6 , Total_lines:7\n",
            "Text:\n",
            "secondary outcomes include measures for body composition , fitness , eating behavior , exercise motivation and , quality of life as well as cognition and food reward and motivation as assessed by functional magnetic resonance imaging ( fmri ) tasks .\n",
            "\n",
            "-----------------------------------------------------------------------------\n",
            "\n",
            "Target:CONCLUSIONS , Pred:RESULTS , Prob:0.8941488862037659 , line_number:8 , Total_lines:10\n",
            "Text:\n",
            "out of @ total measures examined at two different time points , we observed only two significant menstrual phase differences in the subjective response to nicotine .\n",
            "\n",
            "-----------------------------------------------------------------------------\n",
            "\n",
            "Target:METHODS , Pred:BACKGROUND , Prob:0.8933948874473572 , line_number:16 , Total_lines:19\n",
            "Text:\n",
            "we will comply with the consort guidelines and will disseminate the findings at national and international conferences and in peer-reviewed journals .\n",
            "\n",
            "-----------------------------------------------------------------------------\n",
            "\n",
            "Target:RESULTS , Pred:METHODS , Prob:0.8922065496444702 , line_number:4 , Total_lines:13\n",
            "Text:\n",
            "the primary endpoint is the cumulative three-year hiv incidence .\n",
            "\n",
            "-----------------------------------------------------------------------------\n",
            "\n",
            "Target:METHODS , Pred:RESULTS , Prob:0.8919334411621094 , line_number:8 , Total_lines:15\n",
            "Text:\n",
            "response rates were high across all follow-ups , and still reached @ % from mothers and @ % from fathers at @ years .\n",
            "\n",
            "-----------------------------------------------------------------------------\n",
            "\n",
            "Target:METHODS , Pred:RESULTS , Prob:0.8912933468818665 , line_number:4 , Total_lines:8\n",
            "Text:\n",
            "ninety patients were enrolled .\n",
            "\n",
            "-----------------------------------------------------------------------------\n",
            "\n",
            "Target:CONCLUSIONS , Pred:RESULTS , Prob:0.8911699652671814 , line_number:10 , Total_lines:12\n",
            "Text:\n",
            "there was notable ( @ % ) attrition by @ months from baseline .\n",
            "\n",
            "-----------------------------------------------------------------------------\n",
            "\n",
            "Target:RESULTS , Pred:METHODS , Prob:0.8896927833557129 , line_number:5 , Total_lines:16\n",
            "Text:\n",
            "primary outcome was breastfeeding at @ days , with secondary outcomes of breastfeeding self-efficacy and pain on feeding .\n",
            "\n",
            "-----------------------------------------------------------------------------\n",
            "\n",
            "Target:RESULTS , Pred:METHODS , Prob:0.8888569474220276 , line_number:4 , Total_lines:16\n",
            "Text:\n",
            "the intervention was delivered to children randomly selected from classes @ and @ who were followed up for @ months .\n",
            "\n",
            "-----------------------------------------------------------------------------\n",
            "\n",
            "Target:METHODS , Pred:RESULTS , Prob:0.8885053992271423 , line_number:6 , Total_lines:10\n",
            "Text:\n",
            "the extent and causes of sickness absence among the children were recorded in both groups before and after introduction of the intervention .\n",
            "\n",
            "-----------------------------------------------------------------------------\n",
            "\n",
            "Target:RESULTS , Pred:METHODS , Prob:0.8873546719551086 , line_number:5 , Total_lines:14\n",
            "Text:\n",
            "control group patients received a wallet card for bp recording , written hypertension information , and usual care from their pharmacist and physician .\n",
            "\n",
            "-----------------------------------------------------------------------------\n",
            "\n",
            "Target:BACKGROUND , Pred:OBJECTIVE , Prob:0.8873114585876465 , line_number:0 , Total_lines:11\n",
            "Text:\n",
            "to assess the temporal patterns of late gastrointestinal ( gi ) and genitourinary ( gu ) radiotherapy toxicity and resolution rates in a randomised controlled trial ( all-ireland cooperative oncology research group @-@ ) assessing duration of neo-adjuvant ( na ) hormone therapy for localised prostate cancer .\n",
            "\n",
            "-----------------------------------------------------------------------------\n",
            "\n",
            "Target:METHODS , Pred:RESULTS , Prob:0.886786162853241 , line_number:10 , Total_lines:13\n",
            "Text:\n",
            "of those , @ students completed the baseline assessment .\n",
            "\n",
            "-----------------------------------------------------------------------------\n",
            "\n",
            "Target:BACKGROUND , Pred:CONCLUSIONS , Prob:0.8865372538566589 , line_number:12 , Total_lines:12\n",
            "Text:\n",
            "dpbrn hygienists internet quality improvement in tobacco cessation ( hiquit ) ; nct@ .\n",
            "\n",
            "-----------------------------------------------------------------------------\n",
            "\n",
            "Target:RESULTS , Pred:METHODS , Prob:0.8850467801094055 , line_number:2 , Total_lines:16\n",
            "Text:\n",
            "we conducted a population-based case-control study of multiple health care databases in ontario , canada , from april @ to march @ .\n",
            "\n",
            "-----------------------------------------------------------------------------\n",
            "\n",
            "Target:BACKGROUND , Pred:OBJECTIVE , Prob:0.8847541213035583 , line_number:0 , Total_lines:9\n",
            "Text:\n",
            "to compare the efficacy of the newcastle infant dialysis and ultrafiltration system ( nidus ) with peritoneal dialysis ( pd ) and conventional haemodialysis ( hd ) in infants weighing < @ kg .\n",
            "\n",
            "-----------------------------------------------------------------------------\n",
            "\n",
            "Target:CONCLUSIONS , Pred:RESULTS , Prob:0.8838602304458618 , line_number:14 , Total_lines:14\n",
            "Text:\n",
            "all microorganisms isolated from the ssis were characteristic of urinary tract infections .\n",
            "\n",
            "-----------------------------------------------------------------------------\n",
            "\n",
            "Target:CONCLUSIONS , Pred:RESULTS , Prob:0.8832164406776428 , line_number:10 , Total_lines:11\n",
            "Text:\n",
            "the central corneal thickness , coefficient of variation , and standard deviation were maintained in both groups indicating that the function and morphology of endothelial cells was not affected despite an initial reduction in endothelial cell number in msics .\n",
            "\n",
            "-----------------------------------------------------------------------------\n",
            "\n",
            "Target:METHODS , Pred:RESULTS , Prob:0.883155107498169 , line_number:6 , Total_lines:7\n",
            "Text:\n",
            "no serious adverse events were recorded .\n",
            "\n",
            "-----------------------------------------------------------------------------\n",
            "\n",
            "Target:METHODS , Pred:RESULTS , Prob:0.8805454969406128 , line_number:10 , Total_lines:12\n",
            "Text:\n",
            "no pain was reported in the saffron group , whereas the indomethacin group experienced pain before @ hours ( p < @ ) .\n",
            "\n",
            "-----------------------------------------------------------------------------\n",
            "\n",
            "Target:CONCLUSIONS , Pred:RESULTS , Prob:0.8786219358444214 , line_number:7 , Total_lines:7\n",
            "Text:\n",
            "cetuximab activity in nsclc patient-derived xenograft models was demonstrated clearly only in tumors that expressed high levels of egfr , as defined by an ihc score of @ .\n",
            "\n",
            "-----------------------------------------------------------------------------\n",
            "\n",
            "Target:METHODS , Pred:RESULTS , Prob:0.8786042928695679 , line_number:7 , Total_lines:12\n",
            "Text:\n",
            "also at one month , the arthroscopic group performed better in terms of symptom improvement .\n",
            "\n",
            "-----------------------------------------------------------------------------\n",
            "\n",
            "Target:CONCLUSIONS , Pred:RESULTS , Prob:0.8784762024879456 , line_number:11 , Total_lines:13\n",
            "Text:\n",
            "the results of kt measurements and the lachman and pivot-shift tests were significantly better in the db group , whereas there was no difference in the anterior drawer test results .\n",
            "\n",
            "-----------------------------------------------------------------------------\n",
            "\n",
            "Target:OBJECTIVE , Pred:METHODS , Prob:0.87794029712677 , line_number:2 , Total_lines:10\n",
            "Text:\n",
            "we assessed mucosal cooling in two groups of patients undergoing the same surgical technique by a single surgeon , with one group receiving cold-water cooling and the other group as a control .\n",
            "\n",
            "-----------------------------------------------------------------------------\n",
            "\n",
            "Target:OBJECTIVE , Pred:BACKGROUND , Prob:0.8771229982376099 , line_number:0 , Total_lines:12\n",
            "Text:\n",
            "ureteroscopy is central to the surgical management of ureteral stones .\n",
            "\n",
            "-----------------------------------------------------------------------------\n",
            "\n",
            "Target:BACKGROUND , Pred:METHODS , Prob:0.8762676119804382 , line_number:4 , Total_lines:17\n",
            "Text:\n",
            "in this blended intervention face-to-face contacts with a physical therapist are partially replaced by a web-based exercise intervention .\n",
            "\n",
            "-----------------------------------------------------------------------------\n",
            "\n",
            "Target:BACKGROUND , Pred:METHODS , Prob:0.8761680126190186 , line_number:4 , Total_lines:15\n",
            "Text:\n",
            "the primary endpoint was change from baseline in @-hour weighted mean forced expiratory volume in @second after @weeks of treatment vs. placebo .\n",
            "\n",
            "-----------------------------------------------------------------------------\n",
            "\n",
            "Target:BACKGROUND , Pred:METHODS , Prob:0.8759031891822815 , line_number:4 , Total_lines:12\n",
            "Text:\n",
            "we recorded the number of dead ducklings , gross pathological changes in the liver , and changes in indices of oxidative stress and liver injury .\n",
            "\n",
            "-----------------------------------------------------------------------------\n",
            "\n",
            "Target:METHODS , Pred:OBJECTIVE , Prob:0.8759006261825562 , line_number:0 , Total_lines:7\n",
            "Text:\n",
            "to determine whether the insulin resistance that exists in metabolic syndrome ( mets ) patients is modulated by dietary fat composition .\n",
            "\n",
            "-----------------------------------------------------------------------------\n",
            "\n",
            "Target:RESULTS , Pred:METHODS , Prob:0.8757301568984985 , line_number:4 , Total_lines:14\n",
            "Text:\n",
            "intervention group patients received an assessment of bp and cardiovascular risk , education on hypertension , prescribing of antihypertensive medications , laboratory monitoring , and monthly follow-up visits for @ months ( all by their pharmacist ) .\n",
            "\n",
            "-----------------------------------------------------------------------------\n",
            "\n",
            "Target:METHODS , Pred:RESULTS , Prob:0.8753547072410583 , line_number:6 , Total_lines:8\n",
            "Text:\n",
            "resulst : graybiel ' s score and grading of severity had no difference between two groups through acclimatization training ( p > @ ) .\n",
            "\n",
            "-----------------------------------------------------------------------------\n",
            "\n",
            "Target:RESULTS , Pred:BACKGROUND , Prob:0.8750500082969666 , line_number:8 , Total_lines:15\n",
            "Text:\n",
            "non-diffuse-trickling '' ) .\n",
            "\n",
            "-----------------------------------------------------------------------------\n",
            "\n",
            "Target:OBJECTIVE , Pred:BACKGROUND , Prob:0.87483149766922 , line_number:0 , Total_lines:18\n",
            "Text:\n",
            "many people consume alcoholic beverages following a period of physical activity that results in fluid loss through sweating ( e.g. , after sports , work ) .\n",
            "\n",
            "-----------------------------------------------------------------------------\n",
            "\n",
            "Target:OBJECTIVE , Pred:BACKGROUND , Prob:0.8728856444358826 , line_number:0 , Total_lines:12\n",
            "Text:\n",
            "in industrialized countries , low back pain ( lbp ) is one of the leading causes for prolonged sick leave , early retirement , and high health care costs .\n",
            "\n",
            "-----------------------------------------------------------------------------\n",
            "\n",
            "Target:CONCLUSIONS , Pred:RESULTS , Prob:0.8724150061607361 , line_number:11 , Total_lines:18\n",
            "Text:\n",
            "comparable numbers of patients experienced bcg therapy-related side effects in each treatment group ( p = @ ) .\n",
            "\n",
            "-----------------------------------------------------------------------------\n",
            "\n",
            "Target:OBJECTIVE , Pred:RESULTS , Prob:0.8718876242637634 , line_number:12 , Total_lines:14\n",
            "Text:\n",
            "more sight-threatening retinopathies were found in the ophthalmologist-led model than in the ophthalmologist-based model ( @ % vs. @ % ) .\n",
            "\n",
            "-----------------------------------------------------------------------------\n",
            "\n",
            "Target:RESULTS , Pred:METHODS , Prob:0.8714920878410339 , line_number:4 , Total_lines:15\n",
            "Text:\n",
            "patients were randomized in a bayesian response-adaptive design to receive intravenous decitabine @ mg/m ( @ ) daily for @ days or decitabine plus oral valproic acid @ mg/kg daily for @ days .\n",
            "\n",
            "-----------------------------------------------------------------------------\n",
            "\n",
            "Target:CONCLUSIONS , Pred:RESULTS , Prob:0.8714158535003662 , line_number:8 , Total_lines:9\n",
            "Text:\n",
            "neurofeedback participants made more prompt and greater improvements in adhd symptoms , which were sustained at the @-month follow-up , than did ct participants or those in the control group .\n",
            "\n",
            "-----------------------------------------------------------------------------\n",
            "\n",
            "Target:METHODS , Pred:RESULTS , Prob:0.8706994652748108 , line_number:5 , Total_lines:13\n",
            "Text:\n",
            "mean age of participants was @ @ years and mean body mass index was @ @ kg/m ( @ ) .\n",
            "\n",
            "-----------------------------------------------------------------------------\n",
            "\n",
            "Target:RESULTS , Pred:METHODS , Prob:0.8685286045074463 , line_number:3 , Total_lines:13\n",
            "Text:\n",
            "data were collected prospectively for @ months beginning after completion of the first @ group clinic appointments ( @ months post randomization ) .\n",
            "\n",
            "-----------------------------------------------------------------------------\n",
            "\n",
            "Target:CONCLUSIONS , Pred:RESULTS , Prob:0.8677009344100952 , line_number:7 , Total_lines:9\n",
            "Text:\n",
            "pdt was associated with a significant decrease in bleeding scores ( p = @ ) as well as inflammatory exudation ( p = @ ) .\n",
            "\n",
            "-----------------------------------------------------------------------------\n",
            "\n",
            "Target:METHODS , Pred:RESULTS , Prob:0.867664098739624 , line_number:5 , Total_lines:12\n",
            "Text:\n",
            "a total of @ ma-dependent ( via dsm-iv ) participants ( la = @ ; hh = @ ) .\n",
            "\n",
            "-----------------------------------------------------------------------------\n",
            "\n",
            "Target:BACKGROUND , Pred:METHODS , Prob:0.867660641670227 , line_number:3 , Total_lines:13\n",
            "Text:\n",
            "the intervention was implemented in a cluster randomised controlled trial in @ primary healthcare services in australia .\n",
            "\n",
            "-----------------------------------------------------------------------------\n",
            "\n",
            "Target:OBJECTIVE , Pred:BACKGROUND , Prob:0.8675042390823364 , line_number:0 , Total_lines:15\n",
            "Text:\n",
            "unhealthy alcohol use is a leading contributor to the global burden of disease , particularly among young people .\n",
            "\n",
            "-----------------------------------------------------------------------------\n",
            "\n",
            "Target:BACKGROUND , Pred:METHODS , Prob:0.8672181367874146 , line_number:5 , Total_lines:16\n",
            "Text:\n",
            "we will examine patients with preexisting mass effects and midline shift undergoing elective supratentorial brain tumor surgery .\n",
            "\n",
            "-----------------------------------------------------------------------------\n",
            "\n",
            "Target:METHODS , Pred:RESULTS , Prob:0.8666529059410095 , line_number:6 , Total_lines:16\n",
            "Text:\n",
            "ascending aortic aneurysms , root aneurysms , or both were replaced in @ of @ patients .\n",
            "\n",
            "-----------------------------------------------------------------------------\n",
            "\n",
            "Target:BACKGROUND , Pred:OBJECTIVE , Prob:0.8663763999938965 , line_number:0 , Total_lines:10\n",
            "Text:\n",
            "to validate the association between accommodation and visual asthenopia by measuring objective accommodative amplitude with the optical quality analysis system ( oqas , visiometrics , terrassa , spain ) , and to investigate associations among accommodation , ocular surface instability , and visual asthenopia while viewing @d displays .\n",
            "\n",
            "-----------------------------------------------------------------------------\n",
            "\n",
            "Target:METHODS , Pred:RESULTS , Prob:0.8663448691368103 , line_number:7 , Total_lines:14\n",
            "Text:\n",
            "in total , @ patients were recruited .\n",
            "\n",
            "-----------------------------------------------------------------------------\n",
            "\n",
            "Target:RESULTS , Pred:METHODS , Prob:0.866083025932312 , line_number:5 , Total_lines:10\n",
            "Text:\n",
            "cytokine levels were determined before starting hdc ( prior to first dose of se ) , @ and @days after hsct .\n",
            "\n",
            "-----------------------------------------------------------------------------\n",
            "\n",
            "Target:CONCLUSIONS , Pred:BACKGROUND , Prob:0.8640657067298889 , line_number:1 , Total_lines:18\n",
            "Text:\n",
            "in recent years , a number of commercial devices using low-level laser therapy have been promoted , but there have been little peer-reviewed data on their efficacy .\n",
            "\n",
            "-----------------------------------------------------------------------------\n",
            "\n",
            "Target:METHODS , Pred:RESULTS , Prob:0.864051103591919 , line_number:7 , Total_lines:16\n",
            "Text:\n",
            "overweight and obesity occurred in @ % and @ % , respectively .\n",
            "\n",
            "-----------------------------------------------------------------------------\n",
            "\n",
            "Target:CONCLUSIONS , Pred:RESULTS , Prob:0.8637372255325317 , line_number:8 , Total_lines:10\n",
            "Text:\n",
            "the results demonstrated a low level of pre-se in both groups .\n",
            "\n",
            "-----------------------------------------------------------------------------\n",
            "\n",
            "Target:CONCLUSIONS , Pred:RESULTS , Prob:0.8622565865516663 , line_number:7 , Total_lines:8\n",
            "Text:\n",
            "one-quarter of all patients with unhealthy alcohol use , and a majority of those with the highest alcohol screening scores , had clinically recognized aud/sud .\n",
            "\n",
            "-----------------------------------------------------------------------------\n",
            "\n",
            "Target:CONCLUSIONS , Pred:RESULTS , Prob:0.8619497418403625 , line_number:6 , Total_lines:11\n",
            "Text:\n",
            "rifampicin significantly increased the mean area under the plasma concentration-time curve ( auc ) of ( r ) - and ( s ) - fexofenadine ( @-fold and @-fold , respectively ) and decreased the renal clearance of ( r ) - and ( s ) - fexofenadine ( @-fold and @-fold , respectively ) , causing marked differences in the mean amounts of these enantiomers excreted into the urine in the rifampicin phase ( p < @ ) .\n",
            "\n",
            "-----------------------------------------------------------------------------\n",
            "\n",
            "Target:BACKGROUND , Pred:METHODS , Prob:0.8618324398994446 , line_number:2 , Total_lines:10\n",
            "Text:\n",
            "and in addition to self-reports on pain , range of motion ( rom ) and the associated rom pain were assessed before and after the first massage session and pre-post the last session one month later .\n",
            "\n",
            "-----------------------------------------------------------------------------\n",
            "\n",
            "Target:RESULTS , Pred:METHODS , Prob:0.8617749810218811 , line_number:5 , Total_lines:13\n",
            "Text:\n",
            "additional lung-function , symptomatic and health-related quality of life endpoints were also assessed .\n",
            "\n",
            "-----------------------------------------------------------------------------\n",
            "\n",
            "Target:OBJECTIVE , Pred:METHODS , Prob:0.8616301417350769 , line_number:2 , Total_lines:11\n",
            "Text:\n",
            "secondary endpoints were changes of pain frequency and a secondary symptom score ( sss ) .\n",
            "\n",
            "-----------------------------------------------------------------------------\n",
            "\n",
            "Target:OBJECTIVE , Pred:METHODS , Prob:0.8611505627632141 , line_number:2 , Total_lines:10\n",
            "Text:\n",
            "participants were randomly allocated to a treatment group ( n = @ ) which was subjected to continuous peritoneal wash for @h via two intraperitoneal drains , and a control group ( n = @ ) .\n",
            "\n",
            "-----------------------------------------------------------------------------\n",
            "\n",
            "Target:RESULTS , Pred:METHODS , Prob:0.861146867275238 , line_number:3 , Total_lines:13\n",
            "Text:\n",
            "a combination prevention package including home-based voluntary testing and counseling , and art for hiv positive individuals , will be delivered in arms a and b , with art offered universally in arm a and according to national guidelines in arm b. arm c will be the control arm .\n",
            "\n",
            "-----------------------------------------------------------------------------\n",
            "\n",
            "Target:CONCLUSIONS , Pred:RESULTS , Prob:0.8611342310905457 , line_number:8 , Total_lines:14\n",
            "Text:\n",
            "pv and pvr were comparable between groups .\n",
            "\n",
            "-----------------------------------------------------------------------------\n",
            "\n",
            "Target:RESULTS , Pred:METHODS , Prob:0.8603349328041077 , line_number:3 , Total_lines:12\n",
            "Text:\n",
            "the primary efficacy end point was primary patency , defined as freedom from restenosis or clinically driven target lesion revascularization at @ months .\n",
            "\n",
            "-----------------------------------------------------------------------------\n",
            "\n",
            "Target:OBJECTIVE , Pred:BACKGROUND , Prob:0.8602532148361206 , line_number:1 , Total_lines:16\n",
            "Text:\n",
            "despite this , no randomized clinical trials have studied evidence-based treatments for ovc in low-resource settings .\n",
            "\n",
            "-----------------------------------------------------------------------------\n",
            "\n",
            "Target:CONCLUSIONS , Pred:RESULTS , Prob:0.8601618409156799 , line_number:10 , Total_lines:12\n",
            "Text:\n",
            "no significant healing or surgical outcome differences were found between biodegradable and nondegradable packing .\n",
            "\n",
            "-----------------------------------------------------------------------------\n",
            "\n",
            "Target:METHODS , Pred:RESULTS , Prob:0.8598844408988953 , line_number:6 , Total_lines:19\n",
            "Text:\n",
            "of those in the randomized cohort , @ of @ ( @ % ) provided @-year data and in the observational group @ of @ ( @ % ) .\n",
            "\n",
            "-----------------------------------------------------------------------------\n",
            "\n",
            "Target:RESULTS , Pred:METHODS , Prob:0.8598783016204834 , line_number:2 , Total_lines:11\n",
            "Text:\n",
            "adults and children clinically diagnosed with uncomplicated enteric fever were enrolled in the study to receive gatifloxacin ( @ mg/kg/day ) in a single dose or ofloxacin ( @ mg/kg/day ) in two divided doses for @ days .\n",
            "\n",
            "-----------------------------------------------------------------------------\n",
            "\n",
            "Target:RESULTS , Pred:METHODS , Prob:0.8596742153167725 , line_number:3 , Total_lines:12\n",
            "Text:\n",
            "control group was allocated to usual-care .\n",
            "\n",
            "-----------------------------------------------------------------------------\n",
            "\n",
            "Target:METHODS , Pred:RESULTS , Prob:0.8581582307815552 , line_number:8 , Total_lines:17\n",
            "Text:\n",
            "mean distraction rates were similar between groups ( @ mm/day in the treatment group versus @ mm/day in the control group ; p = @ ) .\n",
            "\n",
            "-----------------------------------------------------------------------------\n",
            "\n",
            "Target:OBJECTIVE , Pred:METHODS , Prob:0.8577436208724976 , line_number:4 , Total_lines:27\n",
            "Text:\n",
            "second , we collected patient-reported outcomes for balance confidence and falls control .\n",
            "\n",
            "-----------------------------------------------------------------------------\n",
            "\n",
            "Target:METHODS , Pred:RESULTS , Prob:0.8568931818008423 , line_number:9 , Total_lines:12\n",
            "Text:\n",
            "in the saffron group , there was no decline in maximum isometric and isotonic forces after eccentric exercise , but a significant decline in the isometric force was observed in the control group ( p < @ ) .\n",
            "\n",
            "-----------------------------------------------------------------------------\n",
            "\n",
            "Target:METHODS , Pred:RESULTS , Prob:0.8568604588508606 , line_number:8 , Total_lines:13\n",
            "Text:\n",
            "sixty patients completed the study .\n",
            "\n",
            "-----------------------------------------------------------------------------\n",
            "\n",
            "Target:CONCLUSIONS , Pred:RESULTS , Prob:0.8567134141921997 , line_number:11 , Total_lines:11\n",
            "Text:\n",
            "also , heart failure hospitalization was more prevalent in the rva pacing group .\n",
            "\n",
            "-----------------------------------------------------------------------------\n",
            "\n",
            "Target:OBJECTIVE , Pred:METHODS , Prob:0.8565383553504944 , line_number:2 , Total_lines:17\n",
            "Text:\n",
            "in patients undergoing bilateral tibial lengthening , we compared those receiving an osteotomy site injection of autologous bone marrow aspirate concentrate ( bmac ) plus platelet-rich plasma ( prp ) with those not receiving such an injection in terms of external fixator index ( time in external fixation divided by amount of lengthening ) , full weightbearing index ( time until a patient was permitted to do full weightbearing divided by amount of lengthening ) , four cortical healing indexes ( time until each cortical union divided by amount of lengthening ) , and callus shape and type .\n",
            "\n",
            "-----------------------------------------------------------------------------\n",
            "\n",
            "Target:CONCLUSIONS , Pred:RESULTS , Prob:0.8564186096191406 , line_number:9 , Total_lines:9\n",
            "Text:\n",
            "the mean number of intravitreal injections was higher in the ivr group than in the ivr+ivta group .\n",
            "\n",
            "-----------------------------------------------------------------------------\n",
            "\n"
          ]
        }
      ]
    },
    {
      "cell_type": "markdown",
      "source": [
        "## Making example perdictions on custom examples\n",
        "\n",
        "Since the abstract we are going to use aren't the same format that the model is trained on, so we need to preprocess the data.\n",
        "\n",
        "Therefore for each abstract we need to :\n",
        "1. Split it into sentences (lines).\n",
        "2. Split it into characters.\n",
        "3. Find the number of each line.\n",
        "4. Find the total number of lines."
      ],
      "metadata": {
        "id": "7V6ozVZmX4QC"
      }
    },
    {
      "cell_type": "code",
      "source": [
        "# Download the abstract\n",
        "import json \n",
        "!wget https://raw.githubusercontent.com/mrdbourke/tensorflow-deep-learning/main/extras/skimlit_example_abstracts.json\n",
        "\n",
        "with open(\"skimlit_example_abstracts.json\", \"r\") as f:\n",
        "  example_abstracts = json.load(f)\n",
        "\n",
        "example_abstracts[0]"
      ],
      "metadata": {
        "colab": {
          "base_uri": "https://localhost:8080/"
        },
        "id": "ZCv2O0tFYmWQ",
        "outputId": "3f71d20f-f3be-4674-ed7d-307a44124db3"
      },
      "execution_count": null,
      "outputs": [
        {
          "output_type": "stream",
          "name": "stdout",
          "text": [
            "--2022-07-01 06:43:14--  https://raw.githubusercontent.com/mrdbourke/tensorflow-deep-learning/main/extras/skimlit_example_abstracts.json\n",
            "Resolving raw.githubusercontent.com (raw.githubusercontent.com)... 185.199.111.133, 185.199.109.133, 185.199.110.133, ...\n",
            "Connecting to raw.githubusercontent.com (raw.githubusercontent.com)|185.199.111.133|:443... connected.\n",
            "HTTP request sent, awaiting response... 200 OK\n",
            "Length: 6737 (6.6K) [text/plain]\n",
            "Saving to: ‘skimlit_example_abstracts.json.2’\n",
            "\n",
            "\r          skimlit_e   0%[                    ]       0  --.-KB/s               \rskimlit_example_abs 100%[===================>]   6.58K  --.-KB/s    in 0s      \n",
            "\n",
            "2022-07-01 06:43:14 (72.8 MB/s) - ‘skimlit_example_abstracts.json.2’ saved [6737/6737]\n",
            "\n"
          ]
        },
        {
          "output_type": "execute_result",
          "data": {
            "text/plain": [
              "{'abstract': 'This RCT examined the efficacy of a manualized social intervention for children with HFASDs. Participants were randomly assigned to treatment or wait-list conditions. Treatment included instruction and therapeutic activities targeting social skills, face-emotion recognition, interest expansion, and interpretation of non-literal language. A response-cost program was applied to reduce problem behaviors and foster skills acquisition. Significant treatment effects were found for five of seven primary outcome measures (parent ratings and direct child measures). Secondary measures based on staff ratings (treatment group only) corroborated gains reported by parents. High levels of parent, child and staff satisfaction were reported, along with high levels of treatment fidelity. Standardized effect size estimates were primarily in the medium and large ranges and favored the treatment group.',\n",
              " 'details': 'RCT of a manualized social treatment for high-functioning autism spectrum disorders',\n",
              " 'source': 'https://pubmed.ncbi.nlm.nih.gov/20232240/'}"
            ]
          },
          "metadata": {},
          "execution_count": 87
        }
      ]
    },
    {
      "cell_type": "code",
      "source": [
        "example_abstracts[1]"
      ],
      "metadata": {
        "colab": {
          "base_uri": "https://localhost:8080/"
        },
        "id": "MLYTqoVAf1HU",
        "outputId": "97b33e4d-0d76-413a-fd8e-6e3993af5926"
      },
      "execution_count": null,
      "outputs": [
        {
          "output_type": "execute_result",
          "data": {
            "text/plain": [
              "{'abstract': \"Postpartum depression (PPD) is the most prevalent mood disorder associated with childbirth. No single cause of PPD has been identified, however the increased risk of nutritional deficiencies incurred through the high nutritional requirements of pregnancy may play a role in the pathology of depressive symptoms. Three nutritional interventions have drawn particular interest as possible non-invasive and cost-effective prevention and/or treatment strategies for PPD; omega-3 (n-3) long chain polyunsaturated fatty acids (LCPUFA), vitamin D and overall diet. We searched for meta-analyses of randomised controlled trials (RCT's) of nutritional interventions during the perinatal period with PPD as an outcome, and checked for any trials published subsequently to the meta-analyses. Fish oil: Eleven RCT's of prenatal fish oil supplementation RCT's show null and positive effects on PPD symptoms. Vitamin D: no relevant RCT's were identified, however seven observational studies of maternal vitamin D levels with PPD outcomes showed inconsistent associations. Diet: Two Australian RCT's with dietary advice interventions in pregnancy had a positive and null result on PPD. With the exception of fish oil, few RCT's with nutritional interventions during pregnancy assess PPD. Further research is needed to determine whether nutritional intervention strategies during pregnancy can protect against symptoms of PPD. Given the prevalence of PPD and ease of administering PPD measures, we recommend future prenatal nutritional RCT's include PPD as an outcome.\",\n",
              " 'details': 'Formatting removed (can be used to compare model to actual example)',\n",
              " 'source': 'https://pubmed.ncbi.nlm.nih.gov/28012571/'}"
            ]
          },
          "metadata": {},
          "execution_count": 95
        }
      ]
    },
    {
      "cell_type": "code",
      "source": [
        "# See the example\n",
        "abstracts = pd.DataFrame(example_abstracts)\n",
        "abstracts"
      ],
      "metadata": {
        "colab": {
          "base_uri": "https://localhost:8080/",
          "height": 175
        },
        "id": "aR5KqZ_YZIl0",
        "outputId": "5eae57fe-a84b-4419-a00c-d8c2e926364e"
      },
      "execution_count": null,
      "outputs": [
        {
          "output_type": "execute_result",
          "data": {
            "text/plain": [
              "                                            abstract  \\\n",
              "0  This RCT examined the efficacy of a manualized...   \n",
              "1  Postpartum depression (PPD) is the most preval...   \n",
              "2  Mental illness, including depression, anxiety ...   \n",
              "3  Hepatitis C virus (HCV) and alcoholic liver di...   \n",
              "\n",
              "                                      source  \\\n",
              "0  https://pubmed.ncbi.nlm.nih.gov/20232240/   \n",
              "1  https://pubmed.ncbi.nlm.nih.gov/28012571/   \n",
              "2  https://pubmed.ncbi.nlm.nih.gov/28942748/   \n",
              "3  https://pubmed.ncbi.nlm.nih.gov/22244707/   \n",
              "\n",
              "                                             details  \n",
              "0  RCT of a manualized social treatment for high-...  \n",
              "1  Formatting removed (can be used to compare mod...  \n",
              "2               Effect of nutrition on mental health  \n",
              "3  Baclofen promotes alcohol abstinence in alcoho...  "
            ],
            "text/html": [
              "\n",
              "  <div id=\"df-608feac3-bce7-4ebe-82a4-819433ce2d2e\">\n",
              "    <div class=\"colab-df-container\">\n",
              "      <div>\n",
              "<style scoped>\n",
              "    .dataframe tbody tr th:only-of-type {\n",
              "        vertical-align: middle;\n",
              "    }\n",
              "\n",
              "    .dataframe tbody tr th {\n",
              "        vertical-align: top;\n",
              "    }\n",
              "\n",
              "    .dataframe thead th {\n",
              "        text-align: right;\n",
              "    }\n",
              "</style>\n",
              "<table border=\"1\" class=\"dataframe\">\n",
              "  <thead>\n",
              "    <tr style=\"text-align: right;\">\n",
              "      <th></th>\n",
              "      <th>abstract</th>\n",
              "      <th>source</th>\n",
              "      <th>details</th>\n",
              "    </tr>\n",
              "  </thead>\n",
              "  <tbody>\n",
              "    <tr>\n",
              "      <th>0</th>\n",
              "      <td>This RCT examined the efficacy of a manualized...</td>\n",
              "      <td>https://pubmed.ncbi.nlm.nih.gov/20232240/</td>\n",
              "      <td>RCT of a manualized social treatment for high-...</td>\n",
              "    </tr>\n",
              "    <tr>\n",
              "      <th>1</th>\n",
              "      <td>Postpartum depression (PPD) is the most preval...</td>\n",
              "      <td>https://pubmed.ncbi.nlm.nih.gov/28012571/</td>\n",
              "      <td>Formatting removed (can be used to compare mod...</td>\n",
              "    </tr>\n",
              "    <tr>\n",
              "      <th>2</th>\n",
              "      <td>Mental illness, including depression, anxiety ...</td>\n",
              "      <td>https://pubmed.ncbi.nlm.nih.gov/28942748/</td>\n",
              "      <td>Effect of nutrition on mental health</td>\n",
              "    </tr>\n",
              "    <tr>\n",
              "      <th>3</th>\n",
              "      <td>Hepatitis C virus (HCV) and alcoholic liver di...</td>\n",
              "      <td>https://pubmed.ncbi.nlm.nih.gov/22244707/</td>\n",
              "      <td>Baclofen promotes alcohol abstinence in alcoho...</td>\n",
              "    </tr>\n",
              "  </tbody>\n",
              "</table>\n",
              "</div>\n",
              "      <button class=\"colab-df-convert\" onclick=\"convertToInteractive('df-608feac3-bce7-4ebe-82a4-819433ce2d2e')\"\n",
              "              title=\"Convert this dataframe to an interactive table.\"\n",
              "              style=\"display:none;\">\n",
              "        \n",
              "  <svg xmlns=\"http://www.w3.org/2000/svg\" height=\"24px\"viewBox=\"0 0 24 24\"\n",
              "       width=\"24px\">\n",
              "    <path d=\"M0 0h24v24H0V0z\" fill=\"none\"/>\n",
              "    <path d=\"M18.56 5.44l.94 2.06.94-2.06 2.06-.94-2.06-.94-.94-2.06-.94 2.06-2.06.94zm-11 1L8.5 8.5l.94-2.06 2.06-.94-2.06-.94L8.5 2.5l-.94 2.06-2.06.94zm10 10l.94 2.06.94-2.06 2.06-.94-2.06-.94-.94-2.06-.94 2.06-2.06.94z\"/><path d=\"M17.41 7.96l-1.37-1.37c-.4-.4-.92-.59-1.43-.59-.52 0-1.04.2-1.43.59L10.3 9.45l-7.72 7.72c-.78.78-.78 2.05 0 2.83L4 21.41c.39.39.9.59 1.41.59.51 0 1.02-.2 1.41-.59l7.78-7.78 2.81-2.81c.8-.78.8-2.07 0-2.86zM5.41 20L4 18.59l7.72-7.72 1.47 1.35L5.41 20z\"/>\n",
              "  </svg>\n",
              "      </button>\n",
              "      \n",
              "  <style>\n",
              "    .colab-df-container {\n",
              "      display:flex;\n",
              "      flex-wrap:wrap;\n",
              "      gap: 12px;\n",
              "    }\n",
              "\n",
              "    .colab-df-convert {\n",
              "      background-color: #E8F0FE;\n",
              "      border: none;\n",
              "      border-radius: 50%;\n",
              "      cursor: pointer;\n",
              "      display: none;\n",
              "      fill: #1967D2;\n",
              "      height: 32px;\n",
              "      padding: 0 0 0 0;\n",
              "      width: 32px;\n",
              "    }\n",
              "\n",
              "    .colab-df-convert:hover {\n",
              "      background-color: #E2EBFA;\n",
              "      box-shadow: 0px 1px 2px rgba(60, 64, 67, 0.3), 0px 1px 3px 1px rgba(60, 64, 67, 0.15);\n",
              "      fill: #174EA6;\n",
              "    }\n",
              "\n",
              "    [theme=dark] .colab-df-convert {\n",
              "      background-color: #3B4455;\n",
              "      fill: #D2E3FC;\n",
              "    }\n",
              "\n",
              "    [theme=dark] .colab-df-convert:hover {\n",
              "      background-color: #434B5C;\n",
              "      box-shadow: 0px 1px 3px 1px rgba(0, 0, 0, 0.15);\n",
              "      filter: drop-shadow(0px 1px 2px rgba(0, 0, 0, 0.3));\n",
              "      fill: #FFFFFF;\n",
              "    }\n",
              "  </style>\n",
              "\n",
              "      <script>\n",
              "        const buttonEl =\n",
              "          document.querySelector('#df-608feac3-bce7-4ebe-82a4-819433ce2d2e button.colab-df-convert');\n",
              "        buttonEl.style.display =\n",
              "          google.colab.kernel.accessAllowed ? 'block' : 'none';\n",
              "\n",
              "        async function convertToInteractive(key) {\n",
              "          const element = document.querySelector('#df-608feac3-bce7-4ebe-82a4-819433ce2d2e');\n",
              "          const dataTable =\n",
              "            await google.colab.kernel.invokeFunction('convertToInteractive',\n",
              "                                                     [key], {});\n",
              "          if (!dataTable) return;\n",
              "\n",
              "          const docLinkHtml = 'Like what you see? Visit the ' +\n",
              "            '<a target=\"_blank\" href=https://colab.research.google.com/notebooks/data_table.ipynb>data table notebook</a>'\n",
              "            + ' to learn more about interactive tables.';\n",
              "          element.innerHTML = '';\n",
              "          dataTable['output_type'] = 'display_data';\n",
              "          await google.colab.output.renderOutput(dataTable, element);\n",
              "          const docLink = document.createElement('div');\n",
              "          docLink.innerHTML = docLinkHtml;\n",
              "          element.appendChild(docLink);\n",
              "        }\n",
              "      </script>\n",
              "    </div>\n",
              "  </div>\n",
              "  "
            ]
          },
          "metadata": {},
          "execution_count": 56
        }
      ]
    },
    {
      "cell_type": "code",
      "source": [
        "# Create sentencizer - Source: https://spacy.io/usage/linguistic-features#sbd \n",
        "def create_sentencizer(name,index):\n",
        "  \"\"\" \n",
        "  Create sentencizer \n",
        "  \"\"\"\n",
        "  from spacy.lang.en import English\n",
        "  nlp = English() # setup English sentence parser\n",
        "  sentencizer = nlp.create_pipe(\"sentencizer\") # create sentence splitting pipeline object\n",
        "  nlp.add_pipe('sentencizer') # add sentence splitting pipeline object to sentence parser\n",
        "  doc = nlp(name[index]) # create \"doc\" of parsed sequences, change index for a different abstract\n",
        "  abstract_lines = [str(sent) for sent in list(doc.sents)] # return detected sentences from doc in string type (not spaCy token type)\n",
        "  return abstract_lines"
      ],
      "metadata": {
        "id": "7pGqy_lNZVMQ"
      },
      "execution_count": null,
      "outputs": []
    },
    {
      "cell_type": "code",
      "source": [
        "list(example_abstracts[1].keys())[0]"
      ],
      "metadata": {
        "colab": {
          "base_uri": "https://localhost:8080/",
          "height": 36
        },
        "id": "31WhU2isZoBN",
        "outputId": "7b829a93-ce03-461a-ea6f-d6621a3d6593"
      },
      "execution_count": null,
      "outputs": [
        {
          "output_type": "execute_result",
          "data": {
            "text/plain": [
              "'abstract'"
            ],
            "application/vnd.google.colaboratory.intrinsic+json": {
              "type": "string"
            }
          },
          "metadata": {},
          "execution_count": 97
        }
      ]
    },
    {
      "cell_type": "code",
      "source": [
        "abstract_lines = create_sentencizer(example_abstracts[0] , list(example_abstracts[0].keys())[0])"
      ],
      "metadata": {
        "id": "vXhKT5aIawDo"
      },
      "execution_count": null,
      "outputs": []
    },
    {
      "cell_type": "code",
      "source": [
        "abstract_lines"
      ],
      "metadata": {
        "colab": {
          "base_uri": "https://localhost:8080/"
        },
        "id": "kiBsBobCb27z",
        "outputId": "990709e0-0010-4919-f68c-9db54a58537a"
      },
      "execution_count": null,
      "outputs": [
        {
          "output_type": "execute_result",
          "data": {
            "text/plain": [
              "['This RCT examined the efficacy of a manualized social intervention for children with HFASDs.',\n",
              " 'Participants were randomly assigned to treatment or wait-list conditions.',\n",
              " 'Treatment included instruction and therapeutic activities targeting social skills, face-emotion recognition, interest expansion, and interpretation of non-literal language.',\n",
              " 'A response-cost program was applied to reduce problem behaviors and foster skills acquisition.',\n",
              " 'Significant treatment effects were found for five of seven primary outcome measures (parent ratings and direct child measures).',\n",
              " 'Secondary measures based on staff ratings (treatment group only) corroborated gains reported by parents.',\n",
              " 'High levels of parent, child and staff satisfaction were reported, along with high levels of treatment fidelity.',\n",
              " 'Standardized effect size estimates were primarily in the medium and large ranges and favored the treatment group.']"
            ]
          },
          "metadata": {},
          "execution_count": 101
        }
      ]
    },
    {
      "cell_type": "code",
      "source": [
        "# Get total number of lines\n",
        "total_lines = len(abstract_lines)\n",
        "\n",
        "# Preprocessing it like our training data\n",
        "sample_lines=[]\n",
        "\n",
        "for i , line in enumerate(abstract_lines):\n",
        "  sample_dict = {}\n",
        "  sample_dict[\"text\"] = str(line)\n",
        "  sample_dict[\"line_number\"] = i\n",
        "  sample_dict[\"total_lines\"] = total_lines - 1\n",
        "  sample_lines.append(sample_dict)\n",
        "\n",
        "sample_lines"
      ],
      "metadata": {
        "colab": {
          "base_uri": "https://localhost:8080/"
        },
        "id": "VUkial-Bb9fR",
        "outputId": "ae75e8b0-1638-4865-c542-05c6536cc3d6"
      },
      "execution_count": null,
      "outputs": [
        {
          "output_type": "execute_result",
          "data": {
            "text/plain": [
              "[{'line_number': 0,\n",
              "  'text': 'This RCT examined the efficacy of a manualized social intervention for children with HFASDs.',\n",
              "  'total_lines': 7},\n",
              " {'line_number': 1,\n",
              "  'text': 'Participants were randomly assigned to treatment or wait-list conditions.',\n",
              "  'total_lines': 7},\n",
              " {'line_number': 2,\n",
              "  'text': 'Treatment included instruction and therapeutic activities targeting social skills, face-emotion recognition, interest expansion, and interpretation of non-literal language.',\n",
              "  'total_lines': 7},\n",
              " {'line_number': 3,\n",
              "  'text': 'A response-cost program was applied to reduce problem behaviors and foster skills acquisition.',\n",
              "  'total_lines': 7},\n",
              " {'line_number': 4,\n",
              "  'text': 'Significant treatment effects were found for five of seven primary outcome measures (parent ratings and direct child measures).',\n",
              "  'total_lines': 7},\n",
              " {'line_number': 5,\n",
              "  'text': 'Secondary measures based on staff ratings (treatment group only) corroborated gains reported by parents.',\n",
              "  'total_lines': 7},\n",
              " {'line_number': 6,\n",
              "  'text': 'High levels of parent, child and staff satisfaction were reported, along with high levels of treatment fidelity.',\n",
              "  'total_lines': 7},\n",
              " {'line_number': 7,\n",
              "  'text': 'Standardized effect size estimates were primarily in the medium and large ranges and favored the treatment group.',\n",
              "  'total_lines': 7}]"
            ]
          },
          "metadata": {},
          "execution_count": 75
        }
      ]
    },
    {
      "cell_type": "code",
      "source": [
        "# One hot encode the line numbers\n",
        "test_line_numbers = [line[\"line_number\"] for line in sample_lines]\n",
        "\n",
        "test_line_number_one_hot = tf.one_hot(test_line_numbers , depth = 15)"
      ],
      "metadata": {
        "id": "MPC3DSHEcsK-"
      },
      "execution_count": null,
      "outputs": []
    },
    {
      "cell_type": "code",
      "source": [
        "# One hot total lines\n",
        "test_total_lines = [line[\"total_lines\"] for line in sample_lines]\n",
        "test_total_lines_one_hot = tf.one_hot(test_total_lines , depth = 20)"
      ],
      "metadata": {
        "id": "rVz-te47dMM0"
      },
      "execution_count": null,
      "outputs": []
    },
    {
      "cell_type": "code",
      "source": [
        "# Splir abstract lines into character\n",
        "test_chars = [split_chars(sentence) for sentence in abstract_lines]\n",
        "test_chars"
      ],
      "metadata": {
        "colab": {
          "base_uri": "https://localhost:8080/"
        },
        "id": "dEnFfznxdvW9",
        "outputId": "4651c11c-7045-4592-fdbe-12d3f95d3087"
      },
      "execution_count": null,
      "outputs": [
        {
          "output_type": "execute_result",
          "data": {
            "text/plain": [
              "['T h i s   R C T   e x a m i n e d   t h e   e f f i c a c y   o f   a   m a n u a l i z e d   s o c i a l   i n t e r v e n t i o n   f o r   c h i l d r e n   w i t h   H F A S D s .',\n",
              " 'P a r t i c i p a n t s   w e r e   r a n d o m l y   a s s i g n e d   t o   t r e a t m e n t   o r   w a i t - l i s t   c o n d i t i o n s .',\n",
              " 'T r e a t m e n t   i n c l u d e d   i n s t r u c t i o n   a n d   t h e r a p e u t i c   a c t i v i t i e s   t a r g e t i n g   s o c i a l   s k i l l s ,   f a c e - e m o t i o n   r e c o g n i t i o n ,   i n t e r e s t   e x p a n s i o n ,   a n d   i n t e r p r e t a t i o n   o f   n o n - l i t e r a l   l a n g u a g e .',\n",
              " 'A   r e s p o n s e - c o s t   p r o g r a m   w a s   a p p l i e d   t o   r e d u c e   p r o b l e m   b e h a v i o r s   a n d   f o s t e r   s k i l l s   a c q u i s i t i o n .',\n",
              " 'S i g n i f i c a n t   t r e a t m e n t   e f f e c t s   w e r e   f o u n d   f o r   f i v e   o f   s e v e n   p r i m a r y   o u t c o m e   m e a s u r e s   ( p a r e n t   r a t i n g s   a n d   d i r e c t   c h i l d   m e a s u r e s ) .',\n",
              " 'S e c o n d a r y   m e a s u r e s   b a s e d   o n   s t a f f   r a t i n g s   ( t r e a t m e n t   g r o u p   o n l y )   c o r r o b o r a t e d   g a i n s   r e p o r t e d   b y   p a r e n t s .',\n",
              " 'H i g h   l e v e l s   o f   p a r e n t ,   c h i l d   a n d   s t a f f   s a t i s f a c t i o n   w e r e   r e p o r t e d ,   a l o n g   w i t h   h i g h   l e v e l s   o f   t r e a t m e n t   f i d e l i t y .',\n",
              " 'S t a n d a r d i z e d   e f f e c t   s i z e   e s t i m a t e s   w e r e   p r i m a r i l y   i n   t h e   m e d i u m   a n d   l a r g e   r a n g e s   a n d   f a v o r e d   t h e   t r e a t m e n t   g r o u p .']"
            ]
          },
          "metadata": {},
          "execution_count": 80
        }
      ]
    },
    {
      "cell_type": "code",
      "source": [
        "# Make predictions on sample abstract features\n",
        "%%time\n",
        "test_abstract_pred_probs = model.predict(x=(test_line_number_one_hot,\n",
        "                                                   test_total_lines_one_hot,\n",
        "                                                   tf.constant(abstract_lines),\n",
        "                                                   tf.constant(test_chars)))\n",
        "test_abstract_pred_probs"
      ],
      "metadata": {
        "colab": {
          "base_uri": "https://localhost:8080/"
        },
        "id": "bEJpfGfnd8uE",
        "outputId": "895fc94e-3d7c-4320-97cb-1a8ece1074e9"
      },
      "execution_count": null,
      "outputs": [
        {
          "output_type": "stream",
          "name": "stdout",
          "text": [
            "CPU times: user 2.57 s, sys: 38.4 ms, total: 2.61 s\n",
            "Wall time: 2.6 s\n"
          ]
        }
      ]
    },
    {
      "cell_type": "code",
      "source": [
        "# Turn prediction probabilities into prediction classes\n",
        "test_abstract_preds = tf.argmax(test_abstract_pred_probs, axis=1)\n",
        "test_abstract_preds"
      ],
      "metadata": {
        "colab": {
          "base_uri": "https://localhost:8080/"
        },
        "id": "AMWOeLjAeCGa",
        "outputId": "1dfea442-45a2-49e9-eb0c-0af6d14f0152"
      },
      "execution_count": null,
      "outputs": [
        {
          "output_type": "execute_result",
          "data": {
            "text/plain": [
              "<tf.Tensor: shape=(8,), dtype=int64, numpy=array([0, 2, 2, 1, 4, 4, 4, 4])>"
            ]
          },
          "metadata": {},
          "execution_count": 84
        }
      ]
    },
    {
      "cell_type": "code",
      "source": [
        "# Turn prediction class integers into string class names\n",
        "test_abstract_pred_classes = [label_encoder.classes_[i] for i in test_abstract_preds]\n",
        "test_abstract_pred_classes"
      ],
      "metadata": {
        "colab": {
          "base_uri": "https://localhost:8080/"
        },
        "id": "SfYGSOGLewBj",
        "outputId": "5f44ab2f-ece7-49d1-c1cb-a19db7d71438"
      },
      "execution_count": null,
      "outputs": [
        {
          "output_type": "execute_result",
          "data": {
            "text/plain": [
              "['BACKGROUND',\n",
              " 'METHODS',\n",
              " 'METHODS',\n",
              " 'CONCLUSIONS',\n",
              " 'RESULTS',\n",
              " 'RESULTS',\n",
              " 'RESULTS',\n",
              " 'RESULTS']"
            ]
          },
          "metadata": {},
          "execution_count": 85
        }
      ]
    },
    {
      "cell_type": "code",
      "source": [
        "# Visualize abstract lines and predicted sequence labels\n",
        "for i, line in enumerate(abstract_lines):\n",
        "  print(f\"{test_abstract_pred_classes[i]}: {line}\")"
      ],
      "metadata": {
        "colab": {
          "base_uri": "https://localhost:8080/"
        },
        "id": "-Ip6uHvme0Or",
        "outputId": "c1ec5033-0a0c-4698-e3c1-09fa832b4ddb"
      },
      "execution_count": null,
      "outputs": [
        {
          "output_type": "stream",
          "name": "stdout",
          "text": [
            "BACKGROUND: This RCT examined the efficacy of a manualized social intervention for children with HFASDs.\n",
            "METHODS: Participants were randomly assigned to treatment or wait-list conditions.\n",
            "METHODS: Treatment included instruction and therapeutic activities targeting social skills, face-emotion recognition, interest expansion, and interpretation of non-literal language.\n",
            "CONCLUSIONS: A response-cost program was applied to reduce problem behaviors and foster skills acquisition.\n",
            "RESULTS: Significant treatment effects were found for five of seven primary outcome measures (parent ratings and direct child measures).\n",
            "RESULTS: Secondary measures based on staff ratings (treatment group only) corroborated gains reported by parents.\n",
            "RESULTS: High levels of parent, child and staff satisfaction were reported, along with high levels of treatment fidelity.\n",
            "RESULTS: Standardized effect size estimates were primarily in the medium and large ranges and favored the treatment group.\n"
          ]
        }
      ]
    },
    {
      "cell_type": "code",
      "source": [
        ""
      ],
      "metadata": {
        "id": "X6fk4nUFe4cy"
      },
      "execution_count": null,
      "outputs": []
    }
  ]
}